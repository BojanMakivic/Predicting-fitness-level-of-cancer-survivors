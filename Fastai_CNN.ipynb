{
  "nbformat": 4,
  "nbformat_minor": 0,
  "metadata": {
    "colab": {
      "name": "Fastai_images.ipynb",
      "provenance": [],
      "collapsed_sections": [],
      "machine_shape": "hm",
      "authorship_tag": "ABX9TyMjo0ws7wyz2BQiEkxuYKXS",
      "include_colab_link": true
    },
    "kernelspec": {
      "name": "python3",
      "display_name": "Python 3"
    },
    "language_info": {
      "name": "python"
    },
    "accelerator": "GPU"
  },
  "cells": [
    {
      "cell_type": "markdown",
      "metadata": {
        "id": "view-in-github",
        "colab_type": "text"
      },
      "source": [
        "<a href=\"https://colab.research.google.com/github/BojanMakivic/Predicting-fitness-level-of-cancer-survivors/blob/master/Fastai_images.ipynb\" target=\"_parent\"><img src=\"https://colab.research.google.com/assets/colab-badge.svg\" alt=\"Open In Colab\"/></a>"
      ]
    },
    {
      "cell_type": "markdown",
      "metadata": {
        "id": "2Fg6e-6Tgr8N"
      },
      "source": [
        "# Update fastai library"
      ]
    },
    {
      "cell_type": "code",
      "metadata": {
        "id": "rwCq7G7DeSO8"
      },
      "source": [
        " !pip install fastai --upgrade"
      ],
      "execution_count": null,
      "outputs": []
    },
    {
      "cell_type": "markdown",
      "metadata": {
        "id": "j-cbK5bBg1g2"
      },
      "source": [
        "# Mount the google drive\n",
        "Here is link about how to mount google drive to Google Colab: https://towardsdatascience.com/downloading-datasets-into-google-drive-via-google-colab-bcb1b30b0166"
      ]
    },
    {
      "cell_type": "code",
      "metadata": {
        "colab": {
          "base_uri": "https://localhost:8080/"
        },
        "id": "OVWh0p_ieZrk",
        "outputId": "cf11e1a5-3b58-4d74-f6aa-c6a660b6f25b"
      },
      "source": [
        "from google.colab import drive\n",
        "drive.mount('/content/drive', force_remount=True)"
      ],
      "execution_count": null,
      "outputs": [
        {
          "output_type": "stream",
          "name": "stdout",
          "text": [
            "Mounted at /content/drive\n"
          ]
        }
      ]
    },
    {
      "cell_type": "markdown",
      "metadata": {
        "id": "q9xiHgZvg-YF"
      },
      "source": [
        "# Libraries"
      ]
    },
    {
      "cell_type": "code",
      "metadata": {
        "id": "1kmL9Z8PeZze"
      },
      "source": [
        "# Python ≥3.5 \n",
        "import sys\n",
        "assert sys.version_info >= (3, 5)\n",
        "\n",
        "# Scikit-Learn ≥0.20\n",
        "import sklearn\n",
        "assert sklearn.__version__ >= \"0.20\"\n",
        "\n",
        "# Common imports\n",
        "import numpy as np\n",
        "import pandas as pd\n",
        "\n",
        "# FastAi\n",
        "import fastai\n",
        "from fastai import *\n",
        "from fastai.vision.all import *\n",
        "from fastai.vision.data import *\n",
        "\n",
        "# PyTorch\n",
        "import torch\n",
        "\n",
        "# Figures plot\n",
        "%matplotlib inline\n",
        "import matplotlib as mpl\n",
        "import matplotlib.pyplot as plt\n",
        "mpl.rc('axes', labelsize=14)\n",
        "mpl.rc('xtick', labelsize=12)\n",
        "mpl.rc('ytick', labelsize=12)\n",
        "\n",
        "# Imbalanced data\n",
        "from collections import Counter\n",
        "from sklearn.datasets import make_classification\n",
        "from imblearn.over_sampling import SMOTE \n",
        "\n",
        "# Ignore warnings\n",
        "import warnings\n",
        "warnings.filterwarnings(action=\"ignore\", message=\"^internal gelsd\")"
      ],
      "execution_count": null,
      "outputs": []
    },
    {
      "cell_type": "code",
      "metadata": {
        "id": "rgVo7ouceZ2C"
      },
      "source": [
        "from google.colab import files\n",
        "import io\n",
        "\n",
        "df = pd.read_excel('/content/drive/MyDrive/Data.xlsx')\n",
        "df = pd.DataFrame(df)"
      ],
      "execution_count": null,
      "outputs": []
    },
    {
      "cell_type": "code",
      "metadata": {
        "id": "-4mqtEyceZ4x"
      },
      "source": [
        "df['Level']=np.where(df['Level']==\"Bad\",3,np.where(df['Level']==\"Moderate\",2,1))\n",
        "df['Sex']=np.where(df['Sex']==\"W\",0,1)"
      ],
      "execution_count": null,
      "outputs": []
    },
    {
      "cell_type": "code",
      "metadata": {
        "id": "C7PwQoKrE3Gy"
      },
      "source": [
        "#df"
      ],
      "execution_count": null,
      "outputs": []
    },
    {
      "cell_type": "code",
      "metadata": {
        "id": "JOuBUYmkeZ7d"
      },
      "source": [
        "# Function\n",
        "def bmi(bw,bh):\n",
        "    return bw/((bh/100)*(bh/100))"
      ],
      "execution_count": null,
      "outputs": []
    },
    {
      "cell_type": "code",
      "metadata": {
        "id": "fg5BcEmQeZ-D"
      },
      "source": [
        "# Adding a new column\n",
        "df['BMI']=bmi(df.iloc[:,2],df.iloc[:,3]) "
      ],
      "execution_count": null,
      "outputs": []
    },
    {
      "cell_type": "code",
      "metadata": {
        "id": "erNHxmMIeaAr"
      },
      "source": [
        "np.random.seed(42) \n",
        "del df['Norm']\n",
        "del df['Type']\n",
        "#del df['Level']\n",
        "del df['Wmax'] # continuous"
      ],
      "execution_count": null,
      "outputs": []
    },
    {
      "cell_type": "code",
      "metadata": {
        "id": "z5wac7R4eaDc"
      },
      "source": [
        "#np.array(df)"
      ],
      "execution_count": null,
      "outputs": []
    },
    {
      "cell_type": "markdown",
      "metadata": {
        "id": "Va2CgvDa_k3C"
      },
      "source": [
        "## PREPARING TRAINING AND TEST DATASET"
      ]
    },
    {
      "cell_type": "code",
      "metadata": {
        "id": "_HjtqNod_Ngt"
      },
      "source": [
        "from sklearn.model_selection import train_test_split\n",
        "\n",
        "train_labels = df[\"Level\"].copy()       # Save a copy of label variable\n",
        "train_sets = df.drop(\"Level\", axis=1)    # Drop label variable from training se"
      ],
      "execution_count": null,
      "outputs": []
    },
    {
      "cell_type": "code",
      "metadata": {
        "id": "4r9GuKNPlOZf"
      },
      "source": [
        "#train_labels"
      ],
      "execution_count": null,
      "outputs": []
    },
    {
      "cell_type": "code",
      "metadata": {
        "id": "bqPjVwgYO5g8",
        "colab": {
          "base_uri": "https://localhost:8080/"
        },
        "outputId": "cfa6a8f8-23d6-4b7a-af24-d8f4df53a1c1"
      },
      "source": [
        "np.array(train_sets)"
      ],
      "execution_count": null,
      "outputs": [
        {
          "output_type": "execute_result",
          "data": {
            "text/plain": [
              "array([[ 40.        ,   0.        ,  57.        , 165.        ,\n",
              "         20.93663912],\n",
              "       [ 51.        ,   0.        ,  63.        , 159.        ,\n",
              "         24.91990032],\n",
              "       [ 66.        ,   1.        ,  66.        , 165.        ,\n",
              "         24.24242424],\n",
              "       ...,\n",
              "       [ 65.        ,   0.        ,  63.        , 168.        ,\n",
              "         22.32142857],\n",
              "       [ 67.        ,   0.        ,  68.        , 163.        ,\n",
              "         25.59373706],\n",
              "       [ 53.        ,   0.        ,  89.        , 169.        ,\n",
              "         31.1613739 ]])"
            ]
          },
          "metadata": {},
          "execution_count": 119
        }
      ]
    },
    {
      "cell_type": "code",
      "metadata": {
        "id": "6D7tTKZE_Tsz"
      },
      "source": [
        "train_num = train_sets.to_numpy()\n",
        "#train_num"
      ],
      "execution_count": null,
      "outputs": []
    },
    {
      "cell_type": "code",
      "metadata": {
        "id": "scuxJO-e_Y9G"
      },
      "source": [
        "train_num = train_sets.drop([\"Sex\"], axis=1)  # Keep only numerical variables"
      ],
      "execution_count": null,
      "outputs": []
    },
    {
      "cell_type": "markdown",
      "metadata": {
        "id": "bNhoO3n0_mzw"
      },
      "source": [
        "## PIPELINE"
      ]
    },
    {
      "cell_type": "code",
      "metadata": {
        "id": "o8B3l5pO_Yp3"
      },
      "source": [
        "# Pipline to scale numerical variables and transform categorical variable (Sex) into binary\n",
        "\n",
        "from sklearn.pipeline import Pipeline\n",
        "from sklearn.preprocessing import StandardScaler\n",
        "from sklearn.preprocessing import MinMaxScaler\n",
        "\n",
        "pipeline = Pipeline([\n",
        "        ('std_scaler', MinMaxScaler()),])\n",
        "train_transf = pipeline.fit_transform(train_num)"
      ],
      "execution_count": null,
      "outputs": []
    },
    {
      "cell_type": "code",
      "metadata": {
        "id": "hoH5lUOIPkX9"
      },
      "source": [
        "#train_transf"
      ],
      "execution_count": null,
      "outputs": []
    },
    {
      "cell_type": "code",
      "metadata": {
        "id": "lwiW_y3-_qfm"
      },
      "source": [
        "from sklearn.preprocessing import OneHotEncoder\n",
        "from sklearn.compose import ColumnTransformer\n",
        "\n",
        "num_attribs = list(train_num) #train_num\n",
        "cat_attribs = [\"Sex\"]\n",
        "\n",
        "full_pipeline = ColumnTransformer([\n",
        "        (\"num\", pipeline, num_attribs),\n",
        "        (\"cat\", OneHotEncoder(), cat_attribs),])\n",
        "\n",
        "train_prepared = full_pipeline.fit_transform(train_sets)\n",
        "#train_prepared"
      ],
      "execution_count": null,
      "outputs": []
    },
    {
      "cell_type": "markdown",
      "metadata": {
        "id": "t3P0TrLahdTs"
      },
      "source": [
        "# Handling imbalanced datase with SMOTENC class."
      ]
    },
    {
      "cell_type": "markdown",
      "metadata": {
        "id": "ftGgv0r8h2yK"
      },
      "source": [
        "### The three classes of outcome variable are not equaly represented."
      ]
    },
    {
      "cell_type": "code",
      "metadata": {
        "id": "zpsfNxFy0jFt",
        "colab": {
          "base_uri": "https://localhost:8080/"
        },
        "outputId": "6eb41fba-c577-40bd-e3ca-f9a51a87183c"
      },
      "source": [
        "from imblearn.over_sampling import SMOTENC\n",
        "X, y = train_prepared, train_labels\n",
        "print('Original dataset shape %s' % Counter(y))\n",
        "\n",
        "sm = SMOTENC(random_state=42, categorical_features=[2, 1], k_neighbors=14)\n",
        "\n",
        "train_prepared, train_labels = sm.fit_resample(X, y)\n",
        "print('Resampled dataset shape %s' % Counter(train_labels))"
      ],
      "execution_count": null,
      "outputs": [
        {
          "output_type": "stream",
          "name": "stdout",
          "text": [
            "Original dataset shape Counter({1: 973, 2: 622, 3: 117})\n",
            "Resampled dataset shape Counter({1: 973, 2: 973, 3: 973})\n"
          ]
        }
      ]
    },
    {
      "cell_type": "code",
      "metadata": {
        "colab": {
          "base_uri": "https://localhost:8080/"
        },
        "id": "5yuZ5N4_PmD4",
        "outputId": "61f06893-55e5-41f3-c454-17bd735bc2dc"
      },
      "source": [
        "len(train_prepared)"
      ],
      "execution_count": null,
      "outputs": [
        {
          "output_type": "execute_result",
          "data": {
            "text/plain": [
              "2919"
            ]
          },
          "metadata": {},
          "execution_count": 136
        }
      ]
    },
    {
      "cell_type": "markdown",
      "metadata": {
        "id": "aj3t2N_5lzaR"
      },
      "source": [
        "# Creating Images and preparing for analysis"
      ]
    },
    {
      "cell_type": "markdown",
      "metadata": {
        "id": "kMPRt7P9iFnf"
      },
      "source": [
        "### Transforming outcome variable into images and storing them in the list."
      ]
    },
    {
      "cell_type": "code",
      "metadata": {
        "colab": {
          "base_uri": "https://localhost:8080/",
          "height": 145
        },
        "id": "faUBHiRCflu0",
        "outputId": "f70ffd17-a906-4852-d711-75c6542509ab"
      },
      "source": [
        "from PIL import Image\n",
        "\n",
        "list_labels = []\n",
        "\n",
        "labels = train_labels\n",
        "for i in labels:\n",
        "    img = Image.fromarray(np.array([[i]], dtype=np.uint16), 'L')\n",
        "    list_labels.append(img.resize((128,128)))\n",
        "list_labels[3]"
      ],
      "execution_count": null,
      "outputs": [
        {
          "output_type": "execute_result",
          "data": {
            "image/png": "[encoded data removed]",
            "text/plain": [
              "<PIL.Image.Image image mode=L size=128x128 at 0x7FB69EF10C50>"
            ]
          },
          "metadata": {},
          "execution_count": 137
        }
      ]
    },
    {
      "cell_type": "markdown",
      "metadata": {
        "id": "sFjw2n2miqol"
      },
      "source": [
        "### Transforming predictor variables into images and storing them in the list."
      ]
    },
    {
      "cell_type": "code",
      "metadata": {
        "colab": {
          "base_uri": "https://localhost:8080/",
          "height": 145
        },
        "id": "FuQD9zDgflxs",
        "outputId": "4afe5d7a-3436-44dc-e53c-d0b099f4bffc"
      },
      "source": [
        "np.random.seed(369)\n",
        "from PIL import Image\n",
        "import PIL\n",
        "import fastai\n",
        "\n",
        "list_train = []\n",
        "\n",
        "for i in train_prepared:\n",
        "    img = Image.fromarray(np.array([i]), 'L')\n",
        "    list_train.append(img.resize((128,128)))\n",
        "list_train[7]"
      ],
      "execution_count": null,
      "outputs": [
        {
          "output_type": "execute_result",
          "data": {
            "image/png": "[encoded data removed]",
            "text/plain": [
              "<PIL.Image.Image image mode=L size=128x128 at 0x7FB69EA74390>"
            ]
          },
          "metadata": {},
          "execution_count": 138
        }
      ]
    },
    {
      "cell_type": "code",
      "metadata": {
        "colab": {
          "base_uri": "https://localhost:8080/"
        },
        "id": "isOnthizLBcw",
        "outputId": "8f5c8df8-8f19-403e-f25d-ca3977918400"
      },
      "source": [
        "len(list_labels)"
      ],
      "execution_count": null,
      "outputs": [
        {
          "output_type": "execute_result",
          "data": {
            "text/plain": [
              "2919"
            ]
          },
          "metadata": {},
          "execution_count": 129
        }
      ]
    },
    {
      "cell_type": "markdown",
      "metadata": {
        "id": "RNGMTppbjlhg"
      },
      "source": [
        "Checking the first number of the image array and print it."
      ]
    },
    {
      "cell_type": "code",
      "metadata": {
        "colab": {
          "base_uri": "https://localhost:8080/"
        },
        "id": "zzf3AlL-ousq",
        "outputId": "ba511eb6-70c6-4345-e5e3-553f0d27ff66"
      },
      "source": [
        "sum(np.array(list_labels[4], dtype=np.uint16))[1]"
      ],
      "execution_count": null,
      "outputs": [
        {
          "output_type": "execute_result",
          "data": {
            "text/plain": [
              "128"
            ]
          },
          "metadata": {},
          "execution_count": 130
        }
      ]
    },
    {
      "cell_type": "markdown",
      "metadata": {
        "id": "wG4jXLAKliQ6"
      },
      "source": [
        "Creating save directory in the google drive, where the images will be stored"
      ]
    },
    {
      "cell_type": "code",
      "metadata": {
        "id": "VzvCRL8Yfl0F"
      },
      "source": [
        "save_dir = '/content/drive/MyDrive/Fastai_images'"
      ],
      "execution_count": null,
      "outputs": []
    },
    {
      "cell_type": "markdown",
      "metadata": {
        "id": "qgU6xGXLlvhc"
      },
      "source": [
        "With this while loop, the images created from predictor variables are matched with images created from response variable and stored with the name of matched response variable (Good, Moderate or Bad)."
      ]
    },
    {
      "cell_type": "code",
      "metadata": {
        "id": "5PXsXWhKeaQ3"
      },
      "source": [
        "#Saving images\n",
        "length = len(list_train)\n",
        "i = 0\n",
        "\n",
        "while i < length:\n",
        "    if sum(np.array(list_labels[i], dtype=np.uint16))[1]==128:\n",
        "        list_train[i].save(f'{save_dir}/1.Good/G_{i}.png')\n",
        "    elif sum(np.array(list_labels[i], dtype=np.uint16))[1]==384:\n",
        "        list_train[i].save(f'{save_dir}/3.Bad/B_{i}.png')\n",
        "    else:\n",
        "        list_train[i].save(f'{save_dir}/2.Moderate/M_{i}.png')\n",
        "    i += 1"
      ],
      "execution_count": null,
      "outputs": []
    },
    {
      "cell_type": "markdown",
      "metadata": {
        "id": "B9pAMsGSmv4Q"
      },
      "source": [
        "# Model"
      ]
    },
    {
      "cell_type": "code",
      "metadata": {
        "id": "ZG2wG9yJeaTb"
      },
      "source": [
        "dls = ImageDataLoaders.from_folder(\n",
        "    save_dir, get_image_files(save_dir), valid_pct=0.2, set_seed =42)"
      ],
      "execution_count": null,
      "outputs": []
    },
    {
      "cell_type": "code",
      "metadata": {
        "colab": {
          "base_uri": "https://localhost:8080/",
          "height": 536
        },
        "id": "JhfIrNvGCjv4",
        "outputId": "7e88db90-42e1-4210-f1f7-ba228c38dc8e"
      },
      "source": [
        "dls.show_batch()"
      ],
      "execution_count": null,
      "outputs": [
        {
          "output_type": "display_data",
          "data": {
            "image/png": "[encoded data removed]",
            "text/plain": [
              "<Figure size 648x648 with 9 Axes>"
            ]
          },
          "metadata": {
            "needs_background": "light"
          }
        }
      ]
    },
    {
      "cell_type": "code",
      "metadata": {
        "id": "9bUDdIWsCjyx"
      },
      "source": [
        "simple_net = nn.Sequential(\n",
        "    nn.Conv2d(10,10, kernel_size=5, padding=1), #nn.Linear\n",
        "    nn.ReLU(),\n",
        "    nn.Conv2d(40,64, kernel_size=5, padding=1), #nn.Linear\n",
        "    nn.ReLU()\n",
        "    #nn.Conv2d(80,128, kernel_size=5, padding=1), #nn.Linear\n",
        "    #nn.ReLU()\n",
        ")"
      ],
      "execution_count": null,
      "outputs": []
    },
    {
      "cell_type": "code",
      "metadata": {
        "id": "bfj7RVojCj12"
      },
      "source": [
        "learn = cnn_learner(dls, resnet18, simple_net,\n",
        "                metrics=[error_rate, accuracy,Precision(average='weighted'), Recall(average='weighted'), F1Score(average='weighted'), RocAuc(average='weighted')])"
      ],
      "execution_count": null,
      "outputs": []
    },
    {
      "cell_type": "code",
      "metadata": {
        "id": "ZlU6dGgjCj4T",
        "colab": {
          "base_uri": "https://localhost:8080/",
          "height": 290
        },
        "outputId": "c746c8a6-8ad3-4ef8-d14d-61798bdaa858"
      },
      "source": [
        "lr = learn.lr_find(suggest_funcs=(valley))\n"
      ],
      "execution_count": null,
      "outputs": [
        {
          "output_type": "display_data",
          "data": {
            "text/html": [
              ""
            ],
            "text/plain": [
              "<IPython.core.display.HTML object>"
            ]
          },
          "metadata": {}
        },
        {
          "output_type": "display_data",
          "data": {
            "image/png": "[encoded data removed]",
            "text/plain": [
              "<Figure size 432x288 with 1 Axes>"
            ]
          },
          "metadata": {
            "needs_background": "light"
          }
        }
      ]
    },
    {
      "cell_type": "code",
      "metadata": {
        "colab": {
          "base_uri": "https://localhost:8080/",
          "height": 207
        },
        "id": "6P35f74OCj7L",
        "outputId": "1b6df4bc-df52-419f-bcd5-a4b95880bc8c"
      },
      "source": [
        "learn.fine_tune(3, lr.valley)"
      ],
      "execution_count": null,
      "outputs": [
        {
          "output_type": "display_data",
          "data": {
            "text/html": [
              "<table border=\"1\" class=\"dataframe\">\n",
              "  <thead>\n",
              "    <tr style=\"text-align: left;\">\n",
              "      <th>epoch</th>\n",
              "      <th>train_loss</th>\n",
              "      <th>valid_loss</th>\n",
              "      <th>error_rate</th>\n",
              "      <th>accuracy</th>\n",
              "      <th>precision_score</th>\n",
              "      <th>recall_score</th>\n",
              "      <th>f1_score</th>\n",
              "      <th>roc_auc_score</th>\n",
              "      <th>time</th>\n",
              "    </tr>\n",
              "  </thead>\n",
              "  <tbody>\n",
              "    <tr>\n",
              "      <td>0</td>\n",
              "      <td>1.153441</td>\n",
              "      <td>1.012917</td>\n",
              "      <td>0.399657</td>\n",
              "      <td>0.600343</td>\n",
              "      <td>0.580553</td>\n",
              "      <td>0.600343</td>\n",
              "      <td>0.563177</td>\n",
              "      <td>0.736101</td>\n",
              "      <td>00:05</td>\n",
              "    </tr>\n",
              "  </tbody>\n",
              "</table>"
            ],
            "text/plain": [
              "<IPython.core.display.HTML object>"
            ]
          },
          "metadata": {}
        },
        {
          "output_type": "display_data",
          "data": {
            "text/html": [
              "<table border=\"1\" class=\"dataframe\">\n",
              "  <thead>\n",
              "    <tr style=\"text-align: left;\">\n",
              "      <th>epoch</th>\n",
              "      <th>train_loss</th>\n",
              "      <th>valid_loss</th>\n",
              "      <th>error_rate</th>\n",
              "      <th>accuracy</th>\n",
              "      <th>precision_score</th>\n",
              "      <th>recall_score</th>\n",
              "      <th>f1_score</th>\n",
              "      <th>roc_auc_score</th>\n",
              "      <th>time</th>\n",
              "    </tr>\n",
              "  </thead>\n",
              "  <tbody>\n",
              "    <tr>\n",
              "      <td>0</td>\n",
              "      <td>1.138435</td>\n",
              "      <td>0.997631</td>\n",
              "      <td>0.391081</td>\n",
              "      <td>0.608919</td>\n",
              "      <td>0.590420</td>\n",
              "      <td>0.608919</td>\n",
              "      <td>0.567374</td>\n",
              "      <td>0.752237</td>\n",
              "      <td>00:05</td>\n",
              "    </tr>\n",
              "    <tr>\n",
              "      <td>1</td>\n",
              "      <td>1.151981</td>\n",
              "      <td>0.971171</td>\n",
              "      <td>0.399657</td>\n",
              "      <td>0.600343</td>\n",
              "      <td>0.578033</td>\n",
              "      <td>0.600343</td>\n",
              "      <td>0.561027</td>\n",
              "      <td>0.748979</td>\n",
              "      <td>00:05</td>\n",
              "    </tr>\n",
              "    <tr>\n",
              "      <td>2</td>\n",
              "      <td>1.107815</td>\n",
              "      <td>0.979004</td>\n",
              "      <td>0.387650</td>\n",
              "      <td>0.612350</td>\n",
              "      <td>0.599788</td>\n",
              "      <td>0.612350</td>\n",
              "      <td>0.559364</td>\n",
              "      <td>0.751564</td>\n",
              "      <td>00:05</td>\n",
              "    </tr>\n",
              "  </tbody>\n",
              "</table>"
            ],
            "text/plain": [
              "<IPython.core.display.HTML object>"
            ]
          },
          "metadata": {}
        }
      ]
    },
    {
      "cell_type": "code",
      "metadata": {
        "id": "xd6b6SfX3S6i"
      },
      "source": [
        "# from sklearn.ensemble import RandomForestClassifier\n",
        "# from sklearn.metrics import precision_recall_fscore_support\n",
        "# from sklearn.model_selection import train_test_split\n",
        "# from sklearn.pipeline import Pipeline\n",
        "# from sklearn.preprocessing import StandardScaler\n",
        "# from sklearn.preprocessing import MinMaxScaler\n",
        "# from sklearn.preprocessing import OneHotEncoder\n",
        "# from sklearn.compose import ColumnTransformer\n",
        "# from imblearn.over_sampling import SMOTENC \n",
        "# src = []\n",
        "\n",
        "# for i in range(2,23):\n",
        "#   sm = SMOTENC(random_state=42, categorical_features=[2, 1], k_neighbors=i, n_jobs=-1)\n",
        "#   train_prepared, train_labels = sm.fit_resample(train_prepared, train_labels)\n",
        "#   dls = ImageDataLoaders.from_folder(\n",
        "#       save_dir, get_image_files(save_dir), valid_pct=0.2, set_seed =42)\n",
        "#   simple_net = nn.Sequential(\n",
        "#       nn.Conv2d(10,10, kernel_size=5, padding=1), #nn.Linear\n",
        "#       nn.ReLU(),\n",
        "#       nn.Conv2d(40,64, kernel_size=5, padding=1), #nn.Linear\n",
        "#       nn.ReLU() \n",
        "#   )\n",
        "#   learn = cnn_learner(dls, resnet18, simple_net,\n",
        "#                     metrics=[error_rate, accuracy,Precision(average='weighted'), Recall(average='weighted'), F1Score(average='weighted'), RocAuc(average='weighted')])\n",
        "#   lr = learn.lr_find(suggest_funcs=(valley))\n",
        "#   learn.fine_tune(3, lr.valley)"
      ],
      "execution_count": null,
      "outputs": []
    },
    {
      "cell_type": "markdown",
      "metadata": {
        "id": "a4A9vLB9m4aK"
      },
      "source": [
        "# Confusion matrix"
      ]
    },
    {
      "cell_type": "code",
      "metadata": {
        "colab": {
          "base_uri": "https://localhost:8080/",
          "height": 297
        },
        "id": "ECx-LceFCj-K",
        "outputId": "79573899-4a0a-4b46-ba0e-9f6efd556f57"
      },
      "source": [
        "from sklearn.metrics import confusion_matrix\n",
        "import itertools\n",
        "\n",
        "interp = ClassificationInterpretation.from_learner(learn)\n",
        "interp.plot_confusion_matrix(normalize=all)\n",
        "\n",
        "plt.colorbar()\n",
        "plt.xticks(rotation=45)    \n",
        "plt.tight_layout()\n",
        "plt.ylabel('True label')\n",
        "plt.xlabel('Predicted label')\n",
        "plt.show()"
      ],
      "execution_count": null,
      "outputs": [
        {
          "output_type": "display_data",
          "data": {
            "text/html": [
              ""
            ],
            "text/plain": [
              "<IPython.core.display.HTML object>"
            ]
          },
          "metadata": {}
        },
        {
          "output_type": "display_data",
          "data": {
            "image/png": "[encoded data removed]",
            "text/plain": [
              "<Figure size 432x288 with 2 Axes>"
            ]
          },
          "metadata": {
            "needs_background": "light"
          }
        }
      ]
    }
  ]
}
