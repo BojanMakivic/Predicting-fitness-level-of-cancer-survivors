{
  "nbformat": 4,
  "nbformat_minor": 0,
  "metadata": {
    "accelerator": "GPU",
    "colab": {
      "name": "TF, sklearn_cont.ipynb",
      "provenance": [],
      "collapsed_sections": [],
      "machine_shape": "hm",
      "include_colab_link": true
    },
    "interpreter": {
      "hash": "c0fc5c77b0f452b0db40c8ce8e3525b1b21db35c1e6cd22759a1f9a55688fbd9"
    },
    "kernelspec": {
      "display_name": "Python 3.8.5 64-bit ('base': conda)",
      "name": "python3"
    },
    "language_info": {
      "codemirror_mode": {
        "name": "ipython",
        "version": 3
      },
      "file_extension": ".py",
      "mimetype": "text/x-python",
      "name": "python",
      "nbconvert_exporter": "python",
      "pygments_lexer": "ipython3",
      "version": "3.8.5"
    }
  },
  "cells": [
    {
      "cell_type": "markdown",
      "metadata": {
        "id": "view-in-github",
        "colab_type": "text"
      },
      "source": [
        "<a href=\"https://colab.research.google.com/github/BojanMakivic/Predicting-fitness-level-of-cancer-survivors/blob/master/TF%2C_sklearn_cont.ipynb\" target=\"_parent\"><img src=\"https://colab.research.google.com/assets/colab-badge.svg\" alt=\"Open In Colab\"/></a>"
      ]
    },
    {
      "cell_type": "markdown",
      "metadata": {
        "id": "5WiligzjBC7g"
      },
      "source": [
        "# TF, sklearn continuous model"
      ]
    },
    {
      "cell_type": "markdown",
      "metadata": {
        "id": "iYe-l3WN7u4c"
      },
      "source": [
        "# Mount the google drive"
      ]
    },
    {
      "cell_type": "code",
      "metadata": {
        "colab": {
          "base_uri": "https://localhost:8080/"
        },
        "id": "BvoWhRFXAL0-",
        "outputId": "04b75ce0-6e07-4897-9a2e-bb1e6286bd98"
      },
      "source": [
        "from google.colab import drive\n",
        "drive.mount('/content/drive')"
      ],
      "execution_count": 1,
      "outputs": [
        {
          "output_type": "stream",
          "name": "stdout",
          "text": [
            "Mounted at /content/drive\n"
          ]
        }
      ]
    },
    {
      "cell_type": "code",
      "metadata": {
        "id": "jwdPFniWBC7h"
      },
      "source": [
        "# Python ≥3.5 \n",
        "import sys\n",
        "assert sys.version_info >= (3, 5)\n",
        "\n",
        "# Scikit-Learn ≥0.20\n",
        "import sklearn\n",
        "assert sklearn.__version__ >= \"0.20\"\n",
        "\n",
        "# Common imports\n",
        "import numpy as np\n",
        "import pandas as pd\n",
        "\n",
        "# Figures plot\n",
        "%matplotlib inline\n",
        "import matplotlib as mpl\n",
        "import matplotlib.pyplot as plt\n",
        "mpl.rc('axes', labelsize=14)\n",
        "mpl.rc('xtick', labelsize=12)\n",
        "mpl.rc('ytick', labelsize=12)\n",
        "\n",
        "# Ignore warnings\n",
        "import warnings\n",
        "warnings.filterwarnings(action=\"ignore\", message=\"^internal gelsd\")"
      ],
      "execution_count": 2,
      "outputs": []
    },
    {
      "cell_type": "markdown",
      "metadata": {
        "id": "0LrjAjNOBC7i"
      },
      "source": [
        "# GUI to import data file (xlsx)"
      ]
    },
    {
      "cell_type": "code",
      "metadata": {
        "id": "YJInrnp6BC7j"
      },
      "source": [
        "from google.colab import files\n",
        "import io\n",
        "#uploaded = files.upload() \n",
        "#df = pd.read_excel(io.BytesIO(uploaded['Data.xlsx']))\n",
        "\n",
        "df = pd.read_excel('/content/drive/MyDrive/Data.xlsx')\n",
        "df = pd.DataFrame(df)"
      ],
      "execution_count": 3,
      "outputs": []
    },
    {
      "cell_type": "code",
      "metadata": {
        "colab": {
          "base_uri": "https://localhost:8080/"
        },
        "id": "YBC6KfXyBC7j",
        "outputId": "55417e0e-fe6a-4307-a6f0-553183bfd846"
      },
      "source": [
        "df.info() # BW nad BH are standing for body weight and body height, respectively"
      ],
      "execution_count": null,
      "outputs": [
        {
          "output_type": "stream",
          "name": "stdout",
          "text": [
            "<class 'pandas.core.frame.DataFrame'>\n",
            "RangeIndex: 1712 entries, 0 to 1711\n",
            "Data columns (total 8 columns):\n",
            " #   Column  Non-Null Count  Dtype  \n",
            "---  ------  --------------  -----  \n",
            " 0   Age     1712 non-null   int64  \n",
            " 1   Gender  1712 non-null   object \n",
            " 2   BW      1712 non-null   float64\n",
            " 3   BH      1712 non-null   int64  \n",
            " 4   Wmax    1712 non-null   int64  \n",
            " 5   Norm    1712 non-null   float64\n",
            " 6   Level   1712 non-null   object \n",
            " 7   Type    1712 non-null   object \n",
            "dtypes: float64(2), int64(3), object(3)\n",
            "memory usage: 107.1+ KB\n"
          ]
        }
      ]
    },
    {
      "cell_type": "code",
      "metadata": {
        "colab": {
          "base_uri": "https://localhost:8080/",
          "height": 342
        },
        "id": "xp7rn9pTBC7l",
        "outputId": "31de14d6-939d-4a97-f70c-230d4a069ad7"
      },
      "source": [
        "# Histogram of gender distribution\n",
        "df['Gender'].hist(label=int,align='mid',color=['green'])\n",
        "df['Level'].value_counts()"
      ],
      "execution_count": 4,
      "outputs": [
        {
          "output_type": "execute_result",
          "data": {
            "text/plain": [
              "Good      973\n",
              "Middle    622\n",
              "Bad       117\n",
              "Name: Level, dtype: int64"
            ]
          },
          "metadata": {},
          "execution_count": 4
        },
        {
          "output_type": "display_data",
          "data": {
            "image/png": "[encoded data removed]",
            "text/plain": [
              "<Figure size 432x288 with 1 Axes>"
            ]
          },
          "metadata": {
            "needs_background": "light"
          }
        }
      ]
    },
    {
      "cell_type": "markdown",
      "metadata": {
        "id": "0lqZ-RUOBC7l"
      },
      "source": [
        "## Writing a function for BMI calculation and adding a new column\n",
        "https://en.wikipedia.org/wiki/Body_mass_index"
      ]
    },
    {
      "cell_type": "code",
      "metadata": {
        "id": "NCBaH1OrBC7m"
      },
      "source": [
        "# Function\n",
        "def bmi(bw,bh):\n",
        "    return bw/((bh/100)*(bh/100))"
      ],
      "execution_count": 5,
      "outputs": []
    },
    {
      "cell_type": "code",
      "metadata": {
        "id": "R7d1EZB4BC7m"
      },
      "source": [
        "# Adding a new column\n",
        "df['BMI']=bmi(df.iloc[:,2],df.iloc[:,3]) "
      ],
      "execution_count": 6,
      "outputs": []
    },
    {
      "cell_type": "code",
      "metadata": {
        "colab": {
          "base_uri": "https://localhost:8080/",
          "height": 300
        },
        "id": "Ji_o9BehBC7n",
        "outputId": "a248eeb1-9426-4153-eaa2-9e18f2fcf9ed"
      },
      "source": [
        "#df.loc[df['Gender'] == 'W'].describe()\n",
        "df.describe()"
      ],
      "execution_count": 7,
      "outputs": [
        {
          "output_type": "execute_result",
          "data": {
            "text/html": [
              "<div>\n",
              "<style scoped>\n",
              "    .dataframe tbody tr th:only-of-type {\n",
              "        vertical-align: middle;\n",
              "    }\n",
              "\n",
              "    .dataframe tbody tr th {\n",
              "        vertical-align: top;\n",
              "    }\n",
              "\n",
              "    .dataframe thead th {\n",
              "        text-align: right;\n",
              "    }\n",
              "</style>\n",
              "<table border=\"1\" class=\"dataframe\">\n",
              "  <thead>\n",
              "    <tr style=\"text-align: right;\">\n",
              "      <th></th>\n",
              "      <th>Age</th>\n",
              "      <th>BW</th>\n",
              "      <th>BH</th>\n",
              "      <th>Wmax</th>\n",
              "      <th>Norm</th>\n",
              "      <th>BMI</th>\n",
              "    </tr>\n",
              "  </thead>\n",
              "  <tbody>\n",
              "    <tr>\n",
              "      <th>count</th>\n",
              "      <td>1712.000000</td>\n",
              "      <td>1712.000000</td>\n",
              "      <td>1712.000000</td>\n",
              "      <td>1712.000000</td>\n",
              "      <td>1712.000000</td>\n",
              "      <td>1712.000000</td>\n",
              "    </tr>\n",
              "    <tr>\n",
              "      <th>mean</th>\n",
              "      <td>55.765771</td>\n",
              "      <td>75.929030</td>\n",
              "      <td>168.342874</td>\n",
              "      <td>118.494743</td>\n",
              "      <td>85.097715</td>\n",
              "      <td>26.726015</td>\n",
              "    </tr>\n",
              "    <tr>\n",
              "      <th>std</th>\n",
              "      <td>10.930445</td>\n",
              "      <td>16.636734</td>\n",
              "      <td>8.964106</td>\n",
              "      <td>41.874907</td>\n",
              "      <td>23.719701</td>\n",
              "      <td>5.137146</td>\n",
              "    </tr>\n",
              "    <tr>\n",
              "      <th>min</th>\n",
              "      <td>18.000000</td>\n",
              "      <td>38.000000</td>\n",
              "      <td>136.000000</td>\n",
              "      <td>26.000000</td>\n",
              "      <td>19.620253</td>\n",
              "      <td>15.570934</td>\n",
              "    </tr>\n",
              "    <tr>\n",
              "      <th>25%</th>\n",
              "      <td>49.000000</td>\n",
              "      <td>63.000000</td>\n",
              "      <td>162.000000</td>\n",
              "      <td>88.000000</td>\n",
              "      <td>68.965517</td>\n",
              "      <td>23.183603</td>\n",
              "    </tr>\n",
              "    <tr>\n",
              "      <th>50%</th>\n",
              "      <td>56.000000</td>\n",
              "      <td>73.500000</td>\n",
              "      <td>168.000000</td>\n",
              "      <td>112.000000</td>\n",
              "      <td>84.274745</td>\n",
              "      <td>25.884072</td>\n",
              "    </tr>\n",
              "    <tr>\n",
              "      <th>75%</th>\n",
              "      <td>62.000000</td>\n",
              "      <td>86.000000</td>\n",
              "      <td>174.000000</td>\n",
              "      <td>141.000000</td>\n",
              "      <td>100.934829</td>\n",
              "      <td>29.666548</td>\n",
              "    </tr>\n",
              "    <tr>\n",
              "      <th>max</th>\n",
              "      <td>88.000000</td>\n",
              "      <td>143.000000</td>\n",
              "      <td>200.000000</td>\n",
              "      <td>327.000000</td>\n",
              "      <td>175.652174</td>\n",
              "      <td>49.480969</td>\n",
              "    </tr>\n",
              "  </tbody>\n",
              "</table>\n",
              "</div>"
            ],
            "text/plain": [
              "               Age           BW  ...         Norm          BMI\n",
              "count  1712.000000  1712.000000  ...  1712.000000  1712.000000\n",
              "mean     55.765771    75.929030  ...    85.097715    26.726015\n",
              "std      10.930445    16.636734  ...    23.719701     5.137146\n",
              "min      18.000000    38.000000  ...    19.620253    15.570934\n",
              "25%      49.000000    63.000000  ...    68.965517    23.183603\n",
              "50%      56.000000    73.500000  ...    84.274745    25.884072\n",
              "75%      62.000000    86.000000  ...   100.934829    29.666548\n",
              "max      88.000000   143.000000  ...   175.652174    49.480969\n",
              "\n",
              "[8 rows x 6 columns]"
            ]
          },
          "metadata": {},
          "execution_count": 7
        }
      ]
    },
    {
      "cell_type": "markdown",
      "metadata": {
        "id": "uTuPeR_LBC7o"
      },
      "source": [
        "## Histogram distribution of each attribute"
      ]
    },
    {
      "cell_type": "code",
      "metadata": {
        "colab": {
          "base_uri": "https://localhost:8080/",
          "height": 882
        },
        "id": "uoJVR55GBC7o",
        "outputId": "bcec57f2-e82a-44cc-b32d-33418d1a8b3f"
      },
      "source": [
        "df.hist(bins=10, figsize=(15,15))\n",
        "plt.show()"
      ],
      "execution_count": 8,
      "outputs": [
        {
          "output_type": "display_data",
          "data": {
            "image/png": "[encoded data removed]",
            "text/plain": [
              "<Figure size 1080x1080 with 6 Axes>"
            ]
          },
          "metadata": {
            "needs_background": "light"
          }
        }
      ]
    },
    {
      "cell_type": "code",
      "metadata": {
        "id": "Rh3m5rspBC7o"
      },
      "source": [
        "np.random.seed(42) # To ensure the repeatability of train/test results. It means that every time we run models the train/test samples will be same\n",
        "del df['Norm']\n",
        "del df['Type']\n",
        "del df['Level']\n",
        "#del df['Gender']\n",
        "#del df['BW']\n",
        "#del df['BMI']\n",
        "#del df['Wmax'] # continuous"
      ],
      "execution_count": 9,
      "outputs": []
    },
    {
      "cell_type": "code",
      "metadata": {
        "colab": {
          "base_uri": "https://localhost:8080/",
          "height": 424
        },
        "id": "EJ8fsibYZ84K",
        "outputId": "0f64989a-58dc-46c0-edca-c173fff3ad0e"
      },
      "source": [
        "df"
      ],
      "execution_count": 10,
      "outputs": [
        {
          "output_type": "execute_result",
          "data": {
            "text/html": [
              "<div>\n",
              "<style scoped>\n",
              "    .dataframe tbody tr th:only-of-type {\n",
              "        vertical-align: middle;\n",
              "    }\n",
              "\n",
              "    .dataframe tbody tr th {\n",
              "        vertical-align: top;\n",
              "    }\n",
              "\n",
              "    .dataframe thead th {\n",
              "        text-align: right;\n",
              "    }\n",
              "</style>\n",
              "<table border=\"1\" class=\"dataframe\">\n",
              "  <thead>\n",
              "    <tr style=\"text-align: right;\">\n",
              "      <th></th>\n",
              "      <th>Age</th>\n",
              "      <th>Gender</th>\n",
              "      <th>BW</th>\n",
              "      <th>BH</th>\n",
              "      <th>Wmax</th>\n",
              "      <th>BMI</th>\n",
              "    </tr>\n",
              "  </thead>\n",
              "  <tbody>\n",
              "    <tr>\n",
              "      <th>0</th>\n",
              "      <td>40</td>\n",
              "      <td>W</td>\n",
              "      <td>57.0</td>\n",
              "      <td>165</td>\n",
              "      <td>130</td>\n",
              "      <td>20.936639</td>\n",
              "    </tr>\n",
              "    <tr>\n",
              "      <th>1</th>\n",
              "      <td>51</td>\n",
              "      <td>W</td>\n",
              "      <td>63.0</td>\n",
              "      <td>159</td>\n",
              "      <td>131</td>\n",
              "      <td>24.919900</td>\n",
              "    </tr>\n",
              "    <tr>\n",
              "      <th>2</th>\n",
              "      <td>66</td>\n",
              "      <td>M</td>\n",
              "      <td>66.0</td>\n",
              "      <td>165</td>\n",
              "      <td>118</td>\n",
              "      <td>24.242424</td>\n",
              "    </tr>\n",
              "    <tr>\n",
              "      <th>3</th>\n",
              "      <td>66</td>\n",
              "      <td>W</td>\n",
              "      <td>86.0</td>\n",
              "      <td>155</td>\n",
              "      <td>75</td>\n",
              "      <td>35.796046</td>\n",
              "    </tr>\n",
              "    <tr>\n",
              "      <th>4</th>\n",
              "      <td>72</td>\n",
              "      <td>M</td>\n",
              "      <td>72.0</td>\n",
              "      <td>170</td>\n",
              "      <td>105</td>\n",
              "      <td>24.913495</td>\n",
              "    </tr>\n",
              "    <tr>\n",
              "      <th>...</th>\n",
              "      <td>...</td>\n",
              "      <td>...</td>\n",
              "      <td>...</td>\n",
              "      <td>...</td>\n",
              "      <td>...</td>\n",
              "      <td>...</td>\n",
              "    </tr>\n",
              "    <tr>\n",
              "      <th>1707</th>\n",
              "      <td>55</td>\n",
              "      <td>M</td>\n",
              "      <td>63.0</td>\n",
              "      <td>163</td>\n",
              "      <td>87</td>\n",
              "      <td>23.711845</td>\n",
              "    </tr>\n",
              "    <tr>\n",
              "      <th>1708</th>\n",
              "      <td>57</td>\n",
              "      <td>W</td>\n",
              "      <td>71.0</td>\n",
              "      <td>164</td>\n",
              "      <td>57</td>\n",
              "      <td>26.397977</td>\n",
              "    </tr>\n",
              "    <tr>\n",
              "      <th>1709</th>\n",
              "      <td>65</td>\n",
              "      <td>W</td>\n",
              "      <td>63.0</td>\n",
              "      <td>168</td>\n",
              "      <td>112</td>\n",
              "      <td>22.321429</td>\n",
              "    </tr>\n",
              "    <tr>\n",
              "      <th>1710</th>\n",
              "      <td>67</td>\n",
              "      <td>W</td>\n",
              "      <td>68.0</td>\n",
              "      <td>163</td>\n",
              "      <td>84</td>\n",
              "      <td>25.593737</td>\n",
              "    </tr>\n",
              "    <tr>\n",
              "      <th>1711</th>\n",
              "      <td>53</td>\n",
              "      <td>W</td>\n",
              "      <td>89.0</td>\n",
              "      <td>169</td>\n",
              "      <td>175</td>\n",
              "      <td>31.161374</td>\n",
              "    </tr>\n",
              "  </tbody>\n",
              "</table>\n",
              "<p>1712 rows × 6 columns</p>\n",
              "</div>"
            ],
            "text/plain": [
              "      Age Gender    BW   BH  Wmax        BMI\n",
              "0      40      W  57.0  165   130  20.936639\n",
              "1      51      W  63.0  159   131  24.919900\n",
              "2      66      M  66.0  165   118  24.242424\n",
              "3      66      W  86.0  155    75  35.796046\n",
              "4      72      M  72.0  170   105  24.913495\n",
              "...   ...    ...   ...  ...   ...        ...\n",
              "1707   55      M  63.0  163    87  23.711845\n",
              "1708   57      W  71.0  164    57  26.397977\n",
              "1709   65      W  63.0  168   112  22.321429\n",
              "1710   67      W  68.0  163    84  25.593737\n",
              "1711   53      W  89.0  169   175  31.161374\n",
              "\n",
              "[1712 rows x 6 columns]"
            ]
          },
          "metadata": {},
          "execution_count": 10
        }
      ]
    },
    {
      "cell_type": "code",
      "metadata": {
        "id": "8AhoP6b8QS2e"
      },
      "source": [
        "#df=df.loc[df['Type'] == 'Brustkrebs']\n",
        "#df=df.loc[df['Gender'] == 'W']\n",
        "#df"
      ],
      "execution_count": null,
      "outputs": []
    },
    {
      "cell_type": "markdown",
      "metadata": {
        "id": "C_NlQW_QBC7p"
      },
      "source": [
        "# PREPARING TRAINING AND TEST SET"
      ]
    },
    {
      "cell_type": "code",
      "metadata": {
        "id": "yS6wKdgHBC7p"
      },
      "source": [
        "## CONTINUOUS\n",
        "\n",
        "from sklearn.model_selection import train_test_split\n",
        "\n",
        "train_set, test_set = train_test_split(df, test_size=0.2, random_state=42)\n",
        "train_labels = train_set[\"Wmax\"].copy()       # Save a copy of label variable\n",
        "train_set = train_set.drop(\"Wmax\", axis=1)    # Drop label variable from training set"
      ],
      "execution_count": 11,
      "outputs": []
    },
    {
      "cell_type": "code",
      "metadata": {
        "colab": {
          "base_uri": "https://localhost:8080/"
        },
        "id": "SI8WdMiOBC7p",
        "outputId": "34cdea92-3de9-4d82-b62e-567aa4fc44e6"
      },
      "source": [
        "train_num = train_set.to_numpy()\n",
        "train_num"
      ],
      "execution_count": 12,
      "outputs": [
        {
          "output_type": "execute_result",
          "data": {
            "text/plain": [
              "array([[54, 'W', 51.0, 168, 18.069727891156464],\n",
              "       [63, 'M', 84.0, 171, 28.726787729557817],\n",
              "       [61, 'M', 84.0, 170, 29.065743944636683],\n",
              "       ...,\n",
              "       [71, 'W', 77.0, 160, 30.078124999999993],\n",
              "       [59, 'W', 72.0, 175, 23.510204081632654],\n",
              "       [55, 'W', 73.0, 168, 25.86451247165533]], dtype=object)"
            ]
          },
          "metadata": {},
          "execution_count": 12
        }
      ]
    },
    {
      "cell_type": "code",
      "metadata": {
        "colab": {
          "base_uri": "https://localhost:8080/",
          "height": 424
        },
        "id": "W3TtXZnaBC7q",
        "outputId": "68c2ce64-5a20-4cdd-c14e-2ce2dfebb810"
      },
      "source": [
        "train_num = train_set.drop([\"Gender\"], axis=1)  # Keep only numerical variables\n",
        "train_num"
      ],
      "execution_count": 13,
      "outputs": [
        {
          "output_type": "execute_result",
          "data": {
            "text/html": [
              "<div>\n",
              "<style scoped>\n",
              "    .dataframe tbody tr th:only-of-type {\n",
              "        vertical-align: middle;\n",
              "    }\n",
              "\n",
              "    .dataframe tbody tr th {\n",
              "        vertical-align: top;\n",
              "    }\n",
              "\n",
              "    .dataframe thead th {\n",
              "        text-align: right;\n",
              "    }\n",
              "</style>\n",
              "<table border=\"1\" class=\"dataframe\">\n",
              "  <thead>\n",
              "    <tr style=\"text-align: right;\">\n",
              "      <th></th>\n",
              "      <th>Age</th>\n",
              "      <th>BW</th>\n",
              "      <th>BH</th>\n",
              "      <th>BMI</th>\n",
              "    </tr>\n",
              "  </thead>\n",
              "  <tbody>\n",
              "    <tr>\n",
              "      <th>408</th>\n",
              "      <td>54</td>\n",
              "      <td>51.0</td>\n",
              "      <td>168</td>\n",
              "      <td>18.069728</td>\n",
              "    </tr>\n",
              "    <tr>\n",
              "      <th>1357</th>\n",
              "      <td>63</td>\n",
              "      <td>84.0</td>\n",
              "      <td>171</td>\n",
              "      <td>28.726788</td>\n",
              "    </tr>\n",
              "    <tr>\n",
              "      <th>518</th>\n",
              "      <td>61</td>\n",
              "      <td>84.0</td>\n",
              "      <td>170</td>\n",
              "      <td>29.065744</td>\n",
              "    </tr>\n",
              "    <tr>\n",
              "      <th>1111</th>\n",
              "      <td>62</td>\n",
              "      <td>63.0</td>\n",
              "      <td>164</td>\n",
              "      <td>23.423557</td>\n",
              "    </tr>\n",
              "    <tr>\n",
              "      <th>538</th>\n",
              "      <td>76</td>\n",
              "      <td>65.0</td>\n",
              "      <td>148</td>\n",
              "      <td>29.674945</td>\n",
              "    </tr>\n",
              "    <tr>\n",
              "      <th>...</th>\n",
              "      <td>...</td>\n",
              "      <td>...</td>\n",
              "      <td>...</td>\n",
              "      <td>...</td>\n",
              "    </tr>\n",
              "    <tr>\n",
              "      <th>1130</th>\n",
              "      <td>49</td>\n",
              "      <td>87.0</td>\n",
              "      <td>178</td>\n",
              "      <td>27.458654</td>\n",
              "    </tr>\n",
              "    <tr>\n",
              "      <th>1294</th>\n",
              "      <td>53</td>\n",
              "      <td>67.0</td>\n",
              "      <td>159</td>\n",
              "      <td>26.502116</td>\n",
              "    </tr>\n",
              "    <tr>\n",
              "      <th>860</th>\n",
              "      <td>71</td>\n",
              "      <td>77.0</td>\n",
              "      <td>160</td>\n",
              "      <td>30.078125</td>\n",
              "    </tr>\n",
              "    <tr>\n",
              "      <th>1459</th>\n",
              "      <td>59</td>\n",
              "      <td>72.0</td>\n",
              "      <td>175</td>\n",
              "      <td>23.510204</td>\n",
              "    </tr>\n",
              "    <tr>\n",
              "      <th>1126</th>\n",
              "      <td>55</td>\n",
              "      <td>73.0</td>\n",
              "      <td>168</td>\n",
              "      <td>25.864512</td>\n",
              "    </tr>\n",
              "  </tbody>\n",
              "</table>\n",
              "<p>1369 rows × 4 columns</p>\n",
              "</div>"
            ],
            "text/plain": [
              "      Age    BW   BH        BMI\n",
              "408    54  51.0  168  18.069728\n",
              "1357   63  84.0  171  28.726788\n",
              "518    61  84.0  170  29.065744\n",
              "1111   62  63.0  164  23.423557\n",
              "538    76  65.0  148  29.674945\n",
              "...   ...   ...  ...        ...\n",
              "1130   49  87.0  178  27.458654\n",
              "1294   53  67.0  159  26.502116\n",
              "860    71  77.0  160  30.078125\n",
              "1459   59  72.0  175  23.510204\n",
              "1126   55  73.0  168  25.864512\n",
              "\n",
              "[1369 rows x 4 columns]"
            ]
          },
          "metadata": {},
          "execution_count": 13
        }
      ]
    },
    {
      "cell_type": "markdown",
      "metadata": {
        "id": "aAefdJxuBC7q"
      },
      "source": [
        "# PIPELINE"
      ]
    },
    {
      "cell_type": "code",
      "metadata": {
        "id": "z5wQ4einBC7q"
      },
      "source": [
        "# Pipline to scale numerical variables and transform categorical variable (gender) into binary\n",
        "\n",
        "from sklearn.pipeline import Pipeline\n",
        "from sklearn.preprocessing import StandardScaler\n",
        "from sklearn.preprocessing import MinMaxScaler\n",
        "\n",
        "pipeline = Pipeline([\n",
        "        ('std_scaler', MinMaxScaler()),])\n",
        "train_transf = pipeline.fit_transform(train_num)"
      ],
      "execution_count": 14,
      "outputs": []
    },
    {
      "cell_type": "code",
      "metadata": {
        "colab": {
          "base_uri": "https://localhost:8080/"
        },
        "id": "Zz5hUSFPBC7q",
        "outputId": "bb1c41eb-61ad-4883-baa9-c655bc4c7cbf"
      },
      "source": [
        "train_transf # Only numerical variables were scaled (Age, BW, BH and BMI)"
      ],
      "execution_count": 15,
      "outputs": [
        {
          "output_type": "execute_result",
          "data": {
            "text/plain": [
              "array([[0.51428571, 0.12380952, 0.5       , 0.07368891],\n",
              "       [0.64285714, 0.43809524, 0.546875  , 0.38796343],\n",
              "       [0.61428571, 0.43809524, 0.53125   , 0.39795918],\n",
              "       ...,\n",
              "       [0.75714286, 0.37142857, 0.375     , 0.42781409],\n",
              "       [0.58571429, 0.32380952, 0.609375  , 0.23412745],\n",
              "       [0.52857143, 0.33333333, 0.5       , 0.30355552]])"
            ]
          },
          "metadata": {},
          "execution_count": 15
        }
      ]
    },
    {
      "cell_type": "code",
      "metadata": {
        "id": "eU6arJ_BBC7r"
      },
      "source": [
        "from sklearn.preprocessing import OneHotEncoder\n",
        "from sklearn.compose import ColumnTransformer\n",
        "\n",
        "num_attribs = list(train_num) #train_num\n",
        "cat_attribs = [\"Gender\"]\n",
        "\n",
        "full_pipeline = ColumnTransformer([\n",
        "        (\"num\", pipeline, num_attribs),\n",
        "        (\"cat\", OneHotEncoder(), cat_attribs),])\n",
        "\n",
        "train_prepared = full_pipeline.fit_transform(train_set) # Training set is ready for use"
      ],
      "execution_count": 16,
      "outputs": []
    },
    {
      "cell_type": "code",
      "metadata": {
        "colab": {
          "base_uri": "https://localhost:8080/"
        },
        "id": "EQPVzWWvBC7r",
        "outputId": "7368408e-6aff-497c-e235-86e40ec24d53"
      },
      "source": [
        "train_prepared # Numerical and categorical variables are scaled"
      ],
      "execution_count": 17,
      "outputs": [
        {
          "output_type": "execute_result",
          "data": {
            "text/plain": [
              "array([[0.51428571, 0.12380952, 0.5       , 0.07368891, 0.        ,\n",
              "        1.        ],\n",
              "       [0.64285714, 0.43809524, 0.546875  , 0.38796343, 1.        ,\n",
              "        0.        ],\n",
              "       [0.61428571, 0.43809524, 0.53125   , 0.39795918, 1.        ,\n",
              "        0.        ],\n",
              "       ...,\n",
              "       [0.75714286, 0.37142857, 0.375     , 0.42781409, 0.        ,\n",
              "        1.        ],\n",
              "       [0.58571429, 0.32380952, 0.609375  , 0.23412745, 0.        ,\n",
              "        1.        ],\n",
              "       [0.52857143, 0.33333333, 0.5       , 0.30355552, 0.        ,\n",
              "        1.        ]])"
            ]
          },
          "metadata": {},
          "execution_count": 17
        }
      ]
    },
    {
      "cell_type": "markdown",
      "metadata": {
        "id": "TRpnoySDBC7w"
      },
      "source": [
        "# SELECTING AND TRAINING THE MODEL"
      ]
    },
    {
      "cell_type": "markdown",
      "metadata": {
        "id": "5BM0L07OBC7w"
      },
      "source": [
        "## Linear regression"
      ]
    },
    {
      "cell_type": "code",
      "metadata": {
        "id": "yweOe349BC7w"
      },
      "source": [
        "from sklearn.linear_model import LinearRegression\n",
        "\n",
        "lin_reg = LinearRegression(n_jobs=1)\n",
        "lin_reg_fit = lin_reg.fit(train_prepared, train_labels)"
      ],
      "execution_count": 116,
      "outputs": []
    },
    {
      "cell_type": "code",
      "metadata": {
        "colab": {
          "base_uri": "https://localhost:8080/"
        },
        "id": "_PCoygsLBC7w",
        "outputId": "54d76a2f-8906-4ac3-fdc2-1cb82ba8a6ed"
      },
      "source": [
        "# RMSE for linear model\n",
        "from sklearn.metrics import mean_squared_error\n",
        "\n",
        "watt_predictions = lin_reg.predict(train_prepared)\n",
        "lin_mse = mean_squared_error(train_labels, watt_predictions)\n",
        "lin_rmse = np.sqrt(lin_mse)\n",
        "print(\"RMSE is: \",lin_rmse) # We can see that the prediction error for linear model is 32.5 Watt "
      ],
      "execution_count": 117,
      "outputs": [
        {
          "output_type": "stream",
          "name": "stdout",
          "text": [
            "RMSE is:  32.46354580734144\n"
          ]
        }
      ]
    },
    {
      "cell_type": "code",
      "metadata": {
        "colab": {
          "base_uri": "https://localhost:8080/"
        },
        "id": "bDibaMykjZ6I",
        "outputId": "663e98da-5e4a-4c65-eed7-1baff0128a95"
      },
      "source": [
        "errors = abs(watt_predictions - train_labels)# Print out the mean absolute error (mae)\n",
        "\n",
        "print('Mean Absolute Error:', round(np.mean(errors), 2), 'Watt.')"
      ],
      "execution_count": 118,
      "outputs": [
        {
          "output_type": "stream",
          "name": "stdout",
          "text": [
            "Mean Absolute Error: 25.07 Watt.\n"
          ]
        }
      ]
    },
    {
      "cell_type": "code",
      "metadata": {
        "colab": {
          "base_uri": "https://localhost:8080/"
        },
        "id": "IhWiXVkhYazu",
        "outputId": "3bb58fd7-a050-4972-93f7-bae9038cbed3"
      },
      "source": [
        "lin_reg.score(train_prepared, train_labels)"
      ],
      "execution_count": 119,
      "outputs": [
        {
          "output_type": "execute_result",
          "data": {
            "text/plain": [
              "0.40059638323238245"
            ]
          },
          "metadata": {},
          "execution_count": 119
        }
      ]
    },
    {
      "cell_type": "code",
      "metadata": {
        "colab": {
          "base_uri": "https://localhost:8080/"
        },
        "id": "HSxn-lhVY1LH",
        "outputId": "0b5d97a0-9a19-4a32-c0fb-cc0a4d561c1d"
      },
      "source": [
        "# Calculate mean absolute percentage error (MAPE)\n",
        "mape = 100/len(train_labels) * sum(errors / train_labels)# Calculate and display accuracy\n",
        "accuracy = 100 - np.mean(mape)\n",
        "print('Accuracy:', round(accuracy, 2), '%.')"
      ],
      "execution_count": 120,
      "outputs": [
        {
          "output_type": "stream",
          "name": "stdout",
          "text": [
            "Accuracy: 75.17 %.\n"
          ]
        }
      ]
    },
    {
      "cell_type": "markdown",
      "metadata": {
        "id": "gU65eL8NgkQ3"
      },
      "source": [
        "### Fine-tune linear regression"
      ]
    },
    {
      "cell_type": "code",
      "metadata": {
        "id": "lAJKm9N5L6Ne",
        "colab": {
          "base_uri": "https://localhost:8080/"
        },
        "outputId": "555c03c3-01d3-4c87-c0c8-de9d1813122c"
      },
      "source": [
        "from sklearn.model_selection import GridSearchCV\n",
        "import warnings\n",
        "warnings.filterwarnings(\"ignore\")\n",
        "\n",
        "param_grid = [\n",
        "    \n",
        "    {'copy_X': [True],\n",
        "     'fit_intercept': [True],\n",
        "     'n_jobs': [1,], \n",
        "     'normalize': [False]\n",
        "  }]\n",
        "\n",
        "model = LinearRegression()\n",
        "# train across 5 folds, that's a total of (12+6)*5=90 rounds of training \n",
        "grid_search_lr = GridSearchCV(model, param_grid, cv=10,\n",
        "                           scoring='neg_mean_squared_error',\n",
        "                           return_train_score=True)\n",
        "grid_search_lr.fit(train_prepared, train_labels)"
      ],
      "execution_count": 121,
      "outputs": [
        {
          "output_type": "execute_result",
          "data": {
            "text/plain": [
              "GridSearchCV(cv=10, error_score=nan,\n",
              "             estimator=LinearRegression(copy_X=True, fit_intercept=True,\n",
              "                                        n_jobs=None, normalize=False),\n",
              "             iid='deprecated', n_jobs=None,\n",
              "             param_grid=[{'copy_X': [True], 'fit_intercept': [True],\n",
              "                          'n_jobs': [1], 'normalize': [False]}],\n",
              "             pre_dispatch='2*n_jobs', refit=True, return_train_score=True,\n",
              "             scoring='neg_mean_squared_error', verbose=0)"
            ]
          },
          "metadata": {},
          "execution_count": 121
        }
      ]
    },
    {
      "cell_type": "code",
      "metadata": {
        "colab": {
          "base_uri": "https://localhost:8080/"
        },
        "id": "WJdoN_MtgHtT",
        "outputId": "b9051662-8c8a-4acf-c6a0-c709b52de51c"
      },
      "source": [
        "grid_search_lr.best_params_"
      ],
      "execution_count": 122,
      "outputs": [
        {
          "output_type": "execute_result",
          "data": {
            "text/plain": [
              "{'copy_X': True, 'fit_intercept': True, 'n_jobs': 1, 'normalize': False}"
            ]
          },
          "metadata": {},
          "execution_count": 122
        }
      ]
    },
    {
      "cell_type": "code",
      "metadata": {
        "colab": {
          "base_uri": "https://localhost:8080/"
        },
        "id": "1wO5c9Xvghgy",
        "outputId": "29c556fb-2bb8-4af0-9687-7053fa61e638"
      },
      "source": [
        "grid_search_lr.best_estimator_"
      ],
      "execution_count": 123,
      "outputs": [
        {
          "output_type": "execute_result",
          "data": {
            "text/plain": [
              "LinearRegression(copy_X=True, fit_intercept=True, n_jobs=1, normalize=False)"
            ]
          },
          "metadata": {},
          "execution_count": 123
        }
      ]
    },
    {
      "cell_type": "code",
      "metadata": {
        "colab": {
          "base_uri": "https://localhost:8080/"
        },
        "id": "v71dSwWOzRnn",
        "outputId": "1a739f5a-c944-4e92-95f5-38ff6e5ed57c"
      },
      "source": [
        "negative_mse = grid_search_lr.best_score_\n",
        "rmse = np.sqrt(-negative_mse)\n",
        "rmse"
      ],
      "execution_count": 124,
      "outputs": [
        {
          "output_type": "execute_result",
          "data": {
            "text/plain": [
              "32.63184662630656"
            ]
          },
          "metadata": {},
          "execution_count": 124
        }
      ]
    },
    {
      "cell_type": "markdown",
      "metadata": {
        "id": "YPg5PiQwBC7w"
      },
      "source": [
        "## Support vector regressor (SVR)"
      ]
    },
    {
      "cell_type": "code",
      "metadata": {
        "id": "CqVjAUZpBC7w"
      },
      "source": [
        "from sklearn.svm import SVR\n",
        "\n",
        "svm_reg = SVR(kernel=\"rbf\", epsilon=3, C=100, cache_size= 100, degree=0.1, gamma='scale', max_iter = -1, tol =1, coef0= 0.1)\n",
        "svm_reg_fit = svm_reg.fit(train_prepared, train_labels)"
      ],
      "execution_count": 125,
      "outputs": []
    },
    {
      "cell_type": "code",
      "metadata": {
        "colab": {
          "base_uri": "https://localhost:8080/"
        },
        "id": "MBZnP5X9BC7x",
        "outputId": "20cfd515-5b51-4c00-e7aa-29b2f23e5413"
      },
      "source": [
        "# RMSE for SVR model\n",
        "from sklearn.metrics import mean_squared_error\n",
        "\n",
        "watt_SVR_predictions = svm_reg.predict(train_prepared)\n",
        "SVR_mse = mean_squared_error(train_labels, watt_SVR_predictions)\n",
        "SVR_rmse = np.sqrt(SVR_mse)\n",
        "print (\"RMSE is: \",SVR_rmse) # We can see that the prediction error for SVR model is 32.6 Wat"
      ],
      "execution_count": 126,
      "outputs": [
        {
          "output_type": "stream",
          "name": "stdout",
          "text": [
            "RMSE is:  31.332635974796254\n"
          ]
        }
      ]
    },
    {
      "cell_type": "code",
      "metadata": {
        "colab": {
          "base_uri": "https://localhost:8080/"
        },
        "id": "giXrdw2SjPrr",
        "outputId": "c1ca6fd7-a76a-446a-8aba-80d09dae371b"
      },
      "source": [
        "errors = abs(watt_SVR_predictions - train_labels)# Print out the mean absolute error (mae)\n",
        "\n",
        "print('Mean Absolute Error:', round(np.mean(errors), 2), 'Watt.')"
      ],
      "execution_count": 127,
      "outputs": [
        {
          "output_type": "stream",
          "name": "stdout",
          "text": [
            "Mean Absolute Error: 23.83 Watt.\n"
          ]
        }
      ]
    },
    {
      "cell_type": "code",
      "metadata": {
        "colab": {
          "base_uri": "https://localhost:8080/"
        },
        "id": "ItZZFPxjaiJV",
        "outputId": "dc499f6b-218c-41ee-a8a0-a8b709b32548"
      },
      "source": [
        "svm_reg.score(train_prepared, train_labels)"
      ],
      "execution_count": 128,
      "outputs": [
        {
          "output_type": "execute_result",
          "data": {
            "text/plain": [
              "0.44163097515317706"
            ]
          },
          "metadata": {},
          "execution_count": 128
        }
      ]
    },
    {
      "cell_type": "code",
      "metadata": {
        "colab": {
          "base_uri": "https://localhost:8080/"
        },
        "id": "6W-5KjH2lwiR",
        "outputId": "aa0261a6-2f05-473b-da2b-613e0cc6d102"
      },
      "source": [
        "# Calculate mean absolute percentage error (MAPE)\n",
        "mape = 100/len(train_labels) * sum(errors / train_labels)# Calculate and display accuracy\n",
        "accuracy = 100 - np.mean(mape)\n",
        "print('Accuracy:', round(accuracy, 2), '%.')"
      ],
      "execution_count": 129,
      "outputs": [
        {
          "output_type": "stream",
          "name": "stdout",
          "text": [
            "Accuracy: 76.68 %.\n"
          ]
        }
      ]
    },
    {
      "cell_type": "markdown",
      "metadata": {
        "id": "yzlk0jZJZ3KF"
      },
      "source": [
        "### Fine-tune SVR"
      ]
    },
    {
      "cell_type": "code",
      "metadata": {
        "id": "9JXEzpNakSiV",
        "colab": {
          "base_uri": "https://localhost:8080/"
        },
        "outputId": "dc53286b-9623-4487-8502-92621a10f503"
      },
      "source": [
        "from sklearn.svm import SVR\n",
        "from sklearn.model_selection import GridSearchCV\n",
        "import warnings\n",
        "warnings.filterwarnings(\"ignore\")\n",
        "\n",
        "param_grid = [\n",
        "    \n",
        "    {'C': [100],\n",
        "     'cache_size': [100],\n",
        "     'coef0': [0.1],\n",
        "     'degree': [0.1],\n",
        "     'epsilon': [3],\n",
        "     'gamma': ['scale'],\n",
        "     'kernel': ['rbf'],\n",
        "     'max_iter': [-1],\n",
        "     'shrinking': [True],\n",
        "     'tol': [1]\n",
        "  }]\n",
        "\n",
        "svm_reg = SVR()\n",
        "# train across 5 folds, that's a total of (12+6)*5=90 rounds of training \n",
        "grid_search_svr = GridSearchCV(svm_reg, param_grid, cv=10,\n",
        "                           scoring='neg_mean_squared_error',\n",
        "                           return_train_score=True)\n",
        "grid_search_svr.fit(train_prepared, train_labels)"
      ],
      "execution_count": 130,
      "outputs": [
        {
          "output_type": "execute_result",
          "data": {
            "text/plain": [
              "GridSearchCV(cv=10, error_score=nan,\n",
              "             estimator=SVR(C=1.0, cache_size=200, coef0=0.0, degree=3,\n",
              "                           epsilon=0.1, gamma='scale', kernel='rbf',\n",
              "                           max_iter=-1, shrinking=True, tol=0.001,\n",
              "                           verbose=False),\n",
              "             iid='deprecated', n_jobs=None,\n",
              "             param_grid=[{'C': [100], 'cache_size': [100], 'coef0': [0.1],\n",
              "                          'degree': [0.1], 'epsilon': [3], 'gamma': ['scale'],\n",
              "                          'kernel': ['rbf'], 'max_iter': [-1],\n",
              "                          'shrinking': [True], 'tol': [1]}],\n",
              "             pre_dispatch='2*n_jobs', refit=True, return_train_score=True,\n",
              "             scoring='neg_mean_squared_error', verbose=0)"
            ]
          },
          "metadata": {},
          "execution_count": 130
        }
      ]
    },
    {
      "cell_type": "code",
      "metadata": {
        "colab": {
          "base_uri": "https://localhost:8080/"
        },
        "id": "o20zR4gVq6Fy",
        "outputId": "2640d9eb-2f9e-4ff1-ac4f-e4a3b6b5d371"
      },
      "source": [
        "grid_search_svr.best_params_"
      ],
      "execution_count": 131,
      "outputs": [
        {
          "output_type": "execute_result",
          "data": {
            "text/plain": [
              "{'C': 100,\n",
              " 'cache_size': 100,\n",
              " 'coef0': 0.1,\n",
              " 'degree': 0.1,\n",
              " 'epsilon': 3,\n",
              " 'gamma': 'scale',\n",
              " 'kernel': 'rbf',\n",
              " 'max_iter': -1,\n",
              " 'shrinking': True,\n",
              " 'tol': 1}"
            ]
          },
          "metadata": {},
          "execution_count": 131
        }
      ]
    },
    {
      "cell_type": "code",
      "metadata": {
        "colab": {
          "base_uri": "https://localhost:8080/"
        },
        "id": "dfPKEnDgM-LS",
        "outputId": "f2408928-0a28-4f5b-bc2e-d6aa4a28cd7a"
      },
      "source": [
        "negative_mse = grid_search_svr.best_score_\n",
        "rmse = np.sqrt(-negative_mse)\n",
        "rmse"
      ],
      "execution_count": 132,
      "outputs": [
        {
          "output_type": "execute_result",
          "data": {
            "text/plain": [
              "31.84480719338325"
            ]
          },
          "metadata": {},
          "execution_count": 132
        }
      ]
    },
    {
      "cell_type": "markdown",
      "metadata": {
        "id": "sHhhsjGlBC7x"
      },
      "source": [
        "## Random forest model"
      ]
    },
    {
      "cell_type": "code",
      "metadata": {
        "id": "71G0COSxBC7x"
      },
      "source": [
        "from sklearn.ensemble import RandomForestRegressor\n",
        "\n",
        "forest_reg = RandomForestRegressor(random_state=42, oob_score=True, n_estimators=2000, max_features=2, bootstrap = True, max_depth = 8, min_samples_leaf = 4, min_samples_split = 2)\n",
        "forest_fit = forest_reg.fit(train_prepared, train_labels)"
      ],
      "execution_count": 133,
      "outputs": []
    },
    {
      "cell_type": "code",
      "metadata": {
        "colab": {
          "base_uri": "https://localhost:8080/"
        },
        "id": "FO0GXdw7BC7x",
        "outputId": "b3e4dfe4-53a7-410d-d9fe-f346e03e9f1a"
      },
      "source": [
        "# RMSE for random forest model\n",
        "\n",
        "watt_RF_predictions = forest_reg.predict(train_prepared)\n",
        "forest_mse = mean_squared_error(train_labels, watt_RF_predictions)\n",
        "forest_rmse = np.sqrt(forest_mse)\n",
        "print(\"RMSE is: \", forest_rmse) # We can see that the prediction error for linear model is 13.1 Wat (until now the model with lowest prediction error)"
      ],
      "execution_count": 134,
      "outputs": [
        {
          "output_type": "stream",
          "name": "stdout",
          "text": [
            "RMSE is:  27.29217825851524\n"
          ]
        }
      ]
    },
    {
      "cell_type": "code",
      "metadata": {
        "colab": {
          "base_uri": "https://localhost:8080/"
        },
        "id": "TA1RqSAjjMJD",
        "outputId": "de21b81f-8c96-4910-b3e5-f634ddec9794"
      },
      "source": [
        "errors = abs(watt_RF_predictions - train_labels)# Print out the mean absolute error (mae)\n",
        "\n",
        "print('Mean Absolute Error:', round(np.mean(errors), 2), 'Watt.')"
      ],
      "execution_count": 135,
      "outputs": [
        {
          "output_type": "stream",
          "name": "stdout",
          "text": [
            "Mean Absolute Error: 21.16 Watt.\n"
          ]
        }
      ]
    },
    {
      "cell_type": "code",
      "metadata": {
        "colab": {
          "base_uri": "https://localhost:8080/"
        },
        "id": "VrJuZ8luaoRm",
        "outputId": "b7ee745b-36e0-470a-f8c3-b89c7fd37738"
      },
      "source": [
        "forest_reg.score(train_prepared, train_labels)"
      ],
      "execution_count": 136,
      "outputs": [
        {
          "output_type": "execute_result",
          "data": {
            "text/plain": [
              "0.5763532779942611"
            ]
          },
          "metadata": {},
          "execution_count": 136
        }
      ]
    },
    {
      "cell_type": "code",
      "metadata": {
        "colab": {
          "base_uri": "https://localhost:8080/"
        },
        "id": "8jJY-R7Wl1ai",
        "outputId": "2201d32d-aa51-4f4b-8b31-94f6bc57519d"
      },
      "source": [
        "# Calculate mean absolute percentage error (MAPE)\n",
        "mape = 100/len(train_labels) * sum(errors / train_labels)# Calculate and display accuracy\n",
        "accuracy = 100 - np.mean(mape)\n",
        "print('Accuracy:', round(accuracy, 2), '%.')"
      ],
      "execution_count": 137,
      "outputs": [
        {
          "output_type": "stream",
          "name": "stdout",
          "text": [
            "Accuracy: 79.04 %.\n"
          ]
        }
      ]
    },
    {
      "cell_type": "code",
      "metadata": {
        "colab": {
          "base_uri": "https://localhost:8080/"
        },
        "id": "xTphtV584GK3",
        "outputId": "8962d48e-569e-4785-d3e0-657bc6080873"
      },
      "source": [
        "np.mean(mape)"
      ],
      "execution_count": 138,
      "outputs": [
        {
          "output_type": "execute_result",
          "data": {
            "text/plain": [
              "20.957850454762383"
            ]
          },
          "metadata": {},
          "execution_count": 138
        }
      ]
    },
    {
      "cell_type": "markdown",
      "metadata": {
        "id": "ymtuT45FadS6"
      },
      "source": [
        "### Fine-tune RF"
      ]
    },
    {
      "cell_type": "code",
      "metadata": {
        "id": "dZYkjvCjaFK1",
        "colab": {
          "base_uri": "https://localhost:8080/"
        },
        "outputId": "8ae80c10-509a-464d-9c07-acab59a7137c"
      },
      "source": [
        "from sklearn.model_selection import GridSearchCV\n",
        "import warnings\n",
        "warnings.filterwarnings(\"ignore\")\n",
        "\n",
        "param_grid = [\n",
        "    {'bootstrap': [True],\n",
        "     'n_estimators': [2000], \n",
        "     'max_features': [2],\n",
        "     'max_depth': [8],\n",
        "     'min_samples_leaf': [4],\n",
        "     'min_samples_split': [2]\n",
        "  }]\n",
        "\n",
        "forest_reg = RandomForestRegressor(random_state=42)\n",
        "\n",
        "grid_search_rf = GridSearchCV(forest_reg, param_grid, cv=10,\n",
        "                           scoring='neg_mean_squared_error',\n",
        "                           return_train_score=True)\n",
        "grid_search_rf.fit(train_prepared, train_labels)"
      ],
      "execution_count": 139,
      "outputs": [
        {
          "output_type": "execute_result",
          "data": {
            "text/plain": [
              "GridSearchCV(cv=10, error_score=nan,\n",
              "             estimator=RandomForestRegressor(bootstrap=True, ccp_alpha=0.0,\n",
              "                                             criterion='mse', max_depth=None,\n",
              "                                             max_features='auto',\n",
              "                                             max_leaf_nodes=None,\n",
              "                                             max_samples=None,\n",
              "                                             min_impurity_decrease=0.0,\n",
              "                                             min_impurity_split=None,\n",
              "                                             min_samples_leaf=1,\n",
              "                                             min_samples_split=2,\n",
              "                                             min_weight_fraction_leaf=0.0,\n",
              "                                             n_estimators=100, n_jobs=None,\n",
              "                                             oob_score=False, random_state=42,\n",
              "                                             verbose=0, warm_start=False),\n",
              "             iid='deprecated', n_jobs=None,\n",
              "             param_grid=[{'bootstrap': [True], 'max_depth': [8],\n",
              "                          'max_features': [2], 'min_samples_leaf': [4],\n",
              "                          'min_samples_split': [2], 'n_estimators': [2000]}],\n",
              "             pre_dispatch='2*n_jobs', refit=True, return_train_score=True,\n",
              "             scoring='neg_mean_squared_error', verbose=0)"
            ]
          },
          "metadata": {},
          "execution_count": 139
        }
      ]
    },
    {
      "cell_type": "code",
      "metadata": {
        "id": "4rJ7M2SRaGkh",
        "colab": {
          "base_uri": "https://localhost:8080/"
        },
        "outputId": "4f9336d1-90ff-4f3a-f26f-ce5f2175718b"
      },
      "source": [
        "grid_search_rf.best_params_"
      ],
      "execution_count": 140,
      "outputs": [
        {
          "output_type": "execute_result",
          "data": {
            "text/plain": [
              "{'bootstrap': True,\n",
              " 'max_depth': 8,\n",
              " 'max_features': 2,\n",
              " 'min_samples_leaf': 4,\n",
              " 'min_samples_split': 2,\n",
              " 'n_estimators': 2000}"
            ]
          },
          "metadata": {},
          "execution_count": 140
        }
      ]
    },
    {
      "cell_type": "code",
      "metadata": {
        "id": "ftIW6LqIaLx4",
        "colab": {
          "base_uri": "https://localhost:8080/"
        },
        "outputId": "e5a2020a-9f89-4629-b1cc-df91c6b53e41"
      },
      "source": [
        "grid_search_rf.best_estimator_"
      ],
      "execution_count": 141,
      "outputs": [
        {
          "output_type": "execute_result",
          "data": {
            "text/plain": [
              "RandomForestRegressor(bootstrap=True, ccp_alpha=0.0, criterion='mse',\n",
              "                      max_depth=8, max_features=2, max_leaf_nodes=None,\n",
              "                      max_samples=None, min_impurity_decrease=0.0,\n",
              "                      min_impurity_split=None, min_samples_leaf=4,\n",
              "                      min_samples_split=2, min_weight_fraction_leaf=0.0,\n",
              "                      n_estimators=2000, n_jobs=None, oob_score=False,\n",
              "                      random_state=42, verbose=0, warm_start=False)"
            ]
          },
          "metadata": {},
          "execution_count": 141
        }
      ]
    },
    {
      "cell_type": "code",
      "metadata": {
        "colab": {
          "base_uri": "https://localhost:8080/"
        },
        "id": "LjtSRNF8z13h",
        "outputId": "de11d1dc-b22b-4088-bfd2-67d5ab6386d1"
      },
      "source": [
        "negative_mse = grid_search_rf.best_score_\n",
        "rmse = np.sqrt(-negative_mse)\n",
        "rmse"
      ],
      "execution_count": 142,
      "outputs": [
        {
          "output_type": "execute_result",
          "data": {
            "text/plain": [
              "32.17210985495504"
            ]
          },
          "metadata": {},
          "execution_count": 142
        }
      ]
    },
    {
      "cell_type": "markdown",
      "metadata": {
        "id": "Yda0Kx27BC7x"
      },
      "source": [
        "# VALIDATION OF MODELS (Training set)"
      ]
    },
    {
      "cell_type": "markdown",
      "metadata": {
        "id": "kGOOHLMqBC7x"
      },
      "source": [
        "'''The following code randomly splits the training set into 10 distinct subsets called folds, then it trains and evaluates the model 10 times,\n",
        "picking a different fold for evaluation every time and training on the other 9 folds. The result is an array containing the 10 evaluation scores:'''"
      ]
    },
    {
      "cell_type": "code",
      "metadata": {
        "id": "IH1yEPPPBC7y"
      },
      "source": [
        "# Function to display the score statistics\n",
        "\n",
        "def display_scores(scores):\n",
        "    print(\"Scores:\", scores)\n",
        "    print(\"Mean:\", scores.mean())\n",
        "    print(\"Standard deviation:\", scores.std())"
      ],
      "execution_count": 143,
      "outputs": []
    },
    {
      "cell_type": "code",
      "metadata": {
        "id": "14_TEkdYBC7z"
      },
      "source": [
        "from sklearn.model_selection import cross_val_score"
      ],
      "execution_count": 144,
      "outputs": []
    },
    {
      "cell_type": "markdown",
      "metadata": {
        "id": "OWGkfSxIBC7z"
      },
      "source": [
        "## Linear model"
      ]
    },
    {
      "cell_type": "code",
      "metadata": {
        "colab": {
          "base_uri": "https://localhost:8080/"
        },
        "id": "SEARJ7Q1BC7z",
        "outputId": "31e03bbc-18d2-451d-9f97-c67e473f9f12"
      },
      "source": [
        "lin_scores = cross_val_score(lin_reg, train_prepared, train_labels,\n",
        "                             scoring=\"neg_mean_squared_error\", cv=10)\n",
        "lin_rmse_scores = np.sqrt(-lin_scores)\n",
        "display_scores(lin_rmse_scores)"
      ],
      "execution_count": 145,
      "outputs": [
        {
          "output_type": "stream",
          "name": "stdout",
          "text": [
            "Scores: [30.50006731 27.46985412 38.43562164 32.48211187 38.07501257 31.43026112\n",
            " 31.98348684 31.11989247 32.31836557 30.94683766]\n",
            "Mean: 32.476151117652705\n",
            "Standard deviation: 3.1838691597143693\n"
          ]
        }
      ]
    },
    {
      "cell_type": "markdown",
      "metadata": {
        "id": "9NeImVvrBC7z"
      },
      "source": [
        "## SVR"
      ]
    },
    {
      "cell_type": "code",
      "metadata": {
        "colab": {
          "base_uri": "https://localhost:8080/"
        },
        "id": "YoupofzXBC7z",
        "outputId": "707370b9-ad3d-4336-a98f-dae0aa1f32c1"
      },
      "source": [
        "SVR_scores = cross_val_score(svm_reg, train_prepared, train_labels,\n",
        "                                scoring=\"neg_mean_squared_error\", cv=10)\n",
        "SVR_rmse_scores = np.sqrt(-SVR_scores)\n",
        "display_scores(SVR_rmse_scores)"
      ],
      "execution_count": 146,
      "outputs": [
        {
          "output_type": "stream",
          "name": "stdout",
          "text": [
            "Scores: [33.53741595 29.08001309 42.97127343 35.11344792 40.50355359 32.11832146\n",
            " 34.12441947 33.42640241 32.46191246 31.71055972]\n",
            "Mean: 34.50473194994824\n",
            "Standard deviation: 3.9671764889564\n"
          ]
        }
      ]
    },
    {
      "cell_type": "markdown",
      "metadata": {
        "id": "ZMlfxRtZBC7z"
      },
      "source": [
        "## Random forest"
      ]
    },
    {
      "cell_type": "code",
      "metadata": {
        "colab": {
          "base_uri": "https://localhost:8080/"
        },
        "id": "OvryC3VGBC70",
        "outputId": "30d67228-1f26-4ee6-f89a-86f151cf195d"
      },
      "source": [
        "forest_scores = cross_val_score(grid_search_rf, train_prepared, train_labels,\n",
        "                                scoring=\"neg_mean_squared_error\", cv=10)\n",
        "forest_rmse_scores = np.sqrt(-forest_scores)\n",
        "display_scores(forest_rmse_scores)"
      ],
      "execution_count": 147,
      "outputs": [
        {
          "output_type": "stream",
          "name": "stdout",
          "text": [
            "Scores: [30.52477115 27.55576798 38.69304532 31.84504516 35.90950468 30.83684027\n",
            " 32.09978164 31.59061076 31.00326179 30.30078729]\n",
            "Mean: 32.03594160309178\n",
            "Standard deviation: 2.9568730311917206\n"
          ]
        }
      ]
    },
    {
      "cell_type": "code",
      "metadata": {
        "colab": {
          "base_uri": "https://localhost:8080/",
          "height": 300
        },
        "id": "9a67hQC1BC70",
        "outputId": "5e523e87-46c9-40b6-9c21-6e3bf63fe7c2"
      },
      "source": [
        "# Return the table of cross-validation for all three models\n",
        "\n",
        "scores = cross_val_score(grid_search_lr,  train_prepared, train_labels, scoring=\"neg_mean_squared_error\", cv=10)\n",
        "scores_rf = cross_val_score(grid_search_rf,  train_prepared, train_labels, scoring=\"neg_mean_squared_error\", cv=10)\n",
        "scores_svr = cross_val_score(grid_search_svr,  train_prepared, train_labels, scoring=\"neg_mean_squared_error\", cv=10)\n",
        "a = pd.Series(np.sqrt(-scores)).describe()\n",
        "b = pd.Series(np.sqrt(-scores_svr)).describe()\n",
        "c = pd.Series(np.sqrt(-scores_rf)).describe()\n",
        "\n",
        "scores_df = pd.DataFrame({\n",
        "    \"lin_reg\": a,\n",
        "    \"SVR\":b,\n",
        "    \"forest_reg\": c\n",
        "    })\n",
        "scores_df"
      ],
      "execution_count": 148,
      "outputs": [
        {
          "output_type": "execute_result",
          "data": {
            "text/html": [
              "<div>\n",
              "<style scoped>\n",
              "    .dataframe tbody tr th:only-of-type {\n",
              "        vertical-align: middle;\n",
              "    }\n",
              "\n",
              "    .dataframe tbody tr th {\n",
              "        vertical-align: top;\n",
              "    }\n",
              "\n",
              "    .dataframe thead th {\n",
              "        text-align: right;\n",
              "    }\n",
              "</style>\n",
              "<table border=\"1\" class=\"dataframe\">\n",
              "  <thead>\n",
              "    <tr style=\"text-align: right;\">\n",
              "      <th></th>\n",
              "      <th>lin_reg</th>\n",
              "      <th>SVR</th>\n",
              "      <th>forest_reg</th>\n",
              "    </tr>\n",
              "  </thead>\n",
              "  <tbody>\n",
              "    <tr>\n",
              "      <th>count</th>\n",
              "      <td>10.000000</td>\n",
              "      <td>10.000000</td>\n",
              "      <td>10.000000</td>\n",
              "    </tr>\n",
              "    <tr>\n",
              "      <th>mean</th>\n",
              "      <td>32.476151</td>\n",
              "      <td>31.710580</td>\n",
              "      <td>32.035942</td>\n",
              "    </tr>\n",
              "    <tr>\n",
              "      <th>std</th>\n",
              "      <td>3.356093</td>\n",
              "      <td>3.078759</td>\n",
              "      <td>3.116818</td>\n",
              "    </tr>\n",
              "    <tr>\n",
              "      <th>min</th>\n",
              "      <td>27.469854</td>\n",
              "      <td>27.693028</td>\n",
              "      <td>27.555768</td>\n",
              "    </tr>\n",
              "    <tr>\n",
              "      <th>25%</th>\n",
              "      <td>30.990101</td>\n",
              "      <td>30.202528</td>\n",
              "      <td>30.602788</td>\n",
              "    </tr>\n",
              "    <tr>\n",
              "      <th>50%</th>\n",
              "      <td>31.706874</td>\n",
              "      <td>31.082412</td>\n",
              "      <td>31.296936</td>\n",
              "    </tr>\n",
              "    <tr>\n",
              "      <th>75%</th>\n",
              "      <td>32.441175</td>\n",
              "      <td>32.317975</td>\n",
              "      <td>32.036098</td>\n",
              "    </tr>\n",
              "    <tr>\n",
              "      <th>max</th>\n",
              "      <td>38.435622</td>\n",
              "      <td>37.810281</td>\n",
              "      <td>38.693045</td>\n",
              "    </tr>\n",
              "  </tbody>\n",
              "</table>\n",
              "</div>"
            ],
            "text/plain": [
              "         lin_reg        SVR  forest_reg\n",
              "count  10.000000  10.000000   10.000000\n",
              "mean   32.476151  31.710580   32.035942\n",
              "std     3.356093   3.078759    3.116818\n",
              "min    27.469854  27.693028   27.555768\n",
              "25%    30.990101  30.202528   30.602788\n",
              "50%    31.706874  31.082412   31.296936\n",
              "75%    32.441175  32.317975   32.036098\n",
              "max    38.435622  37.810281   38.693045"
            ]
          },
          "metadata": {},
          "execution_count": 148
        }
      ]
    },
    {
      "cell_type": "markdown",
      "metadata": {
        "id": "iT6QGDCpBC71"
      },
      "source": [
        "# FEATURE IMPORTANCE"
      ]
    },
    {
      "cell_type": "code",
      "metadata": {
        "colab": {
          "base_uri": "https://localhost:8080/"
        },
        "id": "BsGeOUL3BC71",
        "outputId": "b3bcf710-bb8a-4ef7-f095-99fa6f7dbcaa"
      },
      "source": [
        "feature_importances = grid_search_rf.best_estimator_.feature_importances_\n",
        "feature_importances"
      ],
      "execution_count": 150,
      "outputs": [
        {
          "output_type": "execute_result",
          "data": {
            "text/plain": [
              "array([0.27127596, 0.14448407, 0.28657013, 0.10717287, 0.09903613,\n",
              "       0.09146085])"
            ]
          },
          "metadata": {},
          "execution_count": 150
        }
      ]
    },
    {
      "cell_type": "code",
      "metadata": {
        "colab": {
          "base_uri": "https://localhost:8080/"
        },
        "id": "ELxmeGYGBC71",
        "outputId": "8228473a-5216-4d24-c782-56200ac0f294"
      },
      "source": [
        "cat_encoder = full_pipeline.named_transformers_[\"cat\"]\n",
        "cat_one_hot_attribs = list(cat_encoder.categories_[0])\n",
        "attributes = num_attribs + cat_one_hot_attribs\n",
        "sorted(zip(feature_importances, attributes), reverse=True)"
      ],
      "execution_count": 151,
      "outputs": [
        {
          "output_type": "execute_result",
          "data": {
            "text/plain": [
              "[(0.28657012540591353, 'BH'),\n",
              " (0.27127595877919763, 'Age'),\n",
              " (0.14448406875567027, 'BW'),\n",
              " (0.10717287075652097, 'BMI'),\n",
              " (0.09903612904117477, 'M'),\n",
              " (0.09146084726152283, 'W')]"
            ]
          },
          "metadata": {},
          "execution_count": 151
        }
      ]
    },
    {
      "cell_type": "code",
      "metadata": {
        "colab": {
          "base_uri": "https://localhost:8080/",
          "height": 302
        },
        "id": "CHC7xn3SBC71",
        "outputId": "68436483-f89c-4ce4-e323-e74fb96ed467"
      },
      "source": [
        "import seaborn as sns\n",
        "\n",
        "feature_imp = pd.Series(feature_importances,index=attributes).sort_values(ascending=False)\n",
        "sns.barplot(x=feature_imp*100, y=feature_imp.index)\n",
        "plt.xlabel('Feature Importance Score')\n",
        "plt.ylabel('Features')\n",
        "plt.title(\"Visualizing Feature Importance\")\n",
        "for index, value in enumerate(feature_imp*100):\n",
        "    plt.text(value, index, str(\"{:.0f}\".format(value)+\" %\")) # Rounding the float\n",
        "plt.show()"
      ],
      "execution_count": 152,
      "outputs": [
        {
          "output_type": "display_data",
          "data": {
            "image/png": "[encoded data removed]",
            "text/plain": [
              "<Figure size 432x288 with 1 Axes>"
            ]
          },
          "metadata": {
            "needs_background": "light"
          }
        }
      ]
    },
    {
      "cell_type": "markdown",
      "metadata": {
        "id": "1vK1zL_gBC71"
      },
      "source": [
        "# TESTING THE MODEL"
      ]
    },
    {
      "cell_type": "code",
      "metadata": {
        "id": "lDXQimqEBC72"
      },
      "source": [
        "final_model = grid_search_rf\n",
        "\n",
        "X_test = test_set.drop(\"Wmax\", axis=1)\n",
        "y_test = test_set[\"Wmax\"].copy()\n",
        "\n",
        "X_test_prepared = full_pipeline.transform(X_test)\n",
        "final_predictions = final_model.predict(X_test_prepared)\n",
        "\n",
        "final_mse = mean_squared_error(y_test, final_predictions)\n",
        "final_rmse = np.sqrt(final_mse)"
      ],
      "execution_count": 159,
      "outputs": []
    },
    {
      "cell_type": "code",
      "metadata": {
        "colab": {
          "base_uri": "https://localhost:8080/"
        },
        "id": "pOq1-adEBC73",
        "outputId": "4b442856-9a27-4084-e41d-eca0f798890a"
      },
      "source": [
        "final_rmse"
      ],
      "execution_count": 160,
      "outputs": [
        {
          "output_type": "execute_result",
          "data": {
            "text/plain": [
              "32.582270475755514"
            ]
          },
          "metadata": {},
          "execution_count": 160
        }
      ]
    },
    {
      "cell_type": "code",
      "metadata": {
        "id": "pSxI-Uz69Qrr"
      },
      "source": [
        "#score_final = cross_val_score(forest_reg,  X_test_prepared, y_test, scoring=\"neg_mean_squared_error\", cv=10)\n",
        "#final = pd.Series(np.sqrt(-score_final)).describe()\n",
        "#final"
      ],
      "execution_count": null,
      "outputs": []
    },
    {
      "cell_type": "code",
      "metadata": {
        "colab": {
          "base_uri": "https://localhost:8080/"
        },
        "id": "nWIX6fvPBC73",
        "outputId": "b6d26aab-8cb9-4519-87d7-932b4f396038"
      },
      "source": [
        "from sklearn import metrics\n",
        "from sklearn.metrics import r2_score\n",
        "\n",
        "y_oob = final_model.predict(X_test_prepared)\n",
        "print(\"R2\",r2_score(y_test, y_oob)) # Amount of the variation in the response variable which is predictable from the input independent variable\n",
        "print(\"R2\",final_model)"
      ],
      "execution_count": 161,
      "outputs": [
        {
          "output_type": "stream",
          "name": "stdout",
          "text": [
            "R2 0.38620767024411207\n",
            "R2 GridSearchCV(cv=10, error_score=nan,\n",
            "             estimator=RandomForestRegressor(bootstrap=True, ccp_alpha=0.0,\n",
            "                                             criterion='mse', max_depth=None,\n",
            "                                             max_features='auto',\n",
            "                                             max_leaf_nodes=None,\n",
            "                                             max_samples=None,\n",
            "                                             min_impurity_decrease=0.0,\n",
            "                                             min_impurity_split=None,\n",
            "                                             min_samples_leaf=1,\n",
            "                                             min_samples_split=2,\n",
            "                                             min_weight_fraction_leaf=0.0,\n",
            "                                             n_estimators=100, n_jobs=None,\n",
            "                                             oob_score=False, random_state=42,\n",
            "                                             verbose=0, warm_start=False),\n",
            "             iid='deprecated', n_jobs=None,\n",
            "             param_grid=[{'bootstrap': [True], 'max_depth': [8],\n",
            "                          'max_features': [2], 'min_samples_leaf': [4],\n",
            "                          'min_samples_split': [2], 'n_estimators': [2000]}],\n",
            "             pre_dispatch='2*n_jobs', refit=True, return_train_score=True,\n",
            "             scoring='neg_mean_squared_error', verbose=0)\n"
          ]
        }
      ]
    },
    {
      "cell_type": "code",
      "metadata": {
        "colab": {
          "base_uri": "https://localhost:8080/"
        },
        "id": "Weq4iwL0BC73",
        "outputId": "8ff61521-2b99-4cdb-8441-db0f6bc22614"
      },
      "source": [
        "from scipy import stats\n",
        "# 95% confidence interval for the test RMSE\n",
        "confidence = 0.95\n",
        "squared_errors = (final_predictions - y_test) ** 2\n",
        "np.sqrt(stats.t.interval(confidence, len(squared_errors) - 1,\n",
        "                         loc=squared_errors.mean(),\n",
        "                         scale=stats.sem(squared_errors)))"
      ],
      "execution_count": 162,
      "outputs": [
        {
          "output_type": "execute_result",
          "data": {
            "text/plain": [
              "array([29.68343989, 35.24346883])"
            ]
          },
          "metadata": {},
          "execution_count": 162
        }
      ]
    },
    {
      "cell_type": "code",
      "metadata": {
        "colab": {
          "base_uri": "https://localhost:8080/"
        },
        "id": "AYItSfLTw_dU",
        "outputId": "1ca52454-e3ea-461b-b468-b6b511c37002"
      },
      "source": [
        "errors = abs(final_predictions - y_test)# Print out the mean absolute error (mae)\n",
        "\n",
        "print('Mean Absolute Error:', round(np.mean(errors), 2), 'Watt.')"
      ],
      "execution_count": 163,
      "outputs": [
        {
          "output_type": "stream",
          "name": "stdout",
          "text": [
            "Mean Absolute Error: 24.99 Watt.\n"
          ]
        }
      ]
    },
    {
      "cell_type": "code",
      "metadata": {
        "colab": {
          "base_uri": "https://localhost:8080/"
        },
        "id": "sRtasV1BxTJj",
        "outputId": "00cbea22-5a5b-42b7-820a-f2d9e8ac4038"
      },
      "source": [
        "# Calculate mean absolute percentage error (MAPE)\n",
        "mape = 100/len(y_test) * sum(errors / y_test)# Calculate and display accuracy\n",
        "accuracy = 100 - np.mean(mape)\n",
        "print('Accuracy:', round(accuracy, 2), '%.')"
      ],
      "execution_count": 165,
      "outputs": [
        {
          "output_type": "stream",
          "name": "stdout",
          "text": [
            "Accuracy: 75.52 %.\n"
          ]
        }
      ]
    },
    {
      "cell_type": "markdown",
      "metadata": {
        "id": "EwoD2kBUBC73"
      },
      "source": [
        "# PREDICTING Wmax"
      ]
    },
    {
      "cell_type": "code",
      "metadata": {
        "colab": {
          "base_uri": "https://localhost:8080/"
        },
        "id": "hKf69kLjBC73",
        "outputId": "2add06c9-26b6-4cc8-f01b-338073164798"
      },
      "source": [
        "import warnings\n",
        "warnings.filterwarnings(\"ignore\")\n",
        "\n",
        "age = input(\"Please enter the AGE: \")\n",
        "age = int(age)\n",
        "print(\"Age is: \", age)\n",
        "\n",
        "bmi = input (\"Please ebter the BMI: \")\n",
        "bmi = int(bmi)\n",
        "print(\"BMI is: \", bmi)\n",
        "\n",
        "bh = input(\"Please enter the BODY HEIGHT: \")\n",
        "bh = int(bh)\n",
        "print(\"Body height is: \", bh)\n",
        "\n",
        "bw = input(\"Please enter the BODY WEIGHT: \")\n",
        "bw = int(bw)\n",
        "print(\"Body weight is: \", bw)\n",
        "\n",
        "g = input(\"Please enter your gender(W for women or M for man): \").upper()\n",
        "print(\"Gender is: \", g)\n",
        "\n",
        "a = pd.DataFrame({'Age':[age],'BMI':[bmi],'Gender':[g],'BH':[bh],'BW':[bw]})\n",
        "b = full_pipeline.transform(a)\n",
        "print(\"Your predicted Wmax is: \",int(final_model.predict(b)))"
      ],
      "execution_count": null,
      "outputs": [
        {
          "output_type": "stream",
          "name": "stdout",
          "text": [
            "Please enter the AGE: 40\n",
            "Age is:  40\n",
            "Please ebter the BMI: 27\n",
            "BMI is:  27\n",
            "Please enter the BODY HEIGHT: 180\n",
            "Body height is:  180\n",
            "Please enter the BODY WEIGHT: 87\n",
            "Body weight is:  87\n",
            "Please enter your gender(W for women or M for man): M\n",
            "Gender is:  M\n",
            "Your predicted Wmax is:  183\n"
          ]
        }
      ]
    }
  ]
}
