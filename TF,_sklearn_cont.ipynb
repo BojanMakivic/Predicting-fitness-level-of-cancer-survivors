{
  "nbformat": 4,
  "nbformat_minor": 0,
  "metadata": {
    "accelerator": "GPU",
    "colab": {
      "name": "TF, sklearn_cont.ipynb",
      "provenance": [],
      "collapsed_sections": [],
      "machine_shape": "hm",
      "include_colab_link": true
    },
    "interpreter": {
      "hash": "c0fc5c77b0f452b0db40c8ce8e3525b1b21db35c1e6cd22759a1f9a55688fbd9"
    },
    "kernelspec": {
      "display_name": "Python 3.8.5 64-bit ('base': conda)",
      "name": "python3"
    },
    "language_info": {
      "codemirror_mode": {
        "name": "ipython",
        "version": 3
      },
      "file_extension": ".py",
      "mimetype": "text/x-python",
      "name": "python",
      "nbconvert_exporter": "python",
      "pygments_lexer": "ipython3",
      "version": "3.8.5"
    }
  },
  "cells": [
    {
      "cell_type": "markdown",
      "metadata": {
        "id": "view-in-github",
        "colab_type": "text"
      },
      "source": [
        "<a href=\"https://colab.research.google.com/github/BojanMakivic/Predicting-fitness-level-of-cancer-survivors/blob/master/TF%2C_sklearn_cont.ipynb\" target=\"_parent\"><img src=\"https://colab.research.google.com/assets/colab-badge.svg\" alt=\"Open In Colab\"/></a>"
      ]
    },
    {
      "cell_type": "markdown",
      "metadata": {
        "id": "5WiligzjBC7g"
      },
      "source": [
        "# TF, sklearn continuous model"
      ]
    },
    {
      "cell_type": "markdown",
      "metadata": {
        "id": "iYe-l3WN7u4c"
      },
      "source": [
        "# Mount the google drive"
      ]
    },
    {
      "cell_type": "code",
      "metadata": {
        "colab": {
          "base_uri": "https://localhost:8080/"
        },
        "id": "BvoWhRFXAL0-",
        "outputId": "895c2e8f-cd07-40c3-e018-9b150bd9962a"
      },
      "source": [
        "from google.colab import drive\n",
        "drive.mount('/content/drive')"
      ],
      "execution_count": null,
      "outputs": [
        {
          "output_type": "stream",
          "name": "stdout",
          "text": [
            "Mounted at /content/drive\n"
          ]
        }
      ]
    },
    {
      "cell_type": "code",
      "metadata": {
        "id": "jwdPFniWBC7h"
      },
      "source": [
        "# Python ≥3.5 \n",
        "import sys\n",
        "assert sys.version_info >= (3, 5)\n",
        "\n",
        "# Scikit-Learn ≥0.20\n",
        "import sklearn\n",
        "assert sklearn.__version__ >= \"0.20\"\n",
        "\n",
        "# Common imports\n",
        "import numpy as np\n",
        "import pandas as pd\n",
        "\n",
        "# Figures plot\n",
        "%matplotlib inline\n",
        "import matplotlib as mpl\n",
        "import matplotlib.pyplot as plt\n",
        "mpl.rc('axes', labelsize=14)\n",
        "mpl.rc('xtick', labelsize=12)\n",
        "mpl.rc('ytick', labelsize=12)\n",
        "\n",
        "# Ignore warnings\n",
        "import warnings\n",
        "warnings.filterwarnings(action=\"ignore\", message=\"^internal gelsd\")"
      ],
      "execution_count": null,
      "outputs": []
    },
    {
      "cell_type": "markdown",
      "metadata": {
        "id": "0LrjAjNOBC7i"
      },
      "source": [
        "# GUI to import data file (xlsx)"
      ]
    },
    {
      "cell_type": "code",
      "metadata": {
        "id": "YJInrnp6BC7j"
      },
      "source": [
        "from google.colab import files\n",
        "import io\n",
        "#uploaded = files.upload() \n",
        "#df = pd.read_excel(io.BytesIO(uploaded['Data.xlsx']))\n",
        "\n",
        "df = pd.read_excel('/content/drive/MyDrive/Data.xlsx')\n",
        "df = pd.DataFrame(df)"
      ],
      "execution_count": null,
      "outputs": []
    },
    {
      "cell_type": "code",
      "metadata": {
        "colab": {
          "base_uri": "https://localhost:8080/"
        },
        "id": "YBC6KfXyBC7j",
        "outputId": "f851f32c-8ea2-4036-fc6f-63b876735842"
      },
      "source": [
        "df.info() # BW nad BH are standing for body weight and body height, respectively"
      ],
      "execution_count": null,
      "outputs": [
        {
          "output_type": "stream",
          "name": "stdout",
          "text": [
            "<class 'pandas.core.frame.DataFrame'>\n",
            "RangeIndex: 1712 entries, 0 to 1711\n",
            "Data columns (total 8 columns):\n",
            " #   Column  Non-Null Count  Dtype  \n",
            "---  ------  --------------  -----  \n",
            " 0   Age     1712 non-null   int64  \n",
            " 1   Sex     1712 non-null   object \n",
            " 2   BW      1712 non-null   float64\n",
            " 3   BH      1712 non-null   int64  \n",
            " 4   Wmax    1712 non-null   int64  \n",
            " 5   Norm    1712 non-null   float64\n",
            " 6   Level   1712 non-null   object \n",
            " 7   Type    1712 non-null   object \n",
            "dtypes: float64(2), int64(3), object(3)\n",
            "memory usage: 107.1+ KB\n"
          ]
        }
      ]
    },
    {
      "cell_type": "code",
      "metadata": {
        "colab": {
          "base_uri": "https://localhost:8080/",
          "height": 341
        },
        "id": "xp7rn9pTBC7l",
        "outputId": "fe60e38f-c223-4bd1-93b3-6b64a920bd3e"
      },
      "source": [
        "# Histogram of gender distribution\n",
        "df['Sex']=np.where(df['Sex']==\"W\",0,1)\n",
        "df['Sex'].hist(label=int,align='mid',color=['green'])\n",
        "df['Level'].value_counts()"
      ],
      "execution_count": null,
      "outputs": [
        {
          "output_type": "execute_result",
          "data": {
            "text/plain": [
              "Good        973\n",
              "Moderate    622\n",
              "Bad         117\n",
              "Name: Level, dtype: int64"
            ]
          },
          "metadata": {},
          "execution_count": 217
        },
        {
          "output_type": "display_data",
          "data": {
            "image/png": "[encoded data removed]",
            "text/plain": [
              "<Figure size 432x288 with 1 Axes>"
            ]
          },
          "metadata": {
            "needs_background": "light"
          }
        }
      ]
    },
    {
      "cell_type": "markdown",
      "metadata": {
        "id": "0lqZ-RUOBC7l"
      },
      "source": [
        "## Writing a function for BMI calculation and adding a new column\n",
        "https://en.wikipedia.org/wiki/Body_mass_index"
      ]
    },
    {
      "cell_type": "code",
      "metadata": {
        "id": "NCBaH1OrBC7m"
      },
      "source": [
        "# Function\n",
        "def bmi(bw,bh):\n",
        "    return bw/((bh/100)*(bh/100))"
      ],
      "execution_count": null,
      "outputs": []
    },
    {
      "cell_type": "code",
      "metadata": {
        "id": "R7d1EZB4BC7m"
      },
      "source": [
        "# Adding a new column\n",
        "df['BMI']=bmi(df.iloc[:,2],df.iloc[:,3]) "
      ],
      "execution_count": null,
      "outputs": []
    },
    {
      "cell_type": "code",
      "metadata": {
        "colab": {
          "base_uri": "https://localhost:8080/",
          "height": 300
        },
        "id": "Ji_o9BehBC7n",
        "outputId": "afd240d9-d40b-4d94-ca18-bfabda8781b3"
      },
      "source": [
        "#df.loc[df['Gender'] == 'W'].describe()\n",
        "df.describe()"
      ],
      "execution_count": null,
      "outputs": [
        {
          "output_type": "execute_result",
          "data": {
            "text/html": [
              "<div>\n",
              "<style scoped>\n",
              "    .dataframe tbody tr th:only-of-type {\n",
              "        vertical-align: middle;\n",
              "    }\n",
              "\n",
              "    .dataframe tbody tr th {\n",
              "        vertical-align: top;\n",
              "    }\n",
              "\n",
              "    .dataframe thead th {\n",
              "        text-align: right;\n",
              "    }\n",
              "</style>\n",
              "<table border=\"1\" class=\"dataframe\">\n",
              "  <thead>\n",
              "    <tr style=\"text-align: right;\">\n",
              "      <th></th>\n",
              "      <th>Age</th>\n",
              "      <th>Sex</th>\n",
              "      <th>BW</th>\n",
              "      <th>BH</th>\n",
              "      <th>Wmax</th>\n",
              "      <th>Norm</th>\n",
              "      <th>BMI</th>\n",
              "    </tr>\n",
              "  </thead>\n",
              "  <tbody>\n",
              "    <tr>\n",
              "      <th>count</th>\n",
              "      <td>1712.000000</td>\n",
              "      <td>1712.000000</td>\n",
              "      <td>1712.000000</td>\n",
              "      <td>1712.000000</td>\n",
              "      <td>1712.000000</td>\n",
              "      <td>1712.000000</td>\n",
              "      <td>1712.000000</td>\n",
              "    </tr>\n",
              "    <tr>\n",
              "      <th>mean</th>\n",
              "      <td>55.765771</td>\n",
              "      <td>0.341706</td>\n",
              "      <td>75.929030</td>\n",
              "      <td>168.342874</td>\n",
              "      <td>118.494743</td>\n",
              "      <td>85.097715</td>\n",
              "      <td>26.726015</td>\n",
              "    </tr>\n",
              "    <tr>\n",
              "      <th>std</th>\n",
              "      <td>10.930445</td>\n",
              "      <td>0.474420</td>\n",
              "      <td>16.636734</td>\n",
              "      <td>8.964106</td>\n",
              "      <td>41.874907</td>\n",
              "      <td>23.719701</td>\n",
              "      <td>5.137146</td>\n",
              "    </tr>\n",
              "    <tr>\n",
              "      <th>min</th>\n",
              "      <td>18.000000</td>\n",
              "      <td>0.000000</td>\n",
              "      <td>38.000000</td>\n",
              "      <td>136.000000</td>\n",
              "      <td>26.000000</td>\n",
              "      <td>19.620253</td>\n",
              "      <td>15.570934</td>\n",
              "    </tr>\n",
              "    <tr>\n",
              "      <th>25%</th>\n",
              "      <td>49.000000</td>\n",
              "      <td>0.000000</td>\n",
              "      <td>63.000000</td>\n",
              "      <td>162.000000</td>\n",
              "      <td>88.000000</td>\n",
              "      <td>68.965517</td>\n",
              "      <td>23.183603</td>\n",
              "    </tr>\n",
              "    <tr>\n",
              "      <th>50%</th>\n",
              "      <td>56.000000</td>\n",
              "      <td>0.000000</td>\n",
              "      <td>73.500000</td>\n",
              "      <td>168.000000</td>\n",
              "      <td>112.000000</td>\n",
              "      <td>84.274745</td>\n",
              "      <td>25.884072</td>\n",
              "    </tr>\n",
              "    <tr>\n",
              "      <th>75%</th>\n",
              "      <td>62.000000</td>\n",
              "      <td>1.000000</td>\n",
              "      <td>86.000000</td>\n",
              "      <td>174.000000</td>\n",
              "      <td>141.000000</td>\n",
              "      <td>100.934829</td>\n",
              "      <td>29.666548</td>\n",
              "    </tr>\n",
              "    <tr>\n",
              "      <th>max</th>\n",
              "      <td>88.000000</td>\n",
              "      <td>1.000000</td>\n",
              "      <td>143.000000</td>\n",
              "      <td>200.000000</td>\n",
              "      <td>327.000000</td>\n",
              "      <td>175.652174</td>\n",
              "      <td>49.480969</td>\n",
              "    </tr>\n",
              "  </tbody>\n",
              "</table>\n",
              "</div>"
            ],
            "text/plain": [
              "               Age          Sex  ...         Norm          BMI\n",
              "count  1712.000000  1712.000000  ...  1712.000000  1712.000000\n",
              "mean     55.765771     0.341706  ...    85.097715    26.726015\n",
              "std      10.930445     0.474420  ...    23.719701     5.137146\n",
              "min      18.000000     0.000000  ...    19.620253    15.570934\n",
              "25%      49.000000     0.000000  ...    68.965517    23.183603\n",
              "50%      56.000000     0.000000  ...    84.274745    25.884072\n",
              "75%      62.000000     1.000000  ...   100.934829    29.666548\n",
              "max      88.000000     1.000000  ...   175.652174    49.480969\n",
              "\n",
              "[8 rows x 7 columns]"
            ]
          },
          "metadata": {},
          "execution_count": 220
        }
      ]
    },
    {
      "cell_type": "markdown",
      "metadata": {
        "id": "uTuPeR_LBC7o"
      },
      "source": [
        "## Histogram distribution of each attribute"
      ]
    },
    {
      "cell_type": "code",
      "metadata": {
        "colab": {
          "base_uri": "https://localhost:8080/",
          "height": 882
        },
        "id": "uoJVR55GBC7o",
        "outputId": "d32b0a92-2eba-44e0-f0f0-15114b8a950b"
      },
      "source": [
        "df.hist(bins=10, figsize=(15,15))\n",
        "plt.show()"
      ],
      "execution_count": null,
      "outputs": [
        {
          "output_type": "display_data",
          "data": {
            "image/png": "[encoded data removed]",
            "text/plain": [
              "<Figure size 1080x1080 with 9 Axes>"
            ]
          },
          "metadata": {
            "needs_background": "light"
          }
        }
      ]
    },
    {
      "cell_type": "code",
      "metadata": {
        "id": "Rh3m5rspBC7o"
      },
      "source": [
        "np.random.seed(42) # To ensure the repeatability of train/test results. It means that every time we run models the train/test samples will be same\n",
        "del df['Norm']\n",
        "del df['Type']\n",
        "del df['Level']\n",
        "#del df['Gender']\n",
        "#del df['BW']\n",
        "#del df['BMI']\n",
        "#del df['Wmax'] # continuous"
      ],
      "execution_count": null,
      "outputs": []
    },
    {
      "cell_type": "code",
      "metadata": {
        "colab": {
          "base_uri": "https://localhost:8080/",
          "height": 424
        },
        "id": "EJ8fsibYZ84K",
        "outputId": "05264906-d262-482f-a23a-c27bc239466b"
      },
      "source": [
        "df"
      ],
      "execution_count": null,
      "outputs": [
        {
          "output_type": "execute_result",
          "data": {
            "text/html": [
              "<div>\n",
              "<style scoped>\n",
              "    .dataframe tbody tr th:only-of-type {\n",
              "        vertical-align: middle;\n",
              "    }\n",
              "\n",
              "    .dataframe tbody tr th {\n",
              "        vertical-align: top;\n",
              "    }\n",
              "\n",
              "    .dataframe thead th {\n",
              "        text-align: right;\n",
              "    }\n",
              "</style>\n",
              "<table border=\"1\" class=\"dataframe\">\n",
              "  <thead>\n",
              "    <tr style=\"text-align: right;\">\n",
              "      <th></th>\n",
              "      <th>Age</th>\n",
              "      <th>Sex</th>\n",
              "      <th>BW</th>\n",
              "      <th>BH</th>\n",
              "      <th>Wmax</th>\n",
              "      <th>BMI</th>\n",
              "    </tr>\n",
              "  </thead>\n",
              "  <tbody>\n",
              "    <tr>\n",
              "      <th>0</th>\n",
              "      <td>40</td>\n",
              "      <td>0</td>\n",
              "      <td>57.0</td>\n",
              "      <td>165</td>\n",
              "      <td>130</td>\n",
              "      <td>20.936639</td>\n",
              "    </tr>\n",
              "    <tr>\n",
              "      <th>1</th>\n",
              "      <td>51</td>\n",
              "      <td>0</td>\n",
              "      <td>63.0</td>\n",
              "      <td>159</td>\n",
              "      <td>131</td>\n",
              "      <td>24.919900</td>\n",
              "    </tr>\n",
              "    <tr>\n",
              "      <th>2</th>\n",
              "      <td>66</td>\n",
              "      <td>1</td>\n",
              "      <td>66.0</td>\n",
              "      <td>165</td>\n",
              "      <td>118</td>\n",
              "      <td>24.242424</td>\n",
              "    </tr>\n",
              "    <tr>\n",
              "      <th>3</th>\n",
              "      <td>66</td>\n",
              "      <td>0</td>\n",
              "      <td>86.0</td>\n",
              "      <td>155</td>\n",
              "      <td>75</td>\n",
              "      <td>35.796046</td>\n",
              "    </tr>\n",
              "    <tr>\n",
              "      <th>4</th>\n",
              "      <td>72</td>\n",
              "      <td>1</td>\n",
              "      <td>72.0</td>\n",
              "      <td>170</td>\n",
              "      <td>105</td>\n",
              "      <td>24.913495</td>\n",
              "    </tr>\n",
              "    <tr>\n",
              "      <th>...</th>\n",
              "      <td>...</td>\n",
              "      <td>...</td>\n",
              "      <td>...</td>\n",
              "      <td>...</td>\n",
              "      <td>...</td>\n",
              "      <td>...</td>\n",
              "    </tr>\n",
              "    <tr>\n",
              "      <th>1707</th>\n",
              "      <td>55</td>\n",
              "      <td>1</td>\n",
              "      <td>63.0</td>\n",
              "      <td>163</td>\n",
              "      <td>87</td>\n",
              "      <td>23.711845</td>\n",
              "    </tr>\n",
              "    <tr>\n",
              "      <th>1708</th>\n",
              "      <td>57</td>\n",
              "      <td>0</td>\n",
              "      <td>71.0</td>\n",
              "      <td>164</td>\n",
              "      <td>57</td>\n",
              "      <td>26.397977</td>\n",
              "    </tr>\n",
              "    <tr>\n",
              "      <th>1709</th>\n",
              "      <td>65</td>\n",
              "      <td>0</td>\n",
              "      <td>63.0</td>\n",
              "      <td>168</td>\n",
              "      <td>112</td>\n",
              "      <td>22.321429</td>\n",
              "    </tr>\n",
              "    <tr>\n",
              "      <th>1710</th>\n",
              "      <td>67</td>\n",
              "      <td>0</td>\n",
              "      <td>68.0</td>\n",
              "      <td>163</td>\n",
              "      <td>84</td>\n",
              "      <td>25.593737</td>\n",
              "    </tr>\n",
              "    <tr>\n",
              "      <th>1711</th>\n",
              "      <td>53</td>\n",
              "      <td>0</td>\n",
              "      <td>89.0</td>\n",
              "      <td>169</td>\n",
              "      <td>175</td>\n",
              "      <td>31.161374</td>\n",
              "    </tr>\n",
              "  </tbody>\n",
              "</table>\n",
              "<p>1712 rows × 6 columns</p>\n",
              "</div>"
            ],
            "text/plain": [
              "      Age  Sex    BW   BH  Wmax        BMI\n",
              "0      40    0  57.0  165   130  20.936639\n",
              "1      51    0  63.0  159   131  24.919900\n",
              "2      66    1  66.0  165   118  24.242424\n",
              "3      66    0  86.0  155    75  35.796046\n",
              "4      72    1  72.0  170   105  24.913495\n",
              "...   ...  ...   ...  ...   ...        ...\n",
              "1707   55    1  63.0  163    87  23.711845\n",
              "1708   57    0  71.0  164    57  26.397977\n",
              "1709   65    0  63.0  168   112  22.321429\n",
              "1710   67    0  68.0  163    84  25.593737\n",
              "1711   53    0  89.0  169   175  31.161374\n",
              "\n",
              "[1712 rows x 6 columns]"
            ]
          },
          "metadata": {},
          "execution_count": 223
        }
      ]
    },
    {
      "cell_type": "code",
      "metadata": {
        "id": "8AhoP6b8QS2e"
      },
      "source": [
        "#df=df.loc[df['Type'] == 'Brustkrebs']\n",
        "#df=df.loc[df['Gender'] == 'W']\n",
        "#df"
      ],
      "execution_count": null,
      "outputs": []
    },
    {
      "cell_type": "markdown",
      "metadata": {
        "id": "C_NlQW_QBC7p"
      },
      "source": [
        "# PREPARING TRAINING AND TEST SET"
      ]
    },
    {
      "cell_type": "code",
      "metadata": {
        "id": "yS6wKdgHBC7p"
      },
      "source": [
        "## CONTINUOUS\n",
        "\n",
        "from sklearn.model_selection import train_test_split\n",
        "\n",
        "train_set, test_set = train_test_split(df, test_size=0.2, random_state=42)\n",
        "train_labels = train_set[\"Wmax\"].copy()       # Save a copy of label variable\n",
        "train_set = train_set.drop(\"Wmax\", axis=1)    # Drop label variable from training set\n",
        "test_lebels = test_set[\"Wmax\"].copy()\n",
        "test_set = test_set.drop(\"Wmax\", axis=1) "
      ],
      "execution_count": null,
      "outputs": []
    },
    {
      "cell_type": "code",
      "metadata": {
        "id": "W3TtXZnaBC7q"
      },
      "source": [
        "train_num = train_set"
      ],
      "execution_count": null,
      "outputs": []
    },
    {
      "cell_type": "code",
      "metadata": {
        "id": "gf4BzDbUMioK"
      },
      "source": [
        "test_num = test_set"
      ],
      "execution_count": null,
      "outputs": []
    },
    {
      "cell_type": "markdown",
      "metadata": {
        "id": "aAefdJxuBC7q"
      },
      "source": [
        "# PIPELINE"
      ]
    },
    {
      "cell_type": "code",
      "metadata": {
        "id": "z5wQ4einBC7q"
      },
      "source": [
        "# Pipline to scale numerical variables and transform categorical variable (gender) into binary\n",
        "\n",
        "from sklearn.pipeline import Pipeline\n",
        "from sklearn.preprocessing import StandardScaler\n",
        "from sklearn.preprocessing import MinMaxScaler\n",
        "\n",
        "pipeline = Pipeline([\n",
        "        ('std_scaler', MinMaxScaler()),])\n",
        "train_prepared = pipeline.fit_transform(train_num)"
      ],
      "execution_count": null,
      "outputs": []
    },
    {
      "cell_type": "code",
      "metadata": {
        "id": "Zz5hUSFPBC7q"
      },
      "source": [
        "train_prepared # Only numerical variables were scaled (Age, BW, BH and BMI)"
      ],
      "execution_count": null,
      "outputs": []
    },
    {
      "cell_type": "code",
      "metadata": {
        "id": "f1n_ZkjMM4Mv"
      },
      "source": [
        "test_prepared = pipeline.fit_transform(test_num)"
      ],
      "execution_count": null,
      "outputs": []
    },
    {
      "cell_type": "code",
      "metadata": {
        "id": "eU6arJ_BBC7r"
      },
      "source": [
        "#from sklearn.preprocessing import OneHotEncoder\n",
        "#from sklearn.compose import ColumnTransformer\n",
        "\n",
        "#num_attribs = list(train_num) #train_num\n",
        "#cat_attribs = [\"Sex\"]\n",
        "\n",
        "#full_pipeline = ColumnTransformer([\n",
        "        #(\"num\", pipeline, num_attribs),\n",
        "        #(\"cat\", OneHotEncoder(), cat_attribs),])\n",
        "\n",
        "#train_prepared = full_pipeline.fit_transform(train_set) # Training set is ready for use"
      ],
      "execution_count": null,
      "outputs": []
    },
    {
      "cell_type": "code",
      "metadata": {
        "id": "EQPVzWWvBC7r"
      },
      "source": [
        "#train_prepared # Numerical and categorical variables are scaled"
      ],
      "execution_count": null,
      "outputs": []
    },
    {
      "cell_type": "code",
      "metadata": {
        "id": "_LHi_lc6M-SZ"
      },
      "source": [
        "#test_prepared = full_pipeline.fit_transform(test_set)\n",
        "#test_prepared"
      ],
      "execution_count": null,
      "outputs": []
    },
    {
      "cell_type": "markdown",
      "metadata": {
        "id": "TRpnoySDBC7w"
      },
      "source": [
        "# SELECTING AND TRAINING THE MODEL"
      ]
    },
    {
      "cell_type": "markdown",
      "metadata": {
        "id": "5BM0L07OBC7w"
      },
      "source": [
        "## Linear regression"
      ]
    },
    {
      "cell_type": "code",
      "metadata": {
        "id": "yweOe349BC7w"
      },
      "source": [
        "from sklearn.linear_model import LinearRegression\n",
        "\n",
        "lin_reg = LinearRegression(n_jobs=1)\n",
        "lin_reg_fit = lin_reg.fit(train_prepared, train_labels)"
      ],
      "execution_count": null,
      "outputs": []
    },
    {
      "cell_type": "code",
      "metadata": {
        "colab": {
          "base_uri": "https://localhost:8080/"
        },
        "id": "_PCoygsLBC7w",
        "outputId": "93c2e79d-445f-4288-80ff-c18dfb5b97ef"
      },
      "source": [
        "# RMSE for linear model\n",
        "from sklearn.metrics import mean_squared_error\n",
        "\n",
        "watt_predictions = lin_reg.predict(train_prepared)\n",
        "lin_mse = mean_squared_error(train_labels, watt_predictions)\n",
        "lin_rmse = np.sqrt(lin_mse)\n",
        "print(\"RMSE is: \",lin_rmse) # We can see that the prediction error for linear model is 32.5 Watt "
      ],
      "execution_count": null,
      "outputs": [
        {
          "output_type": "stream",
          "name": "stdout",
          "text": [
            "RMSE is:  32.46354580734144\n"
          ]
        }
      ]
    },
    {
      "cell_type": "code",
      "metadata": {
        "colab": {
          "base_uri": "https://localhost:8080/"
        },
        "id": "bDibaMykjZ6I",
        "outputId": "469a9388-a087-475a-ba46-dceb91ae8d44"
      },
      "source": [
        "errors = abs(watt_predictions - train_labels)# Print out the mean absolute error (mae)\n",
        "\n",
        "print('Mean Absolute Error:', round(np.mean(errors), 2), 'Watt.')"
      ],
      "execution_count": null,
      "outputs": [
        {
          "output_type": "stream",
          "name": "stdout",
          "text": [
            "Mean Absolute Error: 25.07 Watt.\n"
          ]
        }
      ]
    },
    {
      "cell_type": "code",
      "metadata": {
        "id": "-Os-H_eANQK6"
      },
      "source": [
        "watt_predictions_test = lin_reg.predict(test_prepared)"
      ],
      "execution_count": null,
      "outputs": []
    },
    {
      "cell_type": "code",
      "metadata": {
        "colab": {
          "base_uri": "https://localhost:8080/"
        },
        "id": "PU_3uO_7LePj",
        "outputId": "917fc591-e255-4b06-d6df-f2f2d4050e91"
      },
      "source": [
        "from sklearn.metrics import r2_score\n",
        "r2_score(watt_predictions_test, test_lebels)"
      ],
      "execution_count": null,
      "outputs": [
        {
          "output_type": "execute_result",
          "data": {
            "text/plain": [
              "-0.470028952808748"
            ]
          },
          "metadata": {},
          "execution_count": 242
        }
      ]
    },
    {
      "cell_type": "code",
      "metadata": {
        "colab": {
          "base_uri": "https://localhost:8080/"
        },
        "id": "IhWiXVkhYazu",
        "outputId": "4488b557-ceae-4b29-db90-bda05544a0a5"
      },
      "source": [
        "lin_reg.score(train_prepared, train_labels)"
      ],
      "execution_count": null,
      "outputs": [
        {
          "output_type": "execute_result",
          "data": {
            "text/plain": [
              "0.40059638323238256"
            ]
          },
          "metadata": {},
          "execution_count": 243
        }
      ]
    },
    {
      "cell_type": "code",
      "metadata": {
        "colab": {
          "base_uri": "https://localhost:8080/"
        },
        "id": "HSxn-lhVY1LH",
        "outputId": "5c419f64-d8c9-4527-e8da-3b730ca2f225"
      },
      "source": [
        "# Calculate mean absolute percentage error (MAPE)\n",
        "mape = 100/len(train_labels) * sum(errors / train_labels)# Calculate and display accuracy\n",
        "accuracy = 100 - np.mean(mape)\n",
        "print('Accuracy:', round(accuracy, 2), '%.')"
      ],
      "execution_count": null,
      "outputs": [
        {
          "output_type": "stream",
          "name": "stdout",
          "text": [
            "Accuracy: 75.17 %.\n"
          ]
        }
      ]
    },
    {
      "cell_type": "markdown",
      "metadata": {
        "id": "gU65eL8NgkQ3"
      },
      "source": [
        "### Fine-tune linear regression"
      ]
    },
    {
      "cell_type": "code",
      "metadata": {
        "id": "lAJKm9N5L6Ne",
        "colab": {
          "base_uri": "https://localhost:8080/"
        },
        "outputId": "71a65c7f-e563-46ef-bafd-754bf804b5c8"
      },
      "source": [
        "from sklearn.model_selection import GridSearchCV\n",
        "import warnings\n",
        "warnings.filterwarnings(\"ignore\")\n",
        "\n",
        "param_grid = [\n",
        "    \n",
        "    {'copy_X': [True],\n",
        "     'fit_intercept': [True],\n",
        "     'n_jobs': [1,], \n",
        "     'normalize': [False]\n",
        "  }]\n",
        "\n",
        "model = LinearRegression()\n",
        "# train across 5 folds, that's a total of (12+6)*5=90 rounds of training \n",
        "grid_search_lr = GridSearchCV(model, param_grid, cv=10,\n",
        "                           scoring='neg_mean_squared_error',\n",
        "                           return_train_score=True)\n",
        "grid_search_lr.fit(train_prepared, train_labels)"
      ],
      "execution_count": null,
      "outputs": [
        {
          "output_type": "execute_result",
          "data": {
            "text/plain": [
              "GridSearchCV(cv=10, estimator=LinearRegression(),\n",
              "             param_grid=[{'copy_X': [True], 'fit_intercept': [True],\n",
              "                          'n_jobs': [1], 'normalize': [False]}],\n",
              "             return_train_score=True, scoring='neg_mean_squared_error')"
            ]
          },
          "metadata": {},
          "execution_count": 245
        }
      ]
    },
    {
      "cell_type": "code",
      "metadata": {
        "colab": {
          "base_uri": "https://localhost:8080/"
        },
        "id": "WJdoN_MtgHtT",
        "outputId": "7e86cd1a-ed94-4e34-8faf-c0f6b16593b9"
      },
      "source": [
        "grid_search_lr.best_params_"
      ],
      "execution_count": null,
      "outputs": [
        {
          "output_type": "execute_result",
          "data": {
            "text/plain": [
              "{'copy_X': True, 'fit_intercept': True, 'n_jobs': 1, 'normalize': False}"
            ]
          },
          "metadata": {},
          "execution_count": 246
        }
      ]
    },
    {
      "cell_type": "code",
      "metadata": {
        "colab": {
          "base_uri": "https://localhost:8080/"
        },
        "id": "1wO5c9Xvghgy",
        "outputId": "d7c30252-d996-46cf-f62d-9bbafacc0354"
      },
      "source": [
        "grid_search_lr.best_estimator_"
      ],
      "execution_count": null,
      "outputs": [
        {
          "output_type": "execute_result",
          "data": {
            "text/plain": [
              "LinearRegression(n_jobs=1, normalize=False)"
            ]
          },
          "metadata": {},
          "execution_count": 247
        }
      ]
    },
    {
      "cell_type": "code",
      "metadata": {
        "colab": {
          "base_uri": "https://localhost:8080/"
        },
        "id": "v71dSwWOzRnn",
        "outputId": "f806b4f7-889c-4e3e-e89e-cfdac7650691"
      },
      "source": [
        "negative_mse = grid_search_lr.best_score_\n",
        "rmse = np.sqrt(-negative_mse)\n",
        "rmse"
      ],
      "execution_count": null,
      "outputs": [
        {
          "output_type": "execute_result",
          "data": {
            "text/plain": [
              "32.65822845474984"
            ]
          },
          "metadata": {},
          "execution_count": 248
        }
      ]
    },
    {
      "cell_type": "markdown",
      "metadata": {
        "id": "YPg5PiQwBC7w"
      },
      "source": [
        "## Support vector regressor (SVR)"
      ]
    },
    {
      "cell_type": "code",
      "metadata": {
        "id": "CqVjAUZpBC7w"
      },
      "source": [
        "from sklearn.svm import SVR\n",
        "\n",
        "svm_reg = SVR(kernel=\"rbf\", epsilon=3, C=100, cache_size= 100, degree=0.1, gamma='scale', max_iter = -1, tol =1, coef0= 0.1)\n",
        "svm_reg_fit = svm_reg.fit(train_prepared, train_labels)"
      ],
      "execution_count": null,
      "outputs": []
    },
    {
      "cell_type": "code",
      "metadata": {
        "colab": {
          "base_uri": "https://localhost:8080/"
        },
        "id": "MBZnP5X9BC7x",
        "outputId": "7ffe2866-6f78-4be5-ecbf-06cf6092b585"
      },
      "source": [
        "# RMSE for SVR model\n",
        "from sklearn.metrics import mean_squared_error\n",
        "\n",
        "watt_SVR_predictions = svm_reg.predict(train_prepared)\n",
        "SVR_mse = mean_squared_error(train_labels, watt_SVR_predictions)\n",
        "SVR_rmse = np.sqrt(SVR_mse)\n",
        "print (\"RMSE is: \",SVR_rmse) # We can see that the prediction error for SVR model is 32.6 Wat"
      ],
      "execution_count": null,
      "outputs": [
        {
          "output_type": "stream",
          "name": "stdout",
          "text": [
            "RMSE is:  31.082506998716934\n"
          ]
        }
      ]
    },
    {
      "cell_type": "code",
      "metadata": {
        "colab": {
          "base_uri": "https://localhost:8080/"
        },
        "id": "giXrdw2SjPrr",
        "outputId": "d95c1fd9-d688-48a5-ab73-6381ace7c901"
      },
      "source": [
        "errors = abs(watt_SVR_predictions - train_labels)# Print out the mean absolute error (mae)\n",
        "\n",
        "print('Mean Absolute Error:', round(np.mean(errors), 2), 'Watt.')"
      ],
      "execution_count": null,
      "outputs": [
        {
          "output_type": "stream",
          "name": "stdout",
          "text": [
            "Mean Absolute Error: 23.57 Watt.\n"
          ]
        }
      ]
    },
    {
      "cell_type": "code",
      "metadata": {
        "colab": {
          "base_uri": "https://localhost:8080/"
        },
        "id": "axQDj-DQVEWR",
        "outputId": "c6724db7-f57c-4ef3-f0c9-4e151433e01a"
      },
      "source": [
        "from sklearn.metrics import r2_score\n",
        "watt_predictions_test = svm_reg.predict(test_prepared)\n",
        "r2_score(watt_predictions_test, test_lebels)"
      ],
      "execution_count": null,
      "outputs": [
        {
          "output_type": "execute_result",
          "data": {
            "text/plain": [
              "-0.412291138318597"
            ]
          },
          "metadata": {},
          "execution_count": 257
        }
      ]
    },
    {
      "cell_type": "code",
      "metadata": {
        "colab": {
          "base_uri": "https://localhost:8080/"
        },
        "id": "ItZZFPxjaiJV",
        "outputId": "b03e42de-7ecb-46b0-e8e1-f58b22c0e77d"
      },
      "source": [
        "svm_reg.score(train_prepared, train_labels)"
      ],
      "execution_count": null,
      "outputs": [
        {
          "output_type": "execute_result",
          "data": {
            "text/plain": [
              "0.450510330303335"
            ]
          },
          "metadata": {},
          "execution_count": 258
        }
      ]
    },
    {
      "cell_type": "code",
      "metadata": {
        "colab": {
          "base_uri": "https://localhost:8080/"
        },
        "id": "6W-5KjH2lwiR",
        "outputId": "86d2c7b0-62a7-42c2-89f9-48ac2956d40a"
      },
      "source": [
        "# Calculate mean absolute percentage error (MAPE)\n",
        "mape = 100/len(train_labels) * sum(errors / train_labels)# Calculate and display accuracy\n",
        "accuracy = 100 - np.mean(mape)\n",
        "print('Accuracy:', round(accuracy, 2), '%.')"
      ],
      "execution_count": null,
      "outputs": [
        {
          "output_type": "stream",
          "name": "stdout",
          "text": [
            "Accuracy: 76.84 %.\n"
          ]
        }
      ]
    },
    {
      "cell_type": "markdown",
      "metadata": {
        "id": "yzlk0jZJZ3KF"
      },
      "source": [
        "### Fine-tune SVR"
      ]
    },
    {
      "cell_type": "code",
      "metadata": {
        "id": "9JXEzpNakSiV",
        "colab": {
          "base_uri": "https://localhost:8080/"
        },
        "outputId": "b98151f2-fe4e-49b2-d1f0-d148ea79cbdd"
      },
      "source": [
        "from sklearn.svm import SVR\n",
        "from sklearn.model_selection import GridSearchCV\n",
        "import warnings\n",
        "warnings.filterwarnings(\"ignore\")\n",
        "\n",
        "param_grid = [\n",
        "    \n",
        "    {'C': [100],\n",
        "     'cache_size': [100],\n",
        "     'coef0': [0.1],\n",
        "     'degree': [0.1],\n",
        "     'epsilon': [3],\n",
        "     'gamma': ['scale'],\n",
        "     'kernel': ['rbf'],\n",
        "     'max_iter': [-1],\n",
        "     'shrinking': [True],\n",
        "     'tol': [1]\n",
        "  }]\n",
        "\n",
        "svm_reg = SVR()\n",
        "# train across 5 folds, that's a total of (12+6)*5=90 rounds of training \n",
        "grid_search_svr = GridSearchCV(svm_reg, param_grid, cv=10,\n",
        "                           scoring='neg_mean_squared_error',\n",
        "                           return_train_score=True)\n",
        "grid_search_svr.fit(train_prepared, train_labels)"
      ],
      "execution_count": null,
      "outputs": [
        {
          "output_type": "execute_result",
          "data": {
            "text/plain": [
              "GridSearchCV(cv=10, estimator=SVR(),\n",
              "             param_grid=[{'C': [100], 'cache_size': [100], 'coef0': [0.1],\n",
              "                          'degree': [0.1], 'epsilon': [3], 'gamma': ['scale'],\n",
              "                          'kernel': ['rbf'], 'max_iter': [-1],\n",
              "                          'shrinking': [True], 'tol': [1]}],\n",
              "             return_train_score=True, scoring='neg_mean_squared_error')"
            ]
          },
          "metadata": {},
          "execution_count": 260
        }
      ]
    },
    {
      "cell_type": "code",
      "metadata": {
        "colab": {
          "base_uri": "https://localhost:8080/"
        },
        "id": "o20zR4gVq6Fy",
        "outputId": "7b7dd23c-c0c7-490c-9718-49ef712fbb83"
      },
      "source": [
        "grid_search_svr.best_params_"
      ],
      "execution_count": null,
      "outputs": [
        {
          "output_type": "execute_result",
          "data": {
            "text/plain": [
              "{'C': 100,\n",
              " 'cache_size': 100,\n",
              " 'coef0': 0.1,\n",
              " 'degree': 0.1,\n",
              " 'epsilon': 3,\n",
              " 'gamma': 'scale',\n",
              " 'kernel': 'rbf',\n",
              " 'max_iter': -1,\n",
              " 'shrinking': True,\n",
              " 'tol': 1}"
            ]
          },
          "metadata": {},
          "execution_count": 261
        }
      ]
    },
    {
      "cell_type": "code",
      "metadata": {
        "colab": {
          "base_uri": "https://localhost:8080/"
        },
        "id": "dfPKEnDgM-LS",
        "outputId": "0bd517e9-3e3e-4ebf-bb99-425f78c0a9cf"
      },
      "source": [
        "negative_mse = grid_search_svr.best_score_\n",
        "rmse = np.sqrt(-negative_mse)\n",
        "rmse"
      ],
      "execution_count": null,
      "outputs": [
        {
          "output_type": "execute_result",
          "data": {
            "text/plain": [
              "31.906525329779708"
            ]
          },
          "metadata": {},
          "execution_count": 262
        }
      ]
    },
    {
      "cell_type": "markdown",
      "metadata": {
        "id": "sHhhsjGlBC7x"
      },
      "source": [
        "## Random forest model"
      ]
    },
    {
      "cell_type": "code",
      "metadata": {
        "id": "71G0COSxBC7x"
      },
      "source": [
        "from sklearn.ensemble import RandomForestRegressor\n",
        "\n",
        "forest_reg = RandomForestRegressor(random_state=42, oob_score=True, n_estimators=2000, max_features=2, bootstrap = True, max_depth = 8, min_samples_leaf = 4, min_samples_split = 2)\n",
        "forest_fit = forest_reg.fit(train_prepared, train_labels)"
      ],
      "execution_count": null,
      "outputs": []
    },
    {
      "cell_type": "code",
      "metadata": {
        "colab": {
          "base_uri": "https://localhost:8080/"
        },
        "id": "FO0GXdw7BC7x",
        "outputId": "b53eeeb6-603f-4544-bee6-0c691575a411"
      },
      "source": [
        "# RMSE for random forest model\n",
        "\n",
        "watt_RF_predictions = forest_reg.predict(train_prepared)\n",
        "forest_mse = mean_squared_error(train_labels, watt_RF_predictions)\n",
        "forest_rmse = np.sqrt(forest_mse)\n",
        "print(\"RMSE is: \", forest_rmse) # We can see that the prediction error for linear model is 13.1 Wat (until now the model with lowest prediction error)"
      ],
      "execution_count": null,
      "outputs": [
        {
          "output_type": "stream",
          "name": "stdout",
          "text": [
            "RMSE is:  27.03238583052479\n"
          ]
        }
      ]
    },
    {
      "cell_type": "code",
      "metadata": {
        "colab": {
          "base_uri": "https://localhost:8080/"
        },
        "id": "TA1RqSAjjMJD",
        "outputId": "74e1b52f-a2e3-4cc2-939a-b75b33ca9415"
      },
      "source": [
        "errors = abs(watt_RF_predictions - train_labels)# Print out the mean absolute error (mae)\n",
        "\n",
        "print('Mean Absolute Error:', round(np.mean(errors), 2), 'Watt.')"
      ],
      "execution_count": null,
      "outputs": [
        {
          "output_type": "stream",
          "name": "stdout",
          "text": [
            "Mean Absolute Error: 20.94 Watt.\n"
          ]
        }
      ]
    },
    {
      "cell_type": "code",
      "metadata": {
        "colab": {
          "base_uri": "https://localhost:8080/"
        },
        "id": "VrJuZ8luaoRm",
        "outputId": "72508d71-0361-4bc7-f089-3f9e7c29f6f3"
      },
      "source": [
        "forest_reg.score(train_prepared, train_labels)"
      ],
      "execution_count": null,
      "outputs": [
        {
          "output_type": "execute_result",
          "data": {
            "text/plain": [
              "0.584380221213958"
            ]
          },
          "metadata": {},
          "execution_count": 266
        }
      ]
    },
    {
      "cell_type": "code",
      "metadata": {
        "colab": {
          "base_uri": "https://localhost:8080/"
        },
        "id": "8jJY-R7Wl1ai",
        "outputId": "e39c0171-efd2-401c-a858-5a2d215eb891"
      },
      "source": [
        "# Calculate mean absolute percentage error (MAPE)\n",
        "mape = 100/len(train_labels) * sum(errors / train_labels)# Calculate and display accuracy\n",
        "accuracy = 100 - np.mean(mape)\n",
        "print('Accuracy:', round(accuracy, 2), '%.')"
      ],
      "execution_count": null,
      "outputs": [
        {
          "output_type": "stream",
          "name": "stdout",
          "text": [
            "Accuracy: 79.28 %.\n"
          ]
        }
      ]
    },
    {
      "cell_type": "code",
      "metadata": {
        "colab": {
          "base_uri": "https://localhost:8080/"
        },
        "id": "xTphtV584GK3",
        "outputId": "7f3b1c3d-e24d-441e-d44d-8d1830fed776"
      },
      "source": [
        "np.mean(mape)"
      ],
      "execution_count": null,
      "outputs": [
        {
          "output_type": "execute_result",
          "data": {
            "text/plain": [
              "20.72292913389906"
            ]
          },
          "metadata": {},
          "execution_count": 268
        }
      ]
    },
    {
      "cell_type": "markdown",
      "metadata": {
        "id": "ymtuT45FadS6"
      },
      "source": [
        "### Fine-tune RF"
      ]
    },
    {
      "cell_type": "code",
      "metadata": {
        "id": "dZYkjvCjaFK1",
        "colab": {
          "base_uri": "https://localhost:8080/"
        },
        "outputId": "9621c734-c74e-45df-9aaf-9abab5cad0fe"
      },
      "source": [
        "from sklearn.model_selection import GridSearchCV\n",
        "import warnings\n",
        "warnings.filterwarnings(\"ignore\")\n",
        "\n",
        "param_grid = [\n",
        "    {'bootstrap': [True],\n",
        "     'n_estimators': [2000], \n",
        "     'max_features': [2],\n",
        "     'max_depth': [8],\n",
        "     'min_samples_leaf': [4],\n",
        "     'min_samples_split': [2]\n",
        "  }]\n",
        "\n",
        "forest_reg = RandomForestRegressor(random_state=42)\n",
        "\n",
        "grid_search_rf = GridSearchCV(forest_reg, param_grid, cv=10,\n",
        "                           scoring='neg_mean_squared_error',\n",
        "                           return_train_score=True)\n",
        "grid_search_rf.fit(train_prepared, train_labels)"
      ],
      "execution_count": null,
      "outputs": [
        {
          "output_type": "execute_result",
          "data": {
            "text/plain": [
              "GridSearchCV(cv=10, estimator=RandomForestRegressor(random_state=42),\n",
              "             param_grid=[{'bootstrap': [True], 'max_depth': [8],\n",
              "                          'max_features': [2], 'min_samples_leaf': [4],\n",
              "                          'min_samples_split': [2], 'n_estimators': [2000]}],\n",
              "             return_train_score=True, scoring='neg_mean_squared_error')"
            ]
          },
          "metadata": {},
          "execution_count": 269
        }
      ]
    },
    {
      "cell_type": "code",
      "metadata": {
        "id": "4rJ7M2SRaGkh",
        "colab": {
          "base_uri": "https://localhost:8080/"
        },
        "outputId": "def4db94-3859-42fe-a85a-32fce5f6124c"
      },
      "source": [
        "grid_search_rf.best_params_"
      ],
      "execution_count": null,
      "outputs": [
        {
          "output_type": "execute_result",
          "data": {
            "text/plain": [
              "{'bootstrap': True,\n",
              " 'max_depth': 8,\n",
              " 'max_features': 2,\n",
              " 'min_samples_leaf': 4,\n",
              " 'min_samples_split': 2,\n",
              " 'n_estimators': 2000}"
            ]
          },
          "metadata": {},
          "execution_count": 270
        }
      ]
    },
    {
      "cell_type": "code",
      "metadata": {
        "id": "ftIW6LqIaLx4",
        "colab": {
          "base_uri": "https://localhost:8080/"
        },
        "outputId": "dfd45ef3-17d2-42dd-d115-fed06ce2cbe3"
      },
      "source": [
        "grid_search_rf.best_estimator_"
      ],
      "execution_count": null,
      "outputs": [
        {
          "output_type": "execute_result",
          "data": {
            "text/plain": [
              "RandomForestRegressor(max_depth=8, max_features=2, min_samples_leaf=4,\n",
              "                      n_estimators=2000, random_state=42)"
            ]
          },
          "metadata": {},
          "execution_count": 271
        }
      ]
    },
    {
      "cell_type": "code",
      "metadata": {
        "colab": {
          "base_uri": "https://localhost:8080/"
        },
        "id": "LjtSRNF8z13h",
        "outputId": "cd6cd2ce-8e98-4e9d-d095-45c0eea5f43a"
      },
      "source": [
        "negative_mse = grid_search_rf.best_score_\n",
        "rmse = np.sqrt(-negative_mse)\n",
        "rmse"
      ],
      "execution_count": null,
      "outputs": [
        {
          "output_type": "execute_result",
          "data": {
            "text/plain": [
              "32.152181875421"
            ]
          },
          "metadata": {},
          "execution_count": 272
        }
      ]
    },
    {
      "cell_type": "markdown",
      "metadata": {
        "id": "Yda0Kx27BC7x"
      },
      "source": [
        "# CROSS-VALIDATION OF MODELS (Training set)"
      ]
    },
    {
      "cell_type": "markdown",
      "metadata": {
        "id": "kGOOHLMqBC7x"
      },
      "source": [
        "'''The following code randomly splits the training set into 10 distinct subsets called folds, then it trains and evaluates the model 10 times,\n",
        "picking a different fold for evaluation every time and training on the other 9 folds. The result is an array containing the 10 evaluation scores:'''"
      ]
    },
    {
      "cell_type": "code",
      "metadata": {
        "id": "IH1yEPPPBC7y"
      },
      "source": [
        "# Function to display the score statistics\n",
        "\n",
        "def display_scores(scores):\n",
        "    print(\"Scores:\", scores)\n",
        "    print(\"Mean:\", scores.mean())\n",
        "    print(\"Standard deviation:\", scores.std())"
      ],
      "execution_count": null,
      "outputs": []
    },
    {
      "cell_type": "code",
      "metadata": {
        "id": "14_TEkdYBC7z"
      },
      "source": [
        "from sklearn.model_selection import cross_val_score"
      ],
      "execution_count": null,
      "outputs": []
    },
    {
      "cell_type": "markdown",
      "metadata": {
        "id": "OWGkfSxIBC7z"
      },
      "source": [
        "## Linear model"
      ]
    },
    {
      "cell_type": "code",
      "metadata": {
        "colab": {
          "base_uri": "https://localhost:8080/"
        },
        "id": "SEARJ7Q1BC7z",
        "outputId": "d24dd682-25f5-421d-a9fb-dc186bbbb79e"
      },
      "source": [
        "lin_scores = cross_val_score(lin_reg, train_prepared, train_labels,\n",
        "                             scoring=\"neg_mean_squared_error\", cv=10)\n",
        "lin_rmse_scores = np.sqrt(-lin_scores)\n",
        "display_scores(lin_rmse_scores)"
      ],
      "execution_count": null,
      "outputs": [
        {
          "output_type": "stream",
          "name": "stdout",
          "text": [
            "Scores: [30.53455934 27.46985412 38.43562164 32.76486023 38.07501257 31.38868645\n",
            " 31.97227142 31.11989247 32.31836557 30.94683766]\n",
            "Mean: 32.50259614886735\n",
            "Standard deviation: 3.1845139953005894\n"
          ]
        }
      ]
    },
    {
      "cell_type": "markdown",
      "metadata": {
        "id": "9NeImVvrBC7z"
      },
      "source": [
        "## SVR"
      ]
    },
    {
      "cell_type": "code",
      "metadata": {
        "colab": {
          "base_uri": "https://localhost:8080/"
        },
        "id": "YoupofzXBC7z",
        "outputId": "b457ad3c-b8ee-48b9-c54e-627e095e1694"
      },
      "source": [
        "SVR_scores = cross_val_score(svm_reg, train_prepared, train_labels,\n",
        "                                scoring=\"neg_mean_squared_error\", cv=10)\n",
        "SVR_rmse_scores = np.sqrt(-SVR_scores)\n",
        "display_scores(SVR_rmse_scores)"
      ],
      "execution_count": null,
      "outputs": [
        {
          "output_type": "stream",
          "name": "stdout",
          "text": [
            "Scores: [33.08946124 28.69160442 42.30383222 34.62286763 39.95543067 32.13769339\n",
            " 33.53230583 33.11922414 32.18442602 31.23494387]\n",
            "Mean: 34.08717894367206\n",
            "Standard deviation: 3.8619350721229115\n"
          ]
        }
      ]
    },
    {
      "cell_type": "markdown",
      "metadata": {
        "id": "ZMlfxRtZBC7z"
      },
      "source": [
        "## Random forest"
      ]
    },
    {
      "cell_type": "code",
      "metadata": {
        "colab": {
          "base_uri": "https://localhost:8080/"
        },
        "id": "OvryC3VGBC70",
        "outputId": "43c1de05-7189-49fb-833e-bb2002909f86"
      },
      "source": [
        "forest_scores = cross_val_score(grid_search_rf, train_prepared, train_labels,\n",
        "                                scoring=\"neg_mean_squared_error\", cv=10)\n",
        "forest_rmse_scores = np.sqrt(-forest_scores)\n",
        "display_scores(forest_rmse_scores)"
      ],
      "execution_count": null,
      "outputs": [
        {
          "output_type": "stream",
          "name": "stdout",
          "text": [
            "Scores: [30.55063131 27.63770315 38.58241094 31.8558116  36.00211489 30.81268093\n",
            " 32.04384016 31.26287157 30.90550911 30.53113512]\n",
            "Mean: 32.01847087691286\n",
            "Standard deviation: 2.929218676445058\n"
          ]
        }
      ]
    },
    {
      "cell_type": "code",
      "metadata": {
        "colab": {
          "base_uri": "https://localhost:8080/",
          "height": 300
        },
        "id": "9a67hQC1BC70",
        "outputId": "9f13edbc-3fad-4bfd-8d97-a556ba0106e8"
      },
      "source": [
        "# Return the table of cross-validation for all three models\n",
        "\n",
        "scores = cross_val_score(grid_search_lr,  train_prepared, train_labels, scoring=\"neg_mean_squared_error\", cv=10)\n",
        "scores_rf = cross_val_score(grid_search_rf,  train_prepared, train_labels, scoring=\"neg_mean_squared_error\", cv=10)\n",
        "scores_svr = cross_val_score(grid_search_svr,  train_prepared, train_labels, scoring=\"neg_mean_squared_error\", cv=10)\n",
        "a = pd.Series(np.sqrt(-scores)).describe()\n",
        "b = pd.Series(np.sqrt(-scores_svr)).describe()\n",
        "c = pd.Series(np.sqrt(-scores_rf)).describe()\n",
        "\n",
        "scores_df = pd.DataFrame({\n",
        "    \"lin_reg\": a,\n",
        "    \"SVR\":b,\n",
        "    \"forest_reg\": c\n",
        "    })\n",
        "scores_df"
      ],
      "execution_count": null,
      "outputs": [
        {
          "output_type": "execute_result",
          "data": {
            "text/html": [
              "<div>\n",
              "<style scoped>\n",
              "    .dataframe tbody tr th:only-of-type {\n",
              "        vertical-align: middle;\n",
              "    }\n",
              "\n",
              "    .dataframe tbody tr th {\n",
              "        vertical-align: top;\n",
              "    }\n",
              "\n",
              "    .dataframe thead th {\n",
              "        text-align: right;\n",
              "    }\n",
              "</style>\n",
              "<table border=\"1\" class=\"dataframe\">\n",
              "  <thead>\n",
              "    <tr style=\"text-align: right;\">\n",
              "      <th></th>\n",
              "      <th>lin_reg</th>\n",
              "      <th>SVR</th>\n",
              "      <th>forest_reg</th>\n",
              "    </tr>\n",
              "  </thead>\n",
              "  <tbody>\n",
              "    <tr>\n",
              "      <th>count</th>\n",
              "      <td>10.000000</td>\n",
              "      <td>10.000000</td>\n",
              "      <td>10.000000</td>\n",
              "    </tr>\n",
              "    <tr>\n",
              "      <th>mean</th>\n",
              "      <td>32.502596</td>\n",
              "      <td>31.771915</td>\n",
              "      <td>32.018471</td>\n",
              "    </tr>\n",
              "    <tr>\n",
              "      <th>std</th>\n",
              "      <td>3.356772</td>\n",
              "      <td>3.086134</td>\n",
              "      <td>3.087668</td>\n",
              "    </tr>\n",
              "    <tr>\n",
              "      <th>min</th>\n",
              "      <td>27.469854</td>\n",
              "      <td>27.831435</td>\n",
              "      <td>27.637703</td>\n",
              "    </tr>\n",
              "    <tr>\n",
              "      <th>25%</th>\n",
              "      <td>30.990101</td>\n",
              "      <td>30.180058</td>\n",
              "      <td>30.616144</td>\n",
              "    </tr>\n",
              "    <tr>\n",
              "      <th>50%</th>\n",
              "      <td>31.680479</td>\n",
              "      <td>31.184903</td>\n",
              "      <td>31.084190</td>\n",
              "    </tr>\n",
              "    <tr>\n",
              "      <th>75%</th>\n",
              "      <td>32.653237</td>\n",
              "      <td>32.081332</td>\n",
              "      <td>31.996833</td>\n",
              "    </tr>\n",
              "    <tr>\n",
              "      <th>max</th>\n",
              "      <td>38.435622</td>\n",
              "      <td>37.791989</td>\n",
              "      <td>38.582411</td>\n",
              "    </tr>\n",
              "  </tbody>\n",
              "</table>\n",
              "</div>"
            ],
            "text/plain": [
              "         lin_reg        SVR  forest_reg\n",
              "count  10.000000  10.000000   10.000000\n",
              "mean   32.502596  31.771915   32.018471\n",
              "std     3.356772   3.086134    3.087668\n",
              "min    27.469854  27.831435   27.637703\n",
              "25%    30.990101  30.180058   30.616144\n",
              "50%    31.680479  31.184903   31.084190\n",
              "75%    32.653237  32.081332   31.996833\n",
              "max    38.435622  37.791989   38.582411"
            ]
          },
          "metadata": {},
          "execution_count": 278
        }
      ]
    },
    {
      "cell_type": "markdown",
      "metadata": {
        "id": "iT6QGDCpBC71"
      },
      "source": [
        "# FEATURE IMPORTANCE"
      ]
    },
    {
      "cell_type": "code",
      "metadata": {
        "colab": {
          "base_uri": "https://localhost:8080/"
        },
        "id": "BsGeOUL3BC71",
        "outputId": "ba4889e1-3ff3-46c0-ba3f-29fdb4124cfb"
      },
      "source": [
        "feature_importances = grid_search_rf.best_estimator_.feature_importances_\n",
        "feature_importances"
      ],
      "execution_count": null,
      "outputs": [
        {
          "output_type": "execute_result",
          "data": {
            "text/plain": [
              "array([0.2729123 , 0.14629095, 0.1485376 , 0.32483092, 0.10742823])"
            ]
          },
          "metadata": {},
          "execution_count": 279
        }
      ]
    },
    {
      "cell_type": "code",
      "metadata": {
        "id": "ELxmeGYGBC71"
      },
      "source": [
        "feature_names = list(test_num.columns)"
      ],
      "execution_count": null,
      "outputs": []
    },
    {
      "cell_type": "code",
      "metadata": {
        "colab": {
          "base_uri": "https://localhost:8080/",
          "height": 302
        },
        "id": "CHC7xn3SBC71",
        "outputId": "70deb4e5-e206-4d53-8272-8b8d001cb3a3"
      },
      "source": [
        "import seaborn as sns\n",
        "\n",
        "feature_imp = pd.Series(feature_importances,index=feature_names).sort_values(ascending=False)\n",
        "sns.barplot(x=feature_imp*100, y=feature_imp.index)\n",
        "plt.xlabel('Feature Importance Score')\n",
        "plt.ylabel('Features')\n",
        "plt.title(\"Visualizing Feature Importance\")\n",
        "for index, value in enumerate(feature_imp*100):\n",
        "    plt.text(value, index, str(\"{:.0f}\".format(value)+\" %\")) # Rounding the float\n",
        "plt.show()"
      ],
      "execution_count": null,
      "outputs": [
        {
          "output_type": "display_data",
          "data": {
            "image/png": "[encoded data removed]",
            "text/plain": [
              "<Figure size 432x288 with 1 Axes>"
            ]
          },
          "metadata": {
            "needs_background": "light"
          }
        }
      ]
    },
    {
      "cell_type": "markdown",
      "metadata": {
        "id": "1vK1zL_gBC71"
      },
      "source": [
        "# TESTING THE MODEL"
      ]
    },
    {
      "cell_type": "code",
      "metadata": {
        "id": "lDXQimqEBC72"
      },
      "source": [
        "final_model = grid_search_lr\n",
        "\n",
        "X_test = test_set\n",
        "y_test = test_lebels\n",
        "\n",
        "X_test_prepared = pipeline.transform(X_test)\n",
        "final_predictions = final_model.predict(X_test_prepared)\n",
        "\n",
        "final_mse = mean_squared_error(y_test, final_predictions)\n",
        "final_rmse = np.sqrt(final_mse)"
      ],
      "execution_count": null,
      "outputs": []
    },
    {
      "cell_type": "code",
      "metadata": {
        "colab": {
          "base_uri": "https://localhost:8080/"
        },
        "id": "pOq1-adEBC73",
        "outputId": "3a969e7b-743e-4f82-8629-3c4711702613"
      },
      "source": [
        "final_rmse"
      ],
      "execution_count": null,
      "outputs": [
        {
          "output_type": "execute_result",
          "data": {
            "text/plain": [
              "36.405544817645925"
            ]
          },
          "metadata": {},
          "execution_count": 307
        }
      ]
    },
    {
      "cell_type": "code",
      "metadata": {
        "id": "pSxI-Uz69Qrr"
      },
      "source": [
        "#from sklearn.model_selection import cross_val_score\n",
        "#score_final = cross_val_score(lin_reg,  X_test_prepared, y_test, scoring=\"neg_mean_squared_error\", cv=10)\n",
        "#final = pd.Series(np.sqrt(-score_final)).describe()\n",
        "#final"
      ],
      "execution_count": null,
      "outputs": []
    },
    {
      "cell_type": "code",
      "metadata": {
        "colab": {
          "base_uri": "https://localhost:8080/"
        },
        "id": "nWIX6fvPBC73",
        "outputId": "a9bb81f5-85a7-436b-be43-5754cd9b1968"
      },
      "source": [
        "from sklearn import metrics\n",
        "from sklearn.metrics import r2_score\n",
        "\n",
        "y_oob = final_model.predict(X_test_prepared)\n",
        "print(\"R2\",r2_score(y_test, y_oob)) # Amount of the variation in the response variable which is predictable from the input independent variable\n",
        "print(\"R2\",final_model)"
      ],
      "execution_count": null,
      "outputs": [
        {
          "output_type": "stream",
          "name": "stdout",
          "text": [
            "R2 0.23370880151100892\n",
            "R2 GridSearchCV(cv=10, estimator=LinearRegression(),\n",
            "             param_grid=[{'copy_X': [True], 'fit_intercept': [True],\n",
            "                          'n_jobs': [1], 'normalize': [False]}],\n",
            "             return_train_score=True, scoring='neg_mean_squared_error')\n"
          ]
        }
      ]
    },
    {
      "cell_type": "code",
      "metadata": {
        "colab": {
          "base_uri": "https://localhost:8080/"
        },
        "id": "Weq4iwL0BC73",
        "outputId": "99f6fe75-66d4-4b10-e866-cd846ecf59cf"
      },
      "source": [
        "from scipy import stats\n",
        "# 95% confidence interval for the test RMSE\n",
        "confidence = 0.95\n",
        "squared_errors = (final_predictions - y_test) ** 2\n",
        "np.sqrt(stats.t.interval(confidence, len(squared_errors) - 1,\n",
        "                         loc=squared_errors.mean(),\n",
        "                         scale=stats.sem(squared_errors)))"
      ],
      "execution_count": null,
      "outputs": [
        {
          "output_type": "execute_result",
          "data": {
            "text/plain": [
              "array([33.24605796, 39.31191953])"
            ]
          },
          "metadata": {},
          "execution_count": 310
        }
      ]
    },
    {
      "cell_type": "code",
      "metadata": {
        "colab": {
          "base_uri": "https://localhost:8080/"
        },
        "id": "AYItSfLTw_dU",
        "outputId": "e2a296b0-3648-4be8-c7d5-0fdced201463"
      },
      "source": [
        "errors = abs(final_predictions - y_test)# Print out the mean absolute error (mae)\n",
        "\n",
        "print('Mean Absolute Error:', round(np.mean(errors), 2), 'Watt.')"
      ],
      "execution_count": null,
      "outputs": [
        {
          "output_type": "stream",
          "name": "stdout",
          "text": [
            "Mean Absolute Error: 28.17 Watt.\n"
          ]
        }
      ]
    },
    {
      "cell_type": "code",
      "metadata": {
        "colab": {
          "base_uri": "https://localhost:8080/"
        },
        "id": "sRtasV1BxTJj",
        "outputId": "ca4791df-bc6f-4c9b-fb56-78ace9368701"
      },
      "source": [
        "# Calculate mean absolute percentage error (MAPE)\n",
        "mape = 100/len(y_test) * sum(errors / y_test)# Calculate and display accuracy\n",
        "accuracy = 100 - np.mean(mape)\n",
        "print('Accuracy:', round(mape, 2), '%.')"
      ],
      "execution_count": null,
      "outputs": [
        {
          "output_type": "stream",
          "name": "stdout",
          "text": [
            "Accuracy: 26.07 %.\n"
          ]
        }
      ]
    },
    {
      "cell_type": "markdown",
      "metadata": {
        "id": "EwoD2kBUBC73"
      },
      "source": [
        "# PREDICTING Wmax"
      ]
    },
    {
      "cell_type": "code",
      "metadata": {
        "colab": {
          "base_uri": "https://localhost:8080/"
        },
        "id": "hKf69kLjBC73",
        "outputId": "2add06c9-26b6-4cc8-f01b-338073164798"
      },
      "source": [
        "import warnings\n",
        "warnings.filterwarnings(\"ignore\")\n",
        "\n",
        "age = input(\"Please enter the AGE: \")\n",
        "age = int(age)\n",
        "print(\"Age is: \", age)\n",
        "\n",
        "bmi = input (\"Please ebter the BMI: \")\n",
        "bmi = int(bmi)\n",
        "print(\"BMI is: \", bmi)\n",
        "\n",
        "bh = input(\"Please enter the BODY HEIGHT: \")\n",
        "bh = int(bh)\n",
        "print(\"Body height is: \", bh)\n",
        "\n",
        "bw = input(\"Please enter the BODY WEIGHT: \")\n",
        "bw = int(bw)\n",
        "print(\"Body weight is: \", bw)\n",
        "\n",
        "g = input(\"Please enter your gender(W for women or M for man): \").upper()\n",
        "print(\"Gender is: \", g)\n",
        "\n",
        "a = pd.DataFrame({'Age':[age],'BMI':[bmi],'Gender':[g],'BH':[bh],'BW':[bw]})\n",
        "b = full_pipeline.transform(a)\n",
        "print(\"Your predicted Wmax is: \",int(final_model.predict(b)))"
      ],
      "execution_count": null,
      "outputs": [
        {
          "output_type": "stream",
          "name": "stdout",
          "text": [
            "Please enter the AGE: 40\n",
            "Age is:  40\n",
            "Please ebter the BMI: 27\n",
            "BMI is:  27\n",
            "Please enter the BODY HEIGHT: 180\n",
            "Body height is:  180\n",
            "Please enter the BODY WEIGHT: 87\n",
            "Body weight is:  87\n",
            "Please enter your gender(W for women or M for man): M\n",
            "Gender is:  M\n",
            "Your predicted Wmax is:  183\n"
          ]
        }
      ]
    }
  ]
}