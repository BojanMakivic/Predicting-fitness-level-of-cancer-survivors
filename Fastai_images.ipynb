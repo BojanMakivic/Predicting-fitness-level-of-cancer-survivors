{
  "nbformat": 4,
  "nbformat_minor": 0,
  "metadata": {
    "colab": {
      "name": "Fastai_images.ipynb",
      "provenance": [],
      "collapsed_sections": [],
      "machine_shape": "hm",
      "authorship_tag": "ABX9TyMhpdklIMMQbmjqtLcrv2et",
      "include_colab_link": true
    },
    "kernelspec": {
      "name": "python3",
      "display_name": "Python 3"
    },
    "language_info": {
      "name": "python"
    },
    "accelerator": "GPU",
    "widgets": {
      "application/vnd.jupyter.widget-state+json": {
        "9ed890c986fe4047bb6a3701c6c29fef": {
          "model_module": "@jupyter-widgets/controls",
          "model_name": "HBoxModel",
          "model_module_version": "1.5.0",
          "state": {
            "_view_name": "HBoxView",
            "_dom_classes": [],
            "_model_name": "HBoxModel",
            "_view_module": "@jupyter-widgets/controls",
            "_model_module_version": "1.5.0",
            "_view_count": null,
            "_view_module_version": "1.5.0",
            "box_style": "",
            "layout": "IPY_MODEL_b3c0e18a7b0140a2bfbebca79934b085",
            "_model_module": "@jupyter-widgets/controls",
            "children": [
              "IPY_MODEL_067331de6f78446196d26450116692f5",
              "IPY_MODEL_7706cd16333b4c93ab7c9599a652220a",
              "IPY_MODEL_6ac1a8bcca6e4ba88dbebca7f477b178"
            ]
          }
        },
        "b3c0e18a7b0140a2bfbebca79934b085": {
          "model_module": "@jupyter-widgets/base",
          "model_name": "LayoutModel",
          "model_module_version": "1.2.0",
          "state": {
            "_view_name": "LayoutView",
            "grid_template_rows": null,
            "right": null,
            "justify_content": null,
            "_view_module": "@jupyter-widgets/base",
            "overflow": null,
            "_model_module_version": "1.2.0",
            "_view_count": null,
            "flex_flow": null,
            "width": null,
            "min_width": null,
            "border": null,
            "align_items": null,
            "bottom": null,
            "_model_module": "@jupyter-widgets/base",
            "top": null,
            "grid_column": null,
            "overflow_y": null,
            "overflow_x": null,
            "grid_auto_flow": null,
            "grid_area": null,
            "grid_template_columns": null,
            "flex": null,
            "_model_name": "LayoutModel",
            "justify_items": null,
            "grid_row": null,
            "max_height": null,
            "align_content": null,
            "visibility": null,
            "align_self": null,
            "height": null,
            "min_height": null,
            "padding": null,
            "grid_auto_rows": null,
            "grid_gap": null,
            "max_width": null,
            "order": null,
            "_view_module_version": "1.2.0",
            "grid_template_areas": null,
            "object_position": null,
            "object_fit": null,
            "grid_auto_columns": null,
            "margin": null,
            "display": null,
            "left": null
          }
        },
        "067331de6f78446196d26450116692f5": {
          "model_module": "@jupyter-widgets/controls",
          "model_name": "HTMLModel",
          "model_module_version": "1.5.0",
          "state": {
            "_view_name": "HTMLView",
            "style": "IPY_MODEL_b8c14f478b1645cb8d3621f31e1cb699",
            "_dom_classes": [],
            "description": "",
            "_model_name": "HTMLModel",
            "placeholder": "​",
            "_view_module": "@jupyter-widgets/controls",
            "_model_module_version": "1.5.0",
            "value": "100%",
            "_view_count": null,
            "_view_module_version": "1.5.0",
            "description_tooltip": null,
            "_model_module": "@jupyter-widgets/controls",
            "layout": "IPY_MODEL_303b7e0007cf4d4a854a8ab9029e28ce"
          }
        },
        "7706cd16333b4c93ab7c9599a652220a": {
          "model_module": "@jupyter-widgets/controls",
          "model_name": "FloatProgressModel",
          "model_module_version": "1.5.0",
          "state": {
            "_view_name": "ProgressView",
            "style": "IPY_MODEL_56ac70ff8c554c1b96c92916ee66f925",
            "_dom_classes": [],
            "description": "",
            "_model_name": "FloatProgressModel",
            "bar_style": "success",
            "max": 46830571,
            "_view_module": "@jupyter-widgets/controls",
            "_model_module_version": "1.5.0",
            "value": 46830571,
            "_view_count": null,
            "_view_module_version": "1.5.0",
            "orientation": "horizontal",
            "min": 0,
            "description_tooltip": null,
            "_model_module": "@jupyter-widgets/controls",
            "layout": "IPY_MODEL_35a2d921544f46888daecf02b5cc013d"
          }
        },
        "6ac1a8bcca6e4ba88dbebca7f477b178": {
          "model_module": "@jupyter-widgets/controls",
          "model_name": "HTMLModel",
          "model_module_version": "1.5.0",
          "state": {
            "_view_name": "HTMLView",
            "style": "IPY_MODEL_f544b70d604c4f3db53437e837e889ee",
            "_dom_classes": [],
            "description": "",
            "_model_name": "HTMLModel",
            "placeholder": "​",
            "_view_module": "@jupyter-widgets/controls",
            "_model_module_version": "1.5.0",
            "value": " 44.7M/44.7M [00:00&lt;00:00, 177MB/s]",
            "_view_count": null,
            "_view_module_version": "1.5.0",
            "description_tooltip": null,
            "_model_module": "@jupyter-widgets/controls",
            "layout": "IPY_MODEL_f4bf85cc4a8341f69714953da7f3b7bd"
          }
        },
        "b8c14f478b1645cb8d3621f31e1cb699": {
          "model_module": "@jupyter-widgets/controls",
          "model_name": "DescriptionStyleModel",
          "model_module_version": "1.5.0",
          "state": {
            "_view_name": "StyleView",
            "_model_name": "DescriptionStyleModel",
            "description_width": "",
            "_view_module": "@jupyter-widgets/base",
            "_model_module_version": "1.5.0",
            "_view_count": null,
            "_view_module_version": "1.2.0",
            "_model_module": "@jupyter-widgets/controls"
          }
        },
        "303b7e0007cf4d4a854a8ab9029e28ce": {
          "model_module": "@jupyter-widgets/base",
          "model_name": "LayoutModel",
          "model_module_version": "1.2.0",
          "state": {
            "_view_name": "LayoutView",
            "grid_template_rows": null,
            "right": null,
            "justify_content": null,
            "_view_module": "@jupyter-widgets/base",
            "overflow": null,
            "_model_module_version": "1.2.0",
            "_view_count": null,
            "flex_flow": null,
            "width": null,
            "min_width": null,
            "border": null,
            "align_items": null,
            "bottom": null,
            "_model_module": "@jupyter-widgets/base",
            "top": null,
            "grid_column": null,
            "overflow_y": null,
            "overflow_x": null,
            "grid_auto_flow": null,
            "grid_area": null,
            "grid_template_columns": null,
            "flex": null,
            "_model_name": "LayoutModel",
            "justify_items": null,
            "grid_row": null,
            "max_height": null,
            "align_content": null,
            "visibility": null,
            "align_self": null,
            "height": null,
            "min_height": null,
            "padding": null,
            "grid_auto_rows": null,
            "grid_gap": null,
            "max_width": null,
            "order": null,
            "_view_module_version": "1.2.0",
            "grid_template_areas": null,
            "object_position": null,
            "object_fit": null,
            "grid_auto_columns": null,
            "margin": null,
            "display": null,
            "left": null
          }
        },
        "56ac70ff8c554c1b96c92916ee66f925": {
          "model_module": "@jupyter-widgets/controls",
          "model_name": "ProgressStyleModel",
          "model_module_version": "1.5.0",
          "state": {
            "_view_name": "StyleView",
            "_model_name": "ProgressStyleModel",
            "description_width": "",
            "_view_module": "@jupyter-widgets/base",
            "_model_module_version": "1.5.0",
            "_view_count": null,
            "_view_module_version": "1.2.0",
            "bar_color": null,
            "_model_module": "@jupyter-widgets/controls"
          }
        },
        "35a2d921544f46888daecf02b5cc013d": {
          "model_module": "@jupyter-widgets/base",
          "model_name": "LayoutModel",
          "model_module_version": "1.2.0",
          "state": {
            "_view_name": "LayoutView",
            "grid_template_rows": null,
            "right": null,
            "justify_content": null,
            "_view_module": "@jupyter-widgets/base",
            "overflow": null,
            "_model_module_version": "1.2.0",
            "_view_count": null,
            "flex_flow": null,
            "width": null,
            "min_width": null,
            "border": null,
            "align_items": null,
            "bottom": null,
            "_model_module": "@jupyter-widgets/base",
            "top": null,
            "grid_column": null,
            "overflow_y": null,
            "overflow_x": null,
            "grid_auto_flow": null,
            "grid_area": null,
            "grid_template_columns": null,
            "flex": null,
            "_model_name": "LayoutModel",
            "justify_items": null,
            "grid_row": null,
            "max_height": null,
            "align_content": null,
            "visibility": null,
            "align_self": null,
            "height": null,
            "min_height": null,
            "padding": null,
            "grid_auto_rows": null,
            "grid_gap": null,
            "max_width": null,
            "order": null,
            "_view_module_version": "1.2.0",
            "grid_template_areas": null,
            "object_position": null,
            "object_fit": null,
            "grid_auto_columns": null,
            "margin": null,
            "display": null,
            "left": null
          }
        },
        "f544b70d604c4f3db53437e837e889ee": {
          "model_module": "@jupyter-widgets/controls",
          "model_name": "DescriptionStyleModel",
          "model_module_version": "1.5.0",
          "state": {
            "_view_name": "StyleView",
            "_model_name": "DescriptionStyleModel",
            "description_width": "",
            "_view_module": "@jupyter-widgets/base",
            "_model_module_version": "1.5.0",
            "_view_count": null,
            "_view_module_version": "1.2.0",
            "_model_module": "@jupyter-widgets/controls"
          }
        },
        "f4bf85cc4a8341f69714953da7f3b7bd": {
          "model_module": "@jupyter-widgets/base",
          "model_name": "LayoutModel",
          "model_module_version": "1.2.0",
          "state": {
            "_view_name": "LayoutView",
            "grid_template_rows": null,
            "right": null,
            "justify_content": null,
            "_view_module": "@jupyter-widgets/base",
            "overflow": null,
            "_model_module_version": "1.2.0",
            "_view_count": null,
            "flex_flow": null,
            "width": null,
            "min_width": null,
            "border": null,
            "align_items": null,
            "bottom": null,
            "_model_module": "@jupyter-widgets/base",
            "top": null,
            "grid_column": null,
            "overflow_y": null,
            "overflow_x": null,
            "grid_auto_flow": null,
            "grid_area": null,
            "grid_template_columns": null,
            "flex": null,
            "_model_name": "LayoutModel",
            "justify_items": null,
            "grid_row": null,
            "max_height": null,
            "align_content": null,
            "visibility": null,
            "align_self": null,
            "height": null,
            "min_height": null,
            "padding": null,
            "grid_auto_rows": null,
            "grid_gap": null,
            "max_width": null,
            "order": null,
            "_view_module_version": "1.2.0",
            "grid_template_areas": null,
            "object_position": null,
            "object_fit": null,
            "grid_auto_columns": null,
            "margin": null,
            "display": null,
            "left": null
          }
        }
      }
    }
  },
  "cells": [
    {
      "cell_type": "markdown",
      "metadata": {
        "id": "view-in-github",
        "colab_type": "text"
      },
      "source": [
        "<a href=\"https://colab.research.google.com/github/BojanMakivic/Predicting-fitness-level-of-cancer-survivors/blob/master/Fastai_images.ipynb\" target=\"_parent\"><img src=\"https://colab.research.google.com/assets/colab-badge.svg\" alt=\"Open In Colab\"/></a>"
      ]
    },
    {
      "cell_type": "markdown",
      "metadata": {
        "id": "2Fg6e-6Tgr8N"
      },
      "source": [
        "# Update fastai library"
      ]
    },
    {
      "cell_type": "code",
      "metadata": {
        "id": "rwCq7G7DeSO8"
      },
      "source": [
        " !pip install fastai --upgrade"
      ],
      "execution_count": null,
      "outputs": []
    },
    {
      "cell_type": "markdown",
      "metadata": {
        "id": "j-cbK5bBg1g2"
      },
      "source": [
        "# Mount the google drive\n",
        "Here is link about how to mount google drive to Google Colab: https://towardsdatascience.com/downloading-datasets-into-google-drive-via-google-colab-bcb1b30b0166"
      ]
    },
    {
      "cell_type": "code",
      "metadata": {
        "colab": {
          "base_uri": "https://localhost:8080/"
        },
        "id": "OVWh0p_ieZrk",
        "outputId": "173fc716-b314-480b-a327-be9f3d7e66fb"
      },
      "source": [
        "from google.colab import drive\n",
        "drive.mount('/content/drive', force_remount=True)"
      ],
      "execution_count": 2,
      "outputs": [
        {
          "output_type": "stream",
          "name": "stdout",
          "text": [
            "Mounted at /content/drive\n"
          ]
        }
      ]
    },
    {
      "cell_type": "markdown",
      "metadata": {
        "id": "q9xiHgZvg-YF"
      },
      "source": [
        "# Libraries"
      ]
    },
    {
      "cell_type": "code",
      "metadata": {
        "id": "1kmL9Z8PeZze"
      },
      "source": [
        "# Python ≥3.5 \n",
        "import sys\n",
        "assert sys.version_info >= (3, 5)\n",
        "\n",
        "# Scikit-Learn ≥0.20\n",
        "import sklearn\n",
        "assert sklearn.__version__ >= \"0.20\"\n",
        "\n",
        "# Common imports\n",
        "import numpy as np\n",
        "import pandas as pd\n",
        "\n",
        "# FastAi\n",
        "import fastai\n",
        "from fastai import *\n",
        "from fastai.vision.all import *\n",
        "from fastai.vision.data import *\n",
        "\n",
        "# PyTorch\n",
        "import torch\n",
        "\n",
        "# Figures plot\n",
        "%matplotlib inline\n",
        "import matplotlib as mpl\n",
        "import matplotlib.pyplot as plt\n",
        "mpl.rc('axes', labelsize=14)\n",
        "mpl.rc('xtick', labelsize=12)\n",
        "mpl.rc('ytick', labelsize=12)\n",
        "\n",
        "# Imbalanced data\n",
        "from collections import Counter\n",
        "from sklearn.datasets import make_classification\n",
        "from imblearn.over_sampling import SMOTE \n",
        "\n",
        "# Ignore warnings\n",
        "import warnings\n",
        "warnings.filterwarnings(action=\"ignore\", message=\"^internal gelsd\")"
      ],
      "execution_count": 3,
      "outputs": []
    },
    {
      "cell_type": "code",
      "metadata": {
        "id": "rgVo7ouceZ2C"
      },
      "source": [
        "from google.colab import files\n",
        "import io\n",
        "\n",
        "df = pd.read_excel('/content/drive/MyDrive/Data.xlsx')\n",
        "df = pd.DataFrame(df)"
      ],
      "execution_count": 4,
      "outputs": []
    },
    {
      "cell_type": "code",
      "metadata": {
        "id": "-4mqtEyceZ4x"
      },
      "source": [
        "df['Level']=np.where(df['Level']==\"Bad\",3,np.where(df['Level']==\"Moderate\",2,1))\n",
        "df['Sex']=np.where(df['Sex']==\"W\",0,1)"
      ],
      "execution_count": 5,
      "outputs": []
    },
    {
      "cell_type": "code",
      "metadata": {
        "id": "C7PwQoKrE3Gy"
      },
      "source": [
        "df"
      ],
      "execution_count": null,
      "outputs": []
    },
    {
      "cell_type": "code",
      "metadata": {
        "id": "JOuBUYmkeZ7d"
      },
      "source": [
        "# Function\n",
        "def bmi(bw,bh):\n",
        "    return bw/((bh/100)*(bh/100))"
      ],
      "execution_count": 6,
      "outputs": []
    },
    {
      "cell_type": "code",
      "metadata": {
        "id": "fg5BcEmQeZ-D"
      },
      "source": [
        "# Adding a new column\n",
        "df['BMI']=bmi(df.iloc[:,2],df.iloc[:,3]) "
      ],
      "execution_count": 7,
      "outputs": []
    },
    {
      "cell_type": "code",
      "metadata": {
        "id": "erNHxmMIeaAr"
      },
      "source": [
        "np.random.seed(42) \n",
        "del df['Norm']\n",
        "del df['Type']\n",
        "#del df['Level']\n",
        "del df['Wmax'] # continuous"
      ],
      "execution_count": 8,
      "outputs": []
    },
    {
      "cell_type": "code",
      "metadata": {
        "id": "z5wac7R4eaDc"
      },
      "source": [
        "np.array(df)"
      ],
      "execution_count": null,
      "outputs": []
    },
    {
      "cell_type": "markdown",
      "metadata": {
        "id": "Va2CgvDa_k3C"
      },
      "source": [
        "## PREPARING TRAINING AND TEST DATASET"
      ]
    },
    {
      "cell_type": "code",
      "metadata": {
        "id": "_HjtqNod_Ngt"
      },
      "source": [
        "from sklearn.model_selection import train_test_split\n",
        "\n",
        "train_labels = df[\"Level\"].copy()       # Save a copy of label variable\n",
        "train_sets = df.drop(\"Level\", axis=1)    # Drop label variable from training se"
      ],
      "execution_count": 9,
      "outputs": []
    },
    {
      "cell_type": "code",
      "metadata": {
        "colab": {
          "base_uri": "https://localhost:8080/"
        },
        "id": "4r9GuKNPlOZf",
        "outputId": "c26bdf4a-81cb-40c3-e269-5dd3dda2b5da"
      },
      "source": [
        "train_labels"
      ],
      "execution_count": 28,
      "outputs": [
        {
          "output_type": "execute_result",
          "data": {
            "text/plain": [
              "0       1\n",
              "1       1\n",
              "2       1\n",
              "3       2\n",
              "4       1\n",
              "       ..\n",
              "2914    3\n",
              "2915    3\n",
              "2916    3\n",
              "2917    3\n",
              "2918    3\n",
              "Name: Level, Length: 2919, dtype: int64"
            ]
          },
          "metadata": {},
          "execution_count": 28
        }
      ]
    },
    {
      "cell_type": "code",
      "metadata": {
        "id": "bqPjVwgYO5g8"
      },
      "source": [
        "np.array(train_sets)"
      ],
      "execution_count": null,
      "outputs": []
    },
    {
      "cell_type": "code",
      "metadata": {
        "id": "6D7tTKZE_Tsz"
      },
      "source": [
        "train_num = train_sets.to_numpy()\n",
        "train_num"
      ],
      "execution_count": null,
      "outputs": []
    },
    {
      "cell_type": "code",
      "metadata": {
        "id": "scuxJO-e_Y9G"
      },
      "source": [
        "train_num = train_sets.drop([\"Sex\"], axis=1)  # Keep only numerical variables"
      ],
      "execution_count": 15,
      "outputs": []
    },
    {
      "cell_type": "markdown",
      "metadata": {
        "id": "bNhoO3n0_mzw"
      },
      "source": [
        "## PIPELINE"
      ]
    },
    {
      "cell_type": "code",
      "metadata": {
        "id": "o8B3l5pO_Yp3"
      },
      "source": [
        "# Pipline to scale numerical variables and transform categorical variable (Sex) into binary\n",
        "\n",
        "from sklearn.pipeline import Pipeline\n",
        "from sklearn.preprocessing import StandardScaler\n",
        "from sklearn.preprocessing import MinMaxScaler\n",
        "\n",
        "pipeline = Pipeline([\n",
        "        ('std_scaler', MinMaxScaler()),])\n",
        "train_transf = pipeline.fit_transform(train_num)"
      ],
      "execution_count": 16,
      "outputs": []
    },
    {
      "cell_type": "code",
      "metadata": {
        "id": "hoH5lUOIPkX9"
      },
      "source": [
        "train_transf"
      ],
      "execution_count": null,
      "outputs": []
    },
    {
      "cell_type": "code",
      "metadata": {
        "id": "lwiW_y3-_qfm"
      },
      "source": [
        "from sklearn.preprocessing import OneHotEncoder\n",
        "from sklearn.compose import ColumnTransformer\n",
        "\n",
        "num_attribs = list(train_num) #train_num\n",
        "cat_attribs = [\"Sex\"]\n",
        "\n",
        "full_pipeline = ColumnTransformer([\n",
        "        (\"num\", pipeline, num_attribs),\n",
        "        (\"cat\", OneHotEncoder(), cat_attribs),])\n",
        "\n",
        "train_prepared = full_pipeline.fit_transform(train_sets)\n",
        "train_prepared"
      ],
      "execution_count": null,
      "outputs": []
    },
    {
      "cell_type": "markdown",
      "metadata": {
        "id": "t3P0TrLahdTs"
      },
      "source": [
        "# Handling imbalanced datase with SMOTENC class."
      ]
    },
    {
      "cell_type": "markdown",
      "metadata": {
        "id": "ftGgv0r8h2yK"
      },
      "source": [
        "### The three classes of outcome variable are not equaly represented."
      ]
    },
    {
      "cell_type": "code",
      "metadata": {
        "id": "zpsfNxFy0jFt",
        "colab": {
          "base_uri": "https://localhost:8080/"
        },
        "outputId": "5b9c5cbd-84b2-4b7b-9e72-9466d7c79540"
      },
      "source": [
        "from imblearn.over_sampling import SMOTENC\n",
        "X, y = train_prepared, train_labels\n",
        "print('Original dataset shape %s' % Counter(y))\n",
        "\n",
        "sm = SMOTENC(random_state=42, categorical_features=[2, 1], k_neighbors=15)\n",
        "\n",
        "train_prepared, train_labels = sm.fit_resample(X, y)\n",
        "print('Resampled dataset shape %s' % Counter(train_labels))"
      ],
      "execution_count": 19,
      "outputs": [
        {
          "output_type": "stream",
          "name": "stdout",
          "text": [
            "Original dataset shape Counter({1: 973, 2: 622, 3: 117})\n",
            "Resampled dataset shape Counter({1: 973, 2: 973, 3: 973})\n"
          ]
        }
      ]
    },
    {
      "cell_type": "code",
      "metadata": {
        "colab": {
          "base_uri": "https://localhost:8080/"
        },
        "id": "5yuZ5N4_PmD4",
        "outputId": "ed5651a9-55f0-43a9-d9ba-4e36a01bad8c"
      },
      "source": [
        "len(train_labels)"
      ],
      "execution_count": 20,
      "outputs": [
        {
          "output_type": "execute_result",
          "data": {
            "text/plain": [
              "2919"
            ]
          },
          "metadata": {},
          "execution_count": 20
        }
      ]
    },
    {
      "cell_type": "markdown",
      "metadata": {
        "id": "aj3t2N_5lzaR"
      },
      "source": [
        "# Creating Images and preparing for analysis"
      ]
    },
    {
      "cell_type": "markdown",
      "metadata": {
        "id": "kMPRt7P9iFnf"
      },
      "source": [
        "### Transforming outcome variable into images and storing them in the list."
      ]
    },
    {
      "cell_type": "code",
      "metadata": {
        "colab": {
          "base_uri": "https://localhost:8080/",
          "height": 145
        },
        "id": "faUBHiRCflu0",
        "outputId": "d2d4e3d5-7627-43af-abc2-34d965858e09"
      },
      "source": [
        "from PIL import Image\n",
        "\n",
        "list_labels = []\n",
        "\n",
        "labels = train_labels\n",
        "for i in labels:\n",
        "    img = Image.fromarray(np.array([[i]], dtype=np.uint16), 'L')\n",
        "    list_labels.append(img.resize((128,128)))\n",
        "list_labels[3]"
      ],
      "execution_count": 21,
      "outputs": [
        {
          "output_type": "execute_result",
          "data": {
            "image/png": "[encoded data removed]",
            "text/plain": [
              "<PIL.Image.Image image mode=L size=128x128 at 0x7F4B71231A50>"
            ]
          },
          "metadata": {},
          "execution_count": 21
        }
      ]
    },
    {
      "cell_type": "markdown",
      "metadata": {
        "id": "sFjw2n2miqol"
      },
      "source": [
        "### Transforming predictor variables into images and storing them in the list."
      ]
    },
    {
      "cell_type": "code",
      "metadata": {
        "colab": {
          "base_uri": "https://localhost:8080/",
          "height": 145
        },
        "id": "FuQD9zDgflxs",
        "outputId": "3973fcf7-77d6-40c4-a80e-958ab7c6abd3"
      },
      "source": [
        "np.random.seed(369)\n",
        "from PIL import Image\n",
        "import PIL\n",
        "import fastai\n",
        "\n",
        "list_train = []\n",
        "\n",
        "for i in train_prepared:\n",
        "    img = Image.fromarray(np.array([i]), 'L')\n",
        "    list_train.append(img.resize((128,128)))\n",
        "list_train[7]"
      ],
      "execution_count": 22,
      "outputs": [
        {
          "output_type": "execute_result",
          "data": {
            "image/png": "[encoded data removed]",
            "text/plain": [
              "<PIL.Image.Image image mode=L size=128x128 at 0x7F4B712D9C10>"
            ]
          },
          "metadata": {},
          "execution_count": 22
        }
      ]
    },
    {
      "cell_type": "code",
      "metadata": {
        "colab": {
          "base_uri": "https://localhost:8080/"
        },
        "id": "isOnthizLBcw",
        "outputId": "8de9a947-67af-4a2e-e07d-7303b035ba93"
      },
      "source": [
        "len(list_train)"
      ],
      "execution_count": 23,
      "outputs": [
        {
          "output_type": "execute_result",
          "data": {
            "text/plain": [
              "2919"
            ]
          },
          "metadata": {},
          "execution_count": 23
        }
      ]
    },
    {
      "cell_type": "markdown",
      "metadata": {
        "id": "RNGMTppbjlhg"
      },
      "source": [
        "Checking the first number of the image array and print it."
      ]
    },
    {
      "cell_type": "code",
      "metadata": {
        "colab": {
          "base_uri": "https://localhost:8080/"
        },
        "id": "zzf3AlL-ousq",
        "outputId": "d1704378-09c4-4403-f078-8dfb1021069b"
      },
      "source": [
        "sum(np.array(list_labels[4], dtype=np.uint16))[1]"
      ],
      "execution_count": 24,
      "outputs": [
        {
          "output_type": "execute_result",
          "data": {
            "text/plain": [
              "128"
            ]
          },
          "metadata": {},
          "execution_count": 24
        }
      ]
    },
    {
      "cell_type": "markdown",
      "metadata": {
        "id": "wG4jXLAKliQ6"
      },
      "source": [
        "Creating save directory in the google drive, where the images will be stored"
      ]
    },
    {
      "cell_type": "code",
      "metadata": {
        "id": "VzvCRL8Yfl0F"
      },
      "source": [
        "save_dir = '/content/drive/MyDrive/Fastai_images'"
      ],
      "execution_count": null,
      "outputs": []
    },
    {
      "cell_type": "markdown",
      "metadata": {
        "id": "qgU6xGXLlvhc"
      },
      "source": [
        "With this while loop, the images created from predictor variables are matched with images created from response variable and stored with the name of matched response variable (Good, Moderate or Bad)."
      ]
    },
    {
      "cell_type": "code",
      "metadata": {
        "id": "5PXsXWhKeaQ3"
      },
      "source": [
        "#Saving images\n",
        "length = len(list_train)\n",
        "i = 0\n",
        "\n",
        "while i < length:\n",
        "    if sum(np.array(list_labels[i], dtype=np.uint16))[1]==128:\n",
        "        list_train[i].save(f'{save_dir}/Good/G_{i}.png')\n",
        "    elif sum(np.array(list_labels[i], dtype=np.uint16))[1]==384:\n",
        "        list_train[i].save(f'{save_dir}/Bad/B_{i}.png')\n",
        "    else:\n",
        "        list_train[i].save(f'{save_dir}/Moderate/M_{i}.png')\n",
        "    i += 1"
      ],
      "execution_count": null,
      "outputs": []
    },
    {
      "cell_type": "markdown",
      "metadata": {
        "id": "B9pAMsGSmv4Q"
      },
      "source": [
        "# Model"
      ]
    },
    {
      "cell_type": "code",
      "metadata": {
        "id": "ZG2wG9yJeaTb"
      },
      "source": [
        "dls = ImageDataLoaders.from_folder(\n",
        "    save_dir, get_image_files(save_dir), valid_pct=0.2, set_seed =42)"
      ],
      "execution_count": null,
      "outputs": []
    },
    {
      "cell_type": "code",
      "metadata": {
        "colab": {
          "base_uri": "https://localhost:8080/",
          "height": 536
        },
        "id": "JhfIrNvGCjv4",
        "outputId": "2bf99d89-2f95-45ea-a133-644f02362810"
      },
      "source": [
        "dls.show_batch()"
      ],
      "execution_count": null,
      "outputs": [
        {
          "output_type": "display_data",
          "data": {
            "image/png": "[encoded data removed]",
            "text/plain": [
              "<Figure size 648x648 with 9 Axes>"
            ]
          },
          "metadata": {
            "needs_background": "light"
          }
        }
      ]
    },
    {
      "cell_type": "code",
      "metadata": {
        "id": "9bUDdIWsCjyx"
      },
      "source": [
        "simple_net = nn.Sequential(\n",
        "    nn.Conv2d(10,10, kernel_size=5, padding=1), #nn.Linear\n",
        "    nn.ReLU(),\n",
        "    nn.Conv2d(40,64, kernel_size=5, padding=1), #nn.Linear\n",
        "    nn.ReLU() \n",
        ")"
      ],
      "execution_count": null,
      "outputs": []
    },
    {
      "cell_type": "code",
      "metadata": {
        "id": "bfj7RVojCj12",
        "colab": {
          "base_uri": "https://localhost:8080/",
          "height": 67,
          "referenced_widgets": [
            "9ed890c986fe4047bb6a3701c6c29fef",
            "b3c0e18a7b0140a2bfbebca79934b085",
            "067331de6f78446196d26450116692f5",
            "7706cd16333b4c93ab7c9599a652220a",
            "6ac1a8bcca6e4ba88dbebca7f477b178",
            "b8c14f478b1645cb8d3621f31e1cb699",
            "303b7e0007cf4d4a854a8ab9029e28ce",
            "56ac70ff8c554c1b96c92916ee66f925",
            "35a2d921544f46888daecf02b5cc013d",
            "f544b70d604c4f3db53437e837e889ee",
            "f4bf85cc4a8341f69714953da7f3b7bd"
          ]
        },
        "outputId": "bc658965-0409-4a74-ef8d-ee2ab0d5dce6"
      },
      "source": [
        "learn = cnn_learner(dls, resnet18, simple_net,\n",
        "                metrics=[error_rate, accuracy,Precision(average='weighted'), Recall(average='weighted'), F1Score(average='weighted'), RocAuc(average='weighted')])"
      ],
      "execution_count": null,
      "outputs": [
        {
          "output_type": "stream",
          "name": "stderr",
          "text": [
            "Downloading: \"https://download.pytorch.org/models/resnet18-f37072fd.pth\" to /root/.cache/torch/hub/checkpoints/resnet18-f37072fd.pth\n"
          ]
        },
        {
          "output_type": "display_data",
          "data": {
            "application/vnd.jupyter.widget-view+json": {
              "model_id": "9ed890c986fe4047bb6a3701c6c29fef",
              "version_minor": 0,
              "version_major": 2
            },
            "text/plain": [
              "  0%|          | 0.00/44.7M [00:00<?, ?B/s]"
            ]
          },
          "metadata": {}
        }
      ]
    },
    {
      "cell_type": "code",
      "metadata": {
        "id": "ZlU6dGgjCj4T",
        "colab": {
          "base_uri": "https://localhost:8080/",
          "height": 294
        },
        "outputId": "2a7ade65-b073-4cac-b970-cc430c596970"
      },
      "source": [
        "lr = learn.lr_find(suggest_funcs=(valley))\n"
      ],
      "execution_count": null,
      "outputs": [
        {
          "output_type": "display_data",
          "data": {
            "text/html": [
              ""
            ],
            "text/plain": [
              "<IPython.core.display.HTML object>"
            ]
          },
          "metadata": {}
        },
        {
          "output_type": "display_data",
          "data": {
            "image/png": "[encoded data removed]",
            "text/plain": [
              "<Figure size 432x288 with 1 Axes>"
            ]
          },
          "metadata": {
            "needs_background": "light"
          }
        }
      ]
    },
    {
      "cell_type": "code",
      "metadata": {
        "colab": {
          "base_uri": "https://localhost:8080/",
          "height": 145
        },
        "id": "6P35f74OCj7L",
        "outputId": "5ffd7391-c205-4bff-d2e4-8469e8a636e1"
      },
      "source": [
        "learn.fine_tune(1, lr.valley)"
      ],
      "execution_count": null,
      "outputs": [
        {
          "output_type": "display_data",
          "data": {
            "text/html": [
              "<table border=\"1\" class=\"dataframe\">\n",
              "  <thead>\n",
              "    <tr style=\"text-align: left;\">\n",
              "      <th>epoch</th>\n",
              "      <th>train_loss</th>\n",
              "      <th>valid_loss</th>\n",
              "      <th>error_rate</th>\n",
              "      <th>accuracy</th>\n",
              "      <th>precision_score</th>\n",
              "      <th>recall_score</th>\n",
              "      <th>f1_score</th>\n",
              "      <th>roc_auc_score</th>\n",
              "      <th>time</th>\n",
              "    </tr>\n",
              "  </thead>\n",
              "  <tbody>\n",
              "    <tr>\n",
              "      <td>0</td>\n",
              "      <td>0.654198</td>\n",
              "      <td>1.217958</td>\n",
              "      <td>0.430532</td>\n",
              "      <td>0.569468</td>\n",
              "      <td>0.541144</td>\n",
              "      <td>0.569468</td>\n",
              "      <td>0.541693</td>\n",
              "      <td>0.715298</td>\n",
              "      <td>00:03</td>\n",
              "    </tr>\n",
              "  </tbody>\n",
              "</table>"
            ],
            "text/plain": [
              "<IPython.core.display.HTML object>"
            ]
          },
          "metadata": {}
        },
        {
          "output_type": "display_data",
          "data": {
            "text/html": [
              "<table border=\"1\" class=\"dataframe\">\n",
              "  <thead>\n",
              "    <tr style=\"text-align: left;\">\n",
              "      <th>epoch</th>\n",
              "      <th>train_loss</th>\n",
              "      <th>valid_loss</th>\n",
              "      <th>error_rate</th>\n",
              "      <th>accuracy</th>\n",
              "      <th>precision_score</th>\n",
              "      <th>recall_score</th>\n",
              "      <th>f1_score</th>\n",
              "      <th>roc_auc_score</th>\n",
              "      <th>time</th>\n",
              "    </tr>\n",
              "  </thead>\n",
              "  <tbody>\n",
              "    <tr>\n",
              "      <td>0</td>\n",
              "      <td>0.641496</td>\n",
              "      <td>1.262442</td>\n",
              "      <td>0.394511</td>\n",
              "      <td>0.605489</td>\n",
              "      <td>0.570973</td>\n",
              "      <td>0.605489</td>\n",
              "      <td>0.563682</td>\n",
              "      <td>0.721721</td>\n",
              "      <td>00:03</td>\n",
              "    </tr>\n",
              "  </tbody>\n",
              "</table>"
            ],
            "text/plain": [
              "<IPython.core.display.HTML object>"
            ]
          },
          "metadata": {}
        }
      ]
    },
    {
      "cell_type": "code",
      "metadata": {
        "id": "xd6b6SfX3S6i"
      },
      "source": [
        "from sklearn.ensemble import RandomForestClassifier\n",
        "from sklearn.metrics import precision_recall_fscore_support\n",
        "from sklearn.model_selection import train_test_split\n",
        "from sklearn.pipeline import Pipeline\n",
        "from sklearn.preprocessing import StandardScaler\n",
        "from sklearn.preprocessing import MinMaxScaler\n",
        "from sklearn.preprocessing import OneHotEncoder\n",
        "from sklearn.compose import ColumnTransformer\n",
        "from imblearn.over_sampling import SMOTENC \n",
        "src = []\n",
        "\n",
        "for i in range(2,23):\n",
        "  sm = SMOTENC(random_state=42, categorical_features=[2, 1], k_neighbors=i, n_jobs=-1)\n",
        "  train_prepared, train_labels = sm.fit_resample(train_prepared, train_labels)\n",
        "  dls = ImageDataLoaders.from_folder(\n",
        "      save_dir, get_image_files(save_dir), valid_pct=0.2, set_seed =42)\n",
        "  simple_net = nn.Sequential(\n",
        "      nn.Conv2d(10,10, kernel_size=5, padding=1), #nn.Linear\n",
        "      nn.ReLU(),\n",
        "      nn.Conv2d(40,64, kernel_size=5, padding=1), #nn.Linear\n",
        "      nn.ReLU() \n",
        "  )\n",
        "  learn = cnn_learner(dls, resnet18, simple_net,\n",
        "                    metrics=[error_rate, accuracy,Precision(average='weighted'), Recall(average='weighted'), F1Score(average='weighted'), RocAuc(average='weighted')])\n",
        "  lr = learn.lr_find(suggest_funcs=(valley))\n",
        "  learn.fine_tune(3, lr.valley)"
      ],
      "execution_count": null,
      "outputs": []
    },
    {
      "cell_type": "markdown",
      "metadata": {
        "id": "a4A9vLB9m4aK"
      },
      "source": [
        "# Confusion matrix"
      ]
    },
    {
      "cell_type": "code",
      "metadata": {
        "colab": {
          "base_uri": "https://localhost:8080/",
          "height": 297
        },
        "id": "ECx-LceFCj-K",
        "outputId": "1ab72e1f-7b07-4a7c-a784-e3bd0e11d257"
      },
      "source": [
        "from sklearn.metrics import confusion_matrix\n",
        "import itertools\n",
        "\n",
        "interp = ClassificationInterpretation.from_learner(learn)\n",
        "interp.plot_confusion_matrix(normalize=all)\n",
        "\n",
        "plt.colorbar()\n",
        "    \n",
        "plt.tight_layout()\n",
        "plt.ylabel('True label')\n",
        "plt.xlabel('Predicted label')\n",
        "plt.show()"
      ],
      "execution_count": null,
      "outputs": [
        {
          "output_type": "display_data",
          "data": {
            "text/html": [
              ""
            ],
            "text/plain": [
              "<IPython.core.display.HTML object>"
            ]
          },
          "metadata": {}
        },
        {
          "output_type": "display_data",
          "data": {
            "image/png": "[encoded data removed]",
            "text/plain": [
              "<Figure size 432x288 with 2 Axes>"
            ]
          },
          "metadata": {
            "needs_background": "light"
          }
        }
      ]
    }
  ]
}