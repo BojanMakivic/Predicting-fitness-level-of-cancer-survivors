{
  "nbformat": 4,
  "nbformat_minor": 0,
  "metadata": {
    "colab": {
      "name": "TF, sklearn_disc.ipynb",
      "provenance": [],
      "collapsed_sections": [],
      "toc_visible": true,
      "machine_shape": "hm",
      "include_colab_link": true
    },
    "interpreter": {
      "hash": "c0fc5c77b0f452b0db40c8ce8e3525b1b21db35c1e6cd22759a1f9a55688fbd9"
    },
    "kernelspec": {
      "display_name": "Python 3.8.5 64-bit ('base': conda)",
      "name": "python3"
    },
    "language_info": {
      "codemirror_mode": {
        "name": "ipython",
        "version": 3
      },
      "file_extension": ".py",
      "mimetype": "text/x-python",
      "name": "python",
      "nbconvert_exporter": "python",
      "pygments_lexer": "ipython3",
      "version": "3.8.5"
    },
    "accelerator": "GPU"
  },
  "cells": [
    {
      "cell_type": "markdown",
      "metadata": {
        "id": "view-in-github",
        "colab_type": "text"
      },
      "source": [
        "<a href=\"https://colab.research.google.com/github/BojanMakivic/Predicting-fitness-level-of-cancer-survivors/blob/master/TF%2C_sklearn_disc.ipynb\" target=\"_parent\"><img src=\"https://colab.research.google.com/assets/colab-badge.svg\" alt=\"Open In Colab\"/></a>"
      ]
    },
    {
      "cell_type": "markdown",
      "metadata": {
        "id": "iYe-l3WN7u4c"
      },
      "source": [
        "# Mount the google drive"
      ]
    },
    {
      "cell_type": "code",
      "metadata": {
        "colab": {
          "base_uri": "https://localhost:8080/"
        },
        "id": "BvoWhRFXAL0-",
        "outputId": "51b51a32-1996-4d29-b4c2-0d1f0867d8c9"
      },
      "source": [
        "from google.colab import drive\n",
        "drive.mount('/content/drive')"
      ],
      "execution_count": null,
      "outputs": [
        {
          "output_type": "stream",
          "name": "stdout",
          "text": [
            "Mounted at /content/drive\n"
          ]
        }
      ]
    },
    {
      "cell_type": "markdown",
      "metadata": {
        "id": "5WiligzjBC7g"
      },
      "source": [
        "# DATA PREPARATION AND LIBRARIES IMPORT"
      ]
    },
    {
      "cell_type": "code",
      "metadata": {
        "id": "jwdPFniWBC7h"
      },
      "source": [
        "# Python ≥3.5 \n",
        "import sys\n",
        "assert sys.version_info >= (3, 5)\n",
        "\n",
        "# Scikit-Learn ≥0.20\n",
        "import sklearn\n",
        "assert sklearn.__version__ >= \"0.20\"\n",
        "\n",
        "# Common imports\n",
        "import numpy as np\n",
        "import pandas as pd\n",
        "\n",
        "# Figures plot\n",
        "%matplotlib inline\n",
        "import matplotlib as mpl\n",
        "import matplotlib.pyplot as plt\n",
        "mpl.rc('axes', labelsize=14)\n",
        "mpl.rc('xtick', labelsize=12)\n",
        "mpl.rc('ytick', labelsize=12)\n",
        "\n",
        "# Imbalanced data\n",
        "from collections import Counter\n",
        "from sklearn.datasets import make_classification\n",
        "from imblearn.over_sampling import SMOTE\n",
        "from imblearn.over_sampling import SMOTENC \n",
        "\n",
        "from sklearn.linear_model import LogisticRegression\n",
        "from sklearn.metrics import precision_score, recall_score\n",
        "from sklearn.metrics import balanced_accuracy_score\n",
        "from sklearn.metrics import accuracy_score\n",
        "from sklearn.metrics import roc_auc_score\n",
        "from sklearn.model_selection import cross_val_predict\n",
        "from sklearn.preprocessing import label_binarize\n",
        "\n",
        "# Ignore warnings\n",
        "import warnings\n",
        "warnings.filterwarnings(action=\"ignore\", message=\"^internal gelsd\")"
      ],
      "execution_count": null,
      "outputs": []
    },
    {
      "cell_type": "markdown",
      "metadata": {
        "id": "0LrjAjNOBC7i"
      },
      "source": [
        "# Import data file (xlsx)"
      ]
    },
    {
      "cell_type": "code",
      "metadata": {
        "id": "YJInrnp6BC7j"
      },
      "source": [
        "from google.colab import files\n",
        "import io\n",
        "#uploaded = files.upload() \n",
        "#df = pd.read_excel(io.BytesIO(uploaded['Data.xlsx']))\n",
        "\n",
        "df = pd.read_excel('/content/drive/MyDrive/Data.xlsx')\n",
        "df = pd.DataFrame(df)"
      ],
      "execution_count": null,
      "outputs": []
    },
    {
      "cell_type": "code",
      "metadata": {
        "id": "Dvuu7iLSu59K"
      },
      "source": [
        "df['Level']=np.where(df['Level']==\"Bad\",3,np.where(df['Level']==\"Moderate\",2,1))\n",
        "df['Sex']=np.where(df['Sex']==\"W\",0,1)"
      ],
      "execution_count": null,
      "outputs": []
    },
    {
      "cell_type": "code",
      "metadata": {
        "colab": {
          "base_uri": "https://localhost:8080/"
        },
        "id": "YBC6KfXyBC7j",
        "outputId": "0c0a1080-4196-41ae-8bdb-680560853cf4"
      },
      "source": [
        "df.info() # BW nad BH are standing for body weight and body height, respectively"
      ],
      "execution_count": null,
      "outputs": [
        {
          "output_type": "stream",
          "name": "stdout",
          "text": [
            "<class 'pandas.core.frame.DataFrame'>\n",
            "RangeIndex: 1712 entries, 0 to 1711\n",
            "Data columns (total 8 columns):\n",
            " #   Column  Non-Null Count  Dtype  \n",
            "---  ------  --------------  -----  \n",
            " 0   Age     1712 non-null   int64  \n",
            " 1   Sex     1712 non-null   int64  \n",
            " 2   BW      1712 non-null   float64\n",
            " 3   BH      1712 non-null   int64  \n",
            " 4   Wmax    1712 non-null   int64  \n",
            " 5   Norm    1712 non-null   float64\n",
            " 6   Level   1712 non-null   int64  \n",
            " 7   Type    1712 non-null   object \n",
            "dtypes: float64(2), int64(5), object(1)\n",
            "memory usage: 107.1+ KB\n"
          ]
        }
      ]
    },
    {
      "cell_type": "markdown",
      "metadata": {
        "id": "0lqZ-RUOBC7l"
      },
      "source": [
        "### Writing a function for BMI calculation and adding a new column\n",
        "https://en.wikipedia.org/wiki/Body_mass_index"
      ]
    },
    {
      "cell_type": "code",
      "metadata": {
        "id": "NCBaH1OrBC7m"
      },
      "source": [
        "# Function\n",
        "def bmi(bw,bh):\n",
        "    return bw/((bh/100)*(bh/100))"
      ],
      "execution_count": null,
      "outputs": []
    },
    {
      "cell_type": "code",
      "metadata": {
        "id": "R7d1EZB4BC7m"
      },
      "source": [
        "# Adding a new column\n",
        "df['BMI']=bmi(df.iloc[:,2],df.iloc[:,3]) "
      ],
      "execution_count": null,
      "outputs": []
    },
    {
      "cell_type": "code",
      "metadata": {
        "colab": {
          "base_uri": "https://localhost:8080/",
          "height": 300
        },
        "id": "Ji_o9BehBC7n",
        "outputId": "61dcb1fc-e405-4319-fc7d-adec4d313b44"
      },
      "source": [
        "df.describe()"
      ],
      "execution_count": null,
      "outputs": [
        {
          "output_type": "execute_result",
          "data": {
            "text/html": [
              "<div>\n",
              "<style scoped>\n",
              "    .dataframe tbody tr th:only-of-type {\n",
              "        vertical-align: middle;\n",
              "    }\n",
              "\n",
              "    .dataframe tbody tr th {\n",
              "        vertical-align: top;\n",
              "    }\n",
              "\n",
              "    .dataframe thead th {\n",
              "        text-align: right;\n",
              "    }\n",
              "</style>\n",
              "<table border=\"1\" class=\"dataframe\">\n",
              "  <thead>\n",
              "    <tr style=\"text-align: right;\">\n",
              "      <th></th>\n",
              "      <th>Age</th>\n",
              "      <th>Sex</th>\n",
              "      <th>BW</th>\n",
              "      <th>BH</th>\n",
              "      <th>Wmax</th>\n",
              "      <th>Norm</th>\n",
              "      <th>Level</th>\n",
              "      <th>BMI</th>\n",
              "    </tr>\n",
              "  </thead>\n",
              "  <tbody>\n",
              "    <tr>\n",
              "      <th>count</th>\n",
              "      <td>1712.000000</td>\n",
              "      <td>1712.000000</td>\n",
              "      <td>1712.000000</td>\n",
              "      <td>1712.000000</td>\n",
              "      <td>1712.000000</td>\n",
              "      <td>1712.000000</td>\n",
              "      <td>1712.000000</td>\n",
              "      <td>1712.000000</td>\n",
              "    </tr>\n",
              "    <tr>\n",
              "      <th>mean</th>\n",
              "      <td>55.765771</td>\n",
              "      <td>0.341706</td>\n",
              "      <td>75.929030</td>\n",
              "      <td>168.342874</td>\n",
              "      <td>118.494743</td>\n",
              "      <td>85.097715</td>\n",
              "      <td>1.500000</td>\n",
              "      <td>26.726015</td>\n",
              "    </tr>\n",
              "    <tr>\n",
              "      <th>std</th>\n",
              "      <td>10.930445</td>\n",
              "      <td>0.474420</td>\n",
              "      <td>16.636734</td>\n",
              "      <td>8.964106</td>\n",
              "      <td>41.874907</td>\n",
              "      <td>23.719701</td>\n",
              "      <td>0.622019</td>\n",
              "      <td>5.137146</td>\n",
              "    </tr>\n",
              "    <tr>\n",
              "      <th>min</th>\n",
              "      <td>18.000000</td>\n",
              "      <td>0.000000</td>\n",
              "      <td>38.000000</td>\n",
              "      <td>136.000000</td>\n",
              "      <td>26.000000</td>\n",
              "      <td>19.620253</td>\n",
              "      <td>1.000000</td>\n",
              "      <td>15.570934</td>\n",
              "    </tr>\n",
              "    <tr>\n",
              "      <th>25%</th>\n",
              "      <td>49.000000</td>\n",
              "      <td>0.000000</td>\n",
              "      <td>63.000000</td>\n",
              "      <td>162.000000</td>\n",
              "      <td>88.000000</td>\n",
              "      <td>68.965517</td>\n",
              "      <td>1.000000</td>\n",
              "      <td>23.183603</td>\n",
              "    </tr>\n",
              "    <tr>\n",
              "      <th>50%</th>\n",
              "      <td>56.000000</td>\n",
              "      <td>0.000000</td>\n",
              "      <td>73.500000</td>\n",
              "      <td>168.000000</td>\n",
              "      <td>112.000000</td>\n",
              "      <td>84.274745</td>\n",
              "      <td>1.000000</td>\n",
              "      <td>25.884072</td>\n",
              "    </tr>\n",
              "    <tr>\n",
              "      <th>75%</th>\n",
              "      <td>62.000000</td>\n",
              "      <td>1.000000</td>\n",
              "      <td>86.000000</td>\n",
              "      <td>174.000000</td>\n",
              "      <td>141.000000</td>\n",
              "      <td>100.934829</td>\n",
              "      <td>2.000000</td>\n",
              "      <td>29.666548</td>\n",
              "    </tr>\n",
              "    <tr>\n",
              "      <th>max</th>\n",
              "      <td>88.000000</td>\n",
              "      <td>1.000000</td>\n",
              "      <td>143.000000</td>\n",
              "      <td>200.000000</td>\n",
              "      <td>327.000000</td>\n",
              "      <td>175.652174</td>\n",
              "      <td>3.000000</td>\n",
              "      <td>49.480969</td>\n",
              "    </tr>\n",
              "  </tbody>\n",
              "</table>\n",
              "</div>"
            ],
            "text/plain": [
              "               Age          Sex  ...        Level          BMI\n",
              "count  1712.000000  1712.000000  ...  1712.000000  1712.000000\n",
              "mean     55.765771     0.341706  ...     1.500000    26.726015\n",
              "std      10.930445     0.474420  ...     0.622019     5.137146\n",
              "min      18.000000     0.000000  ...     1.000000    15.570934\n",
              "25%      49.000000     0.000000  ...     1.000000    23.183603\n",
              "50%      56.000000     0.000000  ...     1.000000    25.884072\n",
              "75%      62.000000     1.000000  ...     2.000000    29.666548\n",
              "max      88.000000     1.000000  ...     3.000000    49.480969\n",
              "\n",
              "[8 rows x 8 columns]"
            ]
          },
          "metadata": {},
          "execution_count": 114
        }
      ]
    },
    {
      "cell_type": "markdown",
      "metadata": {
        "id": "uTuPeR_LBC7o"
      },
      "source": [
        "## Histogram distribution of each attribute"
      ]
    },
    {
      "cell_type": "code",
      "metadata": {
        "colab": {
          "base_uri": "https://localhost:8080/",
          "height": 882
        },
        "id": "uoJVR55GBC7o",
        "outputId": "b93b5fd1-5a3d-4bd4-e7c7-1ab1d15d737b"
      },
      "source": [
        "df.hist(bins=50, figsize=(15,15))\n",
        "plt.show()"
      ],
      "execution_count": null,
      "outputs": [
        {
          "output_type": "display_data",
          "data": {
            "image/png": "[encoded data removed]",
            "text/plain": [
              "<Figure size 1080x1080 with 9 Axes>"
            ]
          },
          "metadata": {
            "needs_background": "light"
          }
        }
      ]
    },
    {
      "cell_type": "code",
      "metadata": {
        "id": "Rh3m5rspBC7o"
      },
      "source": [
        "np.random.seed(42) # To ensure the repeatability of train/test results. It means that every time we run models the train/test samples will be same\n",
        "del df['Norm']\n",
        "del df['Type']\n",
        "#del df['Level']\n",
        "#del df['Gender']\n",
        "#del df['BW']\n",
        "#del df['BMI']\n",
        "del df['Wmax'] # continuous"
      ],
      "execution_count": null,
      "outputs": []
    },
    {
      "cell_type": "code",
      "metadata": {
        "id": "8AhoP6b8QS2e"
      },
      "source": [
        "#df=df.loc[df['Type'] == 'Brustkrebs']\n",
        "#df=df.loc[df['Gender'] == 'W']\n",
        "#df"
      ],
      "execution_count": null,
      "outputs": []
    },
    {
      "cell_type": "markdown",
      "metadata": {
        "id": "C_NlQW_QBC7p"
      },
      "source": [
        "# PREPARING TRAINING AND TEST SET"
      ]
    },
    {
      "cell_type": "code",
      "metadata": {
        "id": "qdEgtdQf1eg7"
      },
      "source": [
        "from sklearn.model_selection import train_test_split\n",
        "\n",
        "train_set, test_set = train_test_split(df, test_size=0.2, random_state=42) \n",
        "train_labels = train_set[\"Level\"].copy()       # Save a copy of label variable\n",
        "train_set = train_set.drop(\"Level\", axis=1)    # Drop label variable from training set"
      ],
      "execution_count": null,
      "outputs": []
    },
    {
      "cell_type": "code",
      "metadata": {
        "colab": {
          "base_uri": "https://localhost:8080/"
        },
        "id": "SI8WdMiOBC7p",
        "outputId": "d90b6fbf-e645-413b-f7a7-26a4189d278b"
      },
      "source": [
        "train_num = train_set.to_numpy()\n",
        "train_num"
      ],
      "execution_count": null,
      "outputs": [
        {
          "output_type": "execute_result",
          "data": {
            "text/plain": [
              "array([[ 54.        ,   0.        ,  51.        , 168.        ,\n",
              "         18.06972789],\n",
              "       [ 63.        ,   1.        ,  84.        , 171.        ,\n",
              "         28.72678773],\n",
              "       [ 61.        ,   1.        ,  84.        , 170.        ,\n",
              "         29.06574394],\n",
              "       ...,\n",
              "       [ 71.        ,   0.        ,  77.        , 160.        ,\n",
              "         30.078125  ],\n",
              "       [ 59.        ,   0.        ,  72.        , 175.        ,\n",
              "         23.51020408],\n",
              "       [ 55.        ,   0.        ,  73.        , 168.        ,\n",
              "         25.86451247]])"
            ]
          },
          "metadata": {},
          "execution_count": 119
        }
      ]
    },
    {
      "cell_type": "markdown",
      "metadata": {
        "id": "aAefdJxuBC7q"
      },
      "source": [
        "# PIPELINE"
      ]
    },
    {
      "cell_type": "markdown",
      "metadata": {
        "id": "46CpMazqjJF9"
      },
      "source": [
        "### Training set"
      ]
    },
    {
      "cell_type": "code",
      "metadata": {
        "id": "z5wQ4einBC7q"
      },
      "source": [
        "# Pipline to scale numerical variables and transform categorical variable (gender) into binary\n",
        "\n",
        "from sklearn.pipeline import Pipeline\n",
        "from sklearn.preprocessing import StandardScaler\n",
        "from sklearn.preprocessing import MinMaxScaler\n",
        "from sklearn.preprocessing import RobustScaler\n",
        "\n",
        "pipeline = Pipeline([\n",
        "        ('std_scaler', MinMaxScaler()),])\n",
        "train_prepared = pipeline.fit_transform(train_num)"
      ],
      "execution_count": null,
      "outputs": []
    },
    {
      "cell_type": "code",
      "metadata": {
        "colab": {
          "base_uri": "https://localhost:8080/"
        },
        "id": "Zz5hUSFPBC7q",
        "outputId": "7c3b66f7-aece-4206-ccf4-e346e8e81cf6"
      },
      "source": [
        "train_prepared # Only numerical variables were scaled (Age, BW, BH and BMI)"
      ],
      "execution_count": null,
      "outputs": [
        {
          "output_type": "execute_result",
          "data": {
            "text/plain": [
              "array([[0.51428571, 0.        , 0.12380952, 0.5       , 0.07368891],\n",
              "       [0.64285714, 1.        , 0.43809524, 0.546875  , 0.38796343],\n",
              "       [0.61428571, 1.        , 0.43809524, 0.53125   , 0.39795918],\n",
              "       ...,\n",
              "       [0.75714286, 0.        , 0.37142857, 0.375     , 0.42781409],\n",
              "       [0.58571429, 0.        , 0.32380952, 0.609375  , 0.23412745],\n",
              "       [0.52857143, 0.        , 0.33333333, 0.5       , 0.30355552]])"
            ]
          },
          "metadata": {},
          "execution_count": 121
        }
      ]
    },
    {
      "cell_type": "markdown",
      "metadata": {
        "id": "NxThsX-XjNX3"
      },
      "source": [
        "### Test set"
      ]
    },
    {
      "cell_type": "code",
      "metadata": {
        "id": "_r8Scmqbk2ce"
      },
      "source": [
        "X_test = test_set.drop(\"Level\", axis=1)\n",
        "y_test = test_set[\"Level\"].copy()\n",
        "X_test_prepared = pipeline.fit_transform(X_test)"
      ],
      "execution_count": null,
      "outputs": []
    },
    {
      "cell_type": "markdown",
      "metadata": {
        "id": "TRpnoySDBC7w"
      },
      "source": [
        "# SELECTING AND TRAINING THE MODEL"
      ]
    },
    {
      "cell_type": "markdown",
      "metadata": {
        "id": "QDoT84Ieibhg"
      },
      "source": [
        "# Logistic Regression"
      ]
    },
    {
      "cell_type": "markdown",
      "metadata": {
        "id": "7kRG9Yt-QLDi"
      },
      "source": [
        "### Optimization of k_neighbors in SMOTENC"
      ]
    },
    {
      "cell_type": "code",
      "metadata": {
        "id": "Wy34keU1T8Pa"
      },
      "source": [
        "src = []\n",
        "for k in range(2,93):\n",
        "  for i in range(2,23):\n",
        "    df = pd.read_excel('/content/drive/MyDrive/Data.xlsx')\n",
        "    df = pd.DataFrame(df)\n",
        "    df['Level']=np.where(df['Level']==\"Bad\",3,np.where(df['Level']==\"Moderate\",2,1))\n",
        "    df['Sex']=np.where(df['Sex']==\"W\",0,1)\n",
        "    def bmi(bw,bh):\n",
        "      return bw/((bh/100)*(bh/100))\n",
        "    df['BMI']=bmi(df.iloc[:,2],df.iloc[:,3]) \n",
        "    del df['Norm']\n",
        "    del df['Type']\n",
        "    del df['Wmax'] # continuous\n",
        "    train_set, test_set = train_test_split(df, test_size=0.2, random_state=42) \n",
        "    train_labels = train_set[\"Level\"].copy()       # Save a copy of label variable\n",
        "    train_set = train_set.drop(\"Level\", axis=1)    # Drop label variable from training set\n",
        "    train_num = train_set.to_numpy()\n",
        "    pipeline = Pipeline([\n",
        "          ('std_scaler', MinMaxScaler()),])\n",
        "    train_prepared = pipeline.fit_transform(train_num)\n",
        "    X_test = test_set.drop(\"Level\", axis=1)\n",
        "    y_test = test_set[\"Level\"].copy()\n",
        "    X_test_prepared = pipeline.fit_transform(X_test)\n",
        "    sm = SMOTENC(random_state=42, categorical_features=[2, 1], k_neighbors=k, n_jobs=-1)\n",
        "    train_prepared, train_labels = sm.fit_resample(train_prepared, train_labels)\n",
        "    sm = SMOTENC(random_state=42, categorical_features=[2, 1], k_neighbors=i, n_jobs=-1)\n",
        "    X_test_prepared, y_test = sm.fit_resample(X_test_prepared, y_test)\n",
        "    log_reg = LogisticRegression(random_state=42, multi_class='auto', C=1, \n",
        "                  dual=False, fit_intercept=True,\n",
        "                  intercept_scaling=5, l1_ratio=None, max_iter=100,\n",
        "                  n_jobs=1, solver='liblinear', tol=0.001, verbose=0,\n",
        "                  warm_start=True)\n",
        "    log_reg.fit(train_prepared, train_labels) \n",
        "\n",
        "    final_predictions = log_reg.predict(X_test_prepared)\n",
        "    scores = precision_recall_fscore_support(y_test, final_predictions, average='macro')\n",
        "    x,y,z = scores[0],scores[1],scores[2]\n",
        "    \n",
        "    src.extend([[k,i,x,y,z]])\n"
      ],
      "execution_count": null,
      "outputs": []
    },
    {
      "cell_type": "code",
      "metadata": {
        "colab": {
          "base_uri": "https://localhost:8080/"
        },
        "id": "W9udVrF_9kSG",
        "outputId": "bb3da638-918a-44bd-da5f-94e58f04a474"
      },
      "source": [
        "my = pd.DataFrame(src)\n",
        "\n",
        "my_max= my[4].idxmax()\n",
        "my.loc[my_max]\n"
      ],
      "execution_count": null,
      "outputs": [
        {
          "output_type": "execute_result",
          "data": {
            "text/plain": [
              "0    44.000000\n",
              "1    19.000000\n",
              "2     0.526643\n",
              "3     0.530225\n",
              "4     0.511932\n",
              "Name: 899, dtype: float64"
            ]
          },
          "metadata": {},
          "execution_count": 812
        }
      ]
    },
    {
      "cell_type": "markdown",
      "metadata": {
        "id": "bSaPJjGfkjIO"
      },
      "source": [
        "### Over-sampling"
      ]
    },
    {
      "cell_type": "code",
      "metadata": {
        "colab": {
          "base_uri": "https://localhost:8080/"
        },
        "id": "1e5kYcr3k2sO",
        "outputId": "f3b2d228-60d4-4682-ad38-ec14bc282a30"
      },
      "source": [
        "X, y = train_prepared, train_labels\n",
        "print('Original dataset shape %s' % Counter(y))\n",
        "\n",
        "sm = SMOTENC(random_state=42, categorical_features=[2, 1],k_neighbors=44, n_jobs=-1)\n",
        "\n",
        "train_prepared, train_labels = sm.fit_resample(X, y)\n",
        "print('Resampled dataset shape %s' % Counter(train_labels))"
      ],
      "execution_count": null,
      "outputs": [
        {
          "output_type": "stream",
          "name": "stdout",
          "text": [
            "Original dataset shape Counter({1: 780, 2: 496, 3: 93})\n",
            "Resampled dataset shape Counter({1: 780, 3: 780, 2: 780})\n"
          ]
        }
      ]
    },
    {
      "cell_type": "code",
      "metadata": {
        "colab": {
          "base_uri": "https://localhost:8080/"
        },
        "id": "u533JLzh_l9p",
        "outputId": "08208b68-dcc8-4fb6-edfe-6f04900fd358"
      },
      "source": [
        "Z, q = X_test_prepared, y_test\n",
        "print('Original dataset shape %s' % Counter(q))\n",
        "\n",
        "sm = SMOTENC(random_state=42, categorical_features=[2, 1], k_neighbors=19, n_jobs=-1)\n",
        "\n",
        "X_test_prepared, y_test = sm.fit_resample(X_test_prepared, y_test)\n",
        "print('Resampled dataset shape %s' % Counter(y_test))"
      ],
      "execution_count": null,
      "outputs": [
        {
          "output_type": "stream",
          "name": "stdout",
          "text": [
            "Original dataset shape Counter({1: 193, 2: 126, 3: 24})\n",
            "Resampled dataset shape Counter({1: 193, 2: 193, 3: 193})\n"
          ]
        }
      ]
    },
    {
      "cell_type": "markdown",
      "metadata": {
        "id": "ZSRqjWq1jmWY"
      },
      "source": [
        "### Model"
      ]
    },
    {
      "cell_type": "code",
      "metadata": {
        "id": "ijkTlMLQfcrH",
        "colab": {
          "base_uri": "https://localhost:8080/"
        },
        "outputId": "680c6fa3-adb0-4bf9-9da6-b1c85f478674"
      },
      "source": [
        "log_reg = LogisticRegression(random_state=42, multi_class='auto', C=1, \n",
        "                   dual=False, fit_intercept=True,\n",
        "                   intercept_scaling=5, l1_ratio=None, max_iter=100,\n",
        "                   n_jobs=1, solver='liblinear', tol=0.001, verbose=0,\n",
        "                   warm_start=True)\n",
        "#sample_weights = np.array([4.9 if i == \"Bad\" else 0.92 if i == \"Middle\" else 0.59 for i in train_labels])\n",
        "log_reg.fit(train_prepared, train_labels) #, sample_weight=sample_weights)"
      ],
      "execution_count": null,
      "outputs": [
        {
          "output_type": "execute_result",
          "data": {
            "text/plain": [
              "LogisticRegression(C=1, intercept_scaling=5, n_jobs=1, random_state=42,\n",
              "                   solver='liblinear', tol=0.001, warm_start=True)"
            ]
          },
          "metadata": {},
          "execution_count": 105
        }
      ]
    },
    {
      "cell_type": "code",
      "metadata": {
        "id": "HswGNA2FsHL0"
      },
      "source": [
        "final_predictions = log_reg.predict(X_test_prepared)"
      ],
      "execution_count": null,
      "outputs": []
    },
    {
      "cell_type": "code",
      "metadata": {
        "colab": {
          "base_uri": "https://localhost:8080/"
        },
        "id": "iGKFAMefk8wW",
        "outputId": "b0fa6b8f-3470-4bb2-c8c1-f1b5adcc9def"
      },
      "source": [
        "print(log_reg.predict([[40, 1,85,180,27]]))"
      ],
      "execution_count": null,
      "outputs": [
        {
          "output_type": "stream",
          "name": "stdout",
          "text": [
            "[3]\n"
          ]
        }
      ]
    },
    {
      "cell_type": "code",
      "metadata": {
        "colab": {
          "base_uri": "https://localhost:8080/"
        },
        "id": "f3AWplFhsOqE",
        "outputId": "91cfe14b-7a55-436a-e002-8690dbf8b076"
      },
      "source": [
        "# accuracy score (average of recalls across all three classes)\n",
        "accuracy_score(y_test, final_predictions)"
      ],
      "execution_count": null,
      "outputs": [
        {
          "output_type": "execute_result",
          "data": {
            "text/plain": [
              "0.5302245250431779"
            ]
          },
          "metadata": {},
          "execution_count": 108
        }
      ]
    },
    {
      "cell_type": "code",
      "metadata": {
        "id": "5qiMklOdeUlA",
        "colab": {
          "base_uri": "https://localhost:8080/"
        },
        "outputId": "dad1ad74-2295-47c5-b091-2f7225b88861"
      },
      "source": [
        "## K-fold cross-validation, with 10 folds\n",
        "import statistics\n",
        "from sklearn.model_selection import cross_val_score\n",
        "from sklearn.model_selection import StratifiedKFold\n",
        "\n",
        "strf = StratifiedKFold(n_splits=10)\n",
        "strf.get_n_splits(train_prepared, train_labels)\n",
        "\n",
        "statistics.mean(cross_val_score(log_reg, train_prepared, train_labels, cv= strf,  scoring=\"accuracy\"))"
      ],
      "execution_count": null,
      "outputs": [
        {
          "output_type": "execute_result",
          "data": {
            "text/plain": [
              "0.4777777777777778"
            ]
          },
          "metadata": {},
          "execution_count": 26
        }
      ]
    },
    {
      "cell_type": "code",
      "metadata": {
        "colab": {
          "base_uri": "https://localhost:8080/"
        },
        "id": "QLFhnW3HXZWm",
        "outputId": "5577f8df-b0f8-4f26-9c3a-2a1d1c8eb51d"
      },
      "source": [
        "# PRECISION, RECALL AND F1 SCORE (Overall recall)\n",
        "\n",
        "from sklearn.metrics import precision_recall_fscore_support\n",
        "precision_recall_fscore_support(y_test, final_predictions, average='macro')\n",
        "#'weighted': Calculate metrics for each label, and find their average weighted by support (the number of true instances for each label). This alters ‘macro’ to account for label imbalance;"
      ],
      "execution_count": null,
      "outputs": [
        {
          "output_type": "execute_result",
          "data": {
            "text/plain": [
              "(0.5266434010294095, 0.5302245250431779, 0.5119319460217776, None)"
            ]
          },
          "metadata": {},
          "execution_count": 27
        }
      ]
    },
    {
      "cell_type": "markdown",
      "metadata": {
        "id": "fxjDdt6Hjx-k"
      },
      "source": [
        "### Hyperparameter optimization"
      ]
    },
    {
      "cell_type": "code",
      "metadata": {
        "id": "LzW40RCXobiU"
      },
      "source": [
        "from sklearn.model_selection import GridSearchCV\n",
        "import warnings\n",
        "warnings.filterwarnings(\"ignore\")\n",
        "\n",
        "param_grid = [\n",
        "    \n",
        "    {'multi_class':['auto', 'ovr', 'multinomial'],\n",
        "     'C': [0.1, 0.5, 1],\n",
        "     'max_iter': [100,500,1000],\n",
        "     'penalty': ['l1', 'l2', 'elasticnet','none'], \n",
        "     'n_jobs': [1,3,5,7,9],\n",
        "     'intercept_scaling': [0.1,0.5,1],\n",
        "     'tol': [0.0001],\n",
        "     'class_weight': ['balanced'],\n",
        "     'solver': ['newton-cg', 'lbfgs', 'liblinear', 'sag', 'saga']\n",
        "  }]\n",
        "\n",
        "model = LogisticRegression()\n",
        "# train across 5 folds, that's a total of (12+6)*5=90 rounds of training \n",
        "grid_search_lr = GridSearchCV(model, param_grid, cv=10,\n",
        "                           scoring='neg_mean_squared_error',\n",
        "                           return_train_score=True)\n",
        "grid_search_lr.fit(train_prepared, train_labels)"
      ],
      "execution_count": null,
      "outputs": []
    },
    {
      "cell_type": "code",
      "metadata": {
        "id": "XlArPdS7py84"
      },
      "source": [
        "grid_search_lr.best_params_"
      ],
      "execution_count": null,
      "outputs": []
    },
    {
      "cell_type": "code",
      "metadata": {
        "id": "ez6RROwipzoa"
      },
      "source": [
        "grid_search_lr.best_estimator_"
      ],
      "execution_count": null,
      "outputs": []
    },
    {
      "cell_type": "markdown",
      "metadata": {
        "id": "KVmoTLPbj4uj"
      },
      "source": [
        "### Confusion matrix"
      ]
    },
    {
      "cell_type": "code",
      "metadata": {
        "colab": {
          "base_uri": "https://localhost:8080/",
          "height": 315
        },
        "id": "WLDYlCyPyPQR",
        "outputId": "ce925499-78f8-44a2-c590-7caf688b02b5"
      },
      "source": [
        "from sklearn.metrics import confusion_matrix\n",
        "import itertools\n",
        "import numpy as np\n",
        "\n",
        "\n",
        "classes = [1, 2, 3]\n",
        "cm = confusion_matrix(final_predictions, y_test, labels =classes, normalize='true') \n",
        "cm = np.around(cm, decimals=2)\n",
        "plt.imshow(cm, interpolation='nearest', cmap=plt.cm.Blues)\n",
        "plt.title('Confusion Matrix')\n",
        "plt.colorbar()\n",
        "\n",
        "classes_name = [\"Good\", \"Moderate\", \"Bad\"]\n",
        "tick_marks = np.arange(len(classes_name))\n",
        "plt.xticks(tick_marks, classes_name, rotation=45)\n",
        "plt.yticks(tick_marks, classes_name)\n",
        "\n",
        "thresh = cm.max() / 2.\n",
        "for i, j in itertools.product(range(cm.shape[0]), range(cm.shape[1])):\n",
        "    plt.text(j, i, cm[i, j],\n",
        "             horizontalalignment=\"center\",\n",
        "             color=\"white\" if cm[i, j] > thresh else \"black\")\n",
        "\n",
        "plt.tight_layout()\n",
        "plt.ylabel('True label')\n",
        "plt.xlabel('Predicted label')\n",
        "plt.show()"
      ],
      "execution_count": null,
      "outputs": [
        {
          "output_type": "display_data",
          "data": {
            "image/png": "[encoded data removed]",
            "text/plain": [
              "<Figure size 432x288 with 2 Axes>"
            ]
          },
          "metadata": {
            "needs_background": "light"
          }
        }
      ]
    },
    {
      "cell_type": "markdown",
      "metadata": {
        "id": "vS9KGFppigzB"
      },
      "source": [
        "# Support Vector Classifier"
      ]
    },
    {
      "cell_type": "markdown",
      "metadata": {
        "id": "HfyrLJTPVjSn"
      },
      "source": [
        "### Optimization of k_neighbors in SMOTENC"
      ]
    },
    {
      "cell_type": "code",
      "metadata": {
        "id": "itbfhRwmQdDc"
      },
      "source": [
        "from sklearn.svm import SVC\n",
        "from sklearn.metrics import precision_recall_fscore_support\n",
        "\n",
        "src = []\n",
        "for k in range(2,93):\n",
        "  for i in range(2,23):\n",
        "    df = pd.read_excel('/content/drive/MyDrive/Data.xlsx')\n",
        "    df = pd.DataFrame(df)\n",
        "    df['Level']=np.where(df['Level']==\"Bad\",3,np.where(df['Level']==\"Moderate\",2,1))\n",
        "    df['Sex']=np.where(df['Sex']==\"W\",0,1)\n",
        "    def bmi(bw,bh):\n",
        "      return bw/((bh/100)*(bh/100))\n",
        "    df['BMI']=bmi(df.iloc[:,2],df.iloc[:,3]) \n",
        "    del df['Norm']\n",
        "    del df['Type']\n",
        "    del df['Wmax'] # continuous\n",
        "    train_set, test_set = train_test_split(df, test_size=0.2, random_state=42) \n",
        "    train_labels = train_set[\"Level\"].copy()       # Save a copy of label variable\n",
        "    train_set = train_set.drop(\"Level\", axis=1)    # Drop label variable from training set\n",
        "    train_num = train_set.to_numpy()\n",
        "    pipeline = Pipeline([\n",
        "          ('std_scaler', MinMaxScaler()),])\n",
        "    train_prepared = pipeline.fit_transform(train_num)\n",
        "    X_test = test_set.drop(\"Level\", axis=1)\n",
        "    y_test = test_set[\"Level\"].copy()\n",
        "    X_test_prepared = pipeline.fit_transform(X_test)\n",
        "    sm = SMOTENC(random_state=42, categorical_features=[2, 1], k_neighbors=k, n_jobs=-1)\n",
        "    train_prepared, train_labels = sm.fit_resample(train_prepared, train_labels)\n",
        "    sm = SMOTENC(random_state=42, categorical_features=[2, 1], k_neighbors=i, n_jobs=-1)\n",
        "    X_test_prepared, y_test = sm.fit_resample(X_test_prepared, y_test)\n",
        "    svm_clf = SVC(gamma='scale', kernel='poly', coef0=1, degree =2, cache_size= 5, C=0.1, max_iter = -1, tol = 0.0001)\n",
        "    svm_clf.fit(train_prepared, train_labels)\n",
        "\n",
        "    final_predictions = svm_clf.predict(X_test_prepared)\n",
        "    scores = precision_recall_fscore_support(y_test, final_predictions, average='macro')\n",
        "    x,y,z = scores[0],scores[1],scores[2]\n",
        "    \n",
        "    src.extend([[k,i,x,y,z]])\n",
        "    print(k,i, scores)\n"
      ],
      "execution_count": null,
      "outputs": []
    },
    {
      "cell_type": "code",
      "metadata": {
        "colab": {
          "base_uri": "https://localhost:8080/"
        },
        "id": "CNEfcMkSSJw0",
        "outputId": "bf5b39b5-9c18-4270-dc3c-4e88d9da65b8"
      },
      "source": [
        "my = pd.DataFrame(src)\n",
        "\n",
        "my_max= my[2].idxmax()\n",
        "my.loc[my_max]"
      ],
      "execution_count": null,
      "outputs": [
        {
          "output_type": "execute_result",
          "data": {
            "text/plain": [
              "0    72.000000\n",
              "1    17.000000\n",
              "2     0.550671\n",
              "3     0.540587\n",
              "4     0.517986\n",
              "Name: 1485, dtype: float64"
            ]
          },
          "metadata": {},
          "execution_count": 54
        }
      ]
    },
    {
      "cell_type": "markdown",
      "metadata": {
        "id": "5CExDIYjkyq4"
      },
      "source": [
        "### Over-sampling"
      ]
    },
    {
      "cell_type": "code",
      "metadata": {
        "colab": {
          "base_uri": "https://localhost:8080/"
        },
        "id": "o1jKx1NDVb5S",
        "outputId": "bac4e7c6-122e-40a5-bdc2-b8bd771cd752"
      },
      "source": [
        "X, y = train_prepared, train_labels\n",
        "print('Original dataset shape %s' % Counter(y))\n",
        "\n",
        "sm = SMOTENC(random_state=42, categorical_features=[2, 1],k_neighbors=72, n_jobs=-1)\n",
        "\n",
        "train_prepared, train_labels = sm.fit_resample(X, y)\n",
        "print('Resampled dataset shape %s' % Counter(train_labels))"
      ],
      "execution_count": null,
      "outputs": [
        {
          "output_type": "stream",
          "name": "stdout",
          "text": [
            "Original dataset shape Counter({1: 780, 2: 496, 3: 93})\n",
            "Resampled dataset shape Counter({1: 780, 3: 780, 2: 780})\n"
          ]
        }
      ]
    },
    {
      "cell_type": "code",
      "metadata": {
        "colab": {
          "base_uri": "https://localhost:8080/"
        },
        "id": "Hq6cgit0Vhzi",
        "outputId": "8ec74ac0-f74b-4919-faed-93658f1b693f"
      },
      "source": [
        "Z, q = X_test_prepared, y_test\n",
        "print('Original dataset shape %s' % Counter(q))\n",
        "\n",
        "sm = SMOTENC(random_state=42, categorical_features=[2, 1], k_neighbors=19, n_jobs=-1)\n",
        "\n",
        "X_test_prepared, y_test = sm.fit_resample(X_test_prepared, y_test)\n",
        "print('Resampled dataset shape %s' % Counter(y_test))"
      ],
      "execution_count": null,
      "outputs": [
        {
          "output_type": "stream",
          "name": "stdout",
          "text": [
            "Original dataset shape Counter({1: 193, 2: 126, 3: 24})\n",
            "Resampled dataset shape Counter({1: 193, 2: 193, 3: 193})\n"
          ]
        }
      ]
    },
    {
      "cell_type": "markdown",
      "metadata": {
        "id": "10K6BiM0k1x8"
      },
      "source": [
        "### Model"
      ]
    },
    {
      "cell_type": "code",
      "metadata": {
        "colab": {
          "base_uri": "https://localhost:8080/"
        },
        "id": "qX1JDSMedWg_",
        "outputId": "f8e1f044-7f0a-45c9-90eb-5dbbec913373"
      },
      "source": [
        "from sklearn.svm import SVC\n",
        "svm_clf = SVC(gamma='scale', kernel='poly', coef0=1, degree =9, cache_size= 5, C=0.1, max_iter = -1, tol = 0.0001)\n",
        "svm_clf.fit(train_prepared, train_labels)"
      ],
      "execution_count": null,
      "outputs": [
        {
          "output_type": "execute_result",
          "data": {
            "text/plain": [
              "SVC(C=0.1, cache_size=5, coef0=1, degree=9, kernel='poly', tol=0.0001)"
            ]
          },
          "metadata": {},
          "execution_count": 49
        }
      ]
    },
    {
      "cell_type": "code",
      "metadata": {
        "colab": {
          "base_uri": "https://localhost:8080/"
        },
        "id": "swgH7Z7Ad34o",
        "outputId": "81944dfa-bb6b-4ec8-aa97-6d2e92c98178"
      },
      "source": [
        "print(svm_clf.predict([[40, 1,85,180,27]]))"
      ],
      "execution_count": null,
      "outputs": [
        {
          "output_type": "stream",
          "name": "stdout",
          "text": [
            "[1]\n"
          ]
        }
      ]
    },
    {
      "cell_type": "code",
      "metadata": {
        "id": "wmVIzjXlE-8O"
      },
      "source": [
        "final_predictions = svm_clf.predict(X_test_prepared)"
      ],
      "execution_count": null,
      "outputs": []
    },
    {
      "cell_type": "code",
      "metadata": {
        "colab": {
          "base_uri": "https://localhost:8080/"
        },
        "id": "otW-f0jvKcbb",
        "outputId": "3f4c6a89-c3ad-4f59-f292-3c46ed10b6c5"
      },
      "source": [
        "accuracy_score(y_test, final_predictions)"
      ],
      "execution_count": null,
      "outputs": [
        {
          "output_type": "execute_result",
          "data": {
            "text/plain": [
              "0.6407599309153713"
            ]
          },
          "metadata": {},
          "execution_count": 52
        }
      ]
    },
    {
      "cell_type": "code",
      "metadata": {
        "id": "LRVtsSF1d3h5"
      },
      "source": [
        "## K-fold cross-validation, with 10 folds\n",
        "import statistics\n",
        "from sklearn.model_selection import cross_val_score\n",
        "from sklearn.model_selection import StratifiedKFold\n",
        "\n",
        "strf = StratifiedKFold(n_splits=10)\n",
        "strf.get_n_splits(train_prepared, train_labels)\n",
        "\n",
        "statistics.mean(cross_val_score(svm_clf, train_prepared, train_labels, cv= strf,  scoring=\"accuracy\"))"
      ],
      "execution_count": null,
      "outputs": []
    },
    {
      "cell_type": "code",
      "metadata": {
        "id": "ZVQnxJunWu5H",
        "colab": {
          "base_uri": "https://localhost:8080/"
        },
        "outputId": "a4f36b78-3820-493a-fe47-d3b984adb8db"
      },
      "source": [
        "# PRECISION, RECALL AND F1 SCORE\n",
        "\n",
        "from sklearn.metrics import precision_recall_fscore_support\n",
        "precision_recall_fscore_support(y_test, final_predictions, average='macro')\n",
        "#'weighted': Calculate metrics for each label, and find their average weighted by support (the number of true instances for each label). This alters ‘macro’ to account for label imbalance;"
      ],
      "execution_count": null,
      "outputs": [
        {
          "output_type": "execute_result",
          "data": {
            "text/plain": [
              "(0.6479773120994495, 0.6407599309153713, 0.6333148002285749, None)"
            ]
          },
          "metadata": {},
          "execution_count": 35
        }
      ]
    },
    {
      "cell_type": "markdown",
      "metadata": {
        "id": "MuZOA-dolFdm"
      },
      "source": [
        "### Hyperparameter optimization"
      ]
    },
    {
      "cell_type": "code",
      "metadata": {
        "id": "CjIvPpJBv5VQ"
      },
      "source": [
        "from sklearn.model_selection import GridSearchCV\n",
        "import warnings\n",
        "warnings.filterwarnings(\"ignore\")\n",
        "\n",
        "param_grid = [\n",
        "    \n",
        "    {#'multi_class':['ovr'],\n",
        "     'C': [0.5],\n",
        "     'cache_size': [10],\n",
        "     'coef0': [1], \n",
        "     'degree': [5],\n",
        "     'gamma': ['scale'],\n",
        "     'kernel': ['poly'],\n",
        "     'max_iter': [-1],\n",
        "     'tol': [0.1,0.5,1]\n",
        "  }]\n",
        "\n",
        "model = SVC()\n",
        "# train across 5 folds, that's a total of (12+6)*5=90 rounds of training \n",
        "grid_search_svc = GridSearchCV(model, param_grid, cv=10,\n",
        "                           scoring='neg_mean_squared_error',\n",
        "                           return_train_score=True)\n",
        "grid_search_svc.fit(train_prepared, train_labels)"
      ],
      "execution_count": null,
      "outputs": []
    },
    {
      "cell_type": "code",
      "metadata": {
        "id": "PEG0ZuIoxfoJ"
      },
      "source": [
        "grid_search_svc.best_params_"
      ],
      "execution_count": null,
      "outputs": []
    },
    {
      "cell_type": "code",
      "metadata": {
        "id": "MpcnMmlQxgN2"
      },
      "source": [
        "grid_search_svc.best_estimator_"
      ],
      "execution_count": null,
      "outputs": []
    },
    {
      "cell_type": "markdown",
      "metadata": {
        "id": "TDiyn2_DlOSO"
      },
      "source": [
        "### Confusion matrix"
      ]
    },
    {
      "cell_type": "code",
      "metadata": {
        "id": "528dRnTBPQGe",
        "colab": {
          "base_uri": "https://localhost:8080/",
          "height": 315
        },
        "outputId": "fcde54dc-b3c8-451a-bc6e-6ce62bb67767"
      },
      "source": [
        "from sklearn.metrics import confusion_matrix\n",
        "import itertools\n",
        "import numpy as np\n",
        "\n",
        "\n",
        "classes = [1, 2, 3]\n",
        "cm = confusion_matrix(final_predictions, y_test, labels =classes, normalize='true') \n",
        "cm = np.around(cm, decimals=2)\n",
        "plt.imshow(cm, interpolation='nearest', cmap=plt.cm.Blues)\n",
        "plt.title('Confusion Matrix')\n",
        "plt.colorbar()\n",
        "\n",
        "classes_name = [\"Good\", \"Moderate\", \"Bad\"]\n",
        "tick_marks = np.arange(len(classes_name))\n",
        "plt.xticks(tick_marks, classes_name, rotation=45)\n",
        "plt.yticks(tick_marks, classes_name)\n",
        "\n",
        "thresh = cm.max() / 2.\n",
        "for i, j in itertools.product(range(cm.shape[0]), range(cm.shape[1])):\n",
        "    plt.text(j, i, cm[i, j],\n",
        "             horizontalalignment=\"center\",\n",
        "             color=\"white\" if cm[i, j] > thresh else \"black\")\n",
        "\n",
        "plt.tight_layout()\n",
        "plt.ylabel('True label')\n",
        "plt.xlabel('Predicted label')\n",
        "plt.show()"
      ],
      "execution_count": null,
      "outputs": [
        {
          "output_type": "display_data",
          "data": {
            "image/png": "[encoded data removed]",
            "text/plain": [
              "<Figure size 432x288 with 2 Axes>"
            ]
          },
          "metadata": {
            "needs_background": "light"
          }
        }
      ]
    },
    {
      "cell_type": "markdown",
      "metadata": {
        "id": "fpqjKCKXinWw"
      },
      "source": [
        "# Random Forest Classifier"
      ]
    },
    {
      "cell_type": "markdown",
      "metadata": {
        "id": "_gy5as7tgwWS"
      },
      "source": [
        "### Optimization of k_neighbors in SMOTENC"
      ]
    },
    {
      "cell_type": "code",
      "metadata": {
        "id": "2jkblxoBdrS8"
      },
      "source": [
        "from sklearn.ensemble import RandomForestClassifier\n",
        "from sklearn.metrics import precision_recall_fscore_support\n",
        "\n",
        "src = []\n",
        "for k in range(2,93):\n",
        "  for i in range(2,23):\n",
        "    df = pd.read_excel('/content/drive/MyDrive/Data.xlsx')\n",
        "    df = pd.DataFrame(df)\n",
        "    df['Level']=np.where(df['Level']==\"Bad\",3,np.where(df['Level']==\"Moderate\",2,1))\n",
        "    df['Sex']=np.where(df['Sex']==\"W\",0,1)\n",
        "    def bmi(bw,bh):\n",
        "      return bw/((bh/100)*(bh/100))\n",
        "    df['BMI']=bmi(df.iloc[:,2],df.iloc[:,3]) \n",
        "    del df['Norm']\n",
        "    del df['Type']\n",
        "    del df['Wmax'] # continuous\n",
        "    train_set, test_set = train_test_split(df, test_size=0.2, random_state=42) \n",
        "    train_labels = train_set[\"Level\"].copy()       # Save a copy of label variable\n",
        "    train_set = train_set.drop(\"Level\", axis=1)    # Drop label variable from training set\n",
        "    train_num = train_set.to_numpy()\n",
        "    pipeline = Pipeline([\n",
        "          ('std_scaler', MinMaxScaler()),])\n",
        "    train_prepared = pipeline.fit_transform(train_num)\n",
        "    X_test = test_set.drop(\"Level\", axis=1)\n",
        "    y_test = test_set[\"Level\"].copy()\n",
        "    X_test_prepared = pipeline.fit_transform(X_test)\n",
        "    sm = SMOTENC(random_state=42, categorical_features=[2, 1], k_neighbors=k, n_jobs=-1)\n",
        "    train_prepared, train_labels = sm.fit_resample(train_prepared, train_labels)\n",
        "    sm = SMOTENC(random_state=42, categorical_features=[2, 1], k_neighbors=i, n_jobs=-1)\n",
        "    X_test_prepared, y_test = sm.fit_resample(X_test_prepared, y_test)\n",
        "    forest_clf = RandomForestClassifier(n_estimators=300, max_leaf_nodes=150, n_jobs=-1,random_state=42,\n",
        "                                    bootstrap= True, ccp_alpha = 0.0, criterion = 'entropy', min_impurity_decrease = 0.0, \n",
        "                                    min_samples_leaf = 150, min_samples_split = 3)\n",
        "    forest_clf.fit(train_prepared, train_labels)\n",
        "\n",
        "    final_predictions = forest_clf.predict(X_test_prepared)\n",
        "    scores = precision_recall_fscore_support(y_test, final_predictions, average='macro')\n",
        "    x,y,z = scores[0],scores[1],scores[2]\n",
        "    \n",
        "    src.extend([[k,i,x,y,z]])\n",
        "    print(k,i, scores)"
      ],
      "execution_count": null,
      "outputs": []
    },
    {
      "cell_type": "code",
      "metadata": {
        "colab": {
          "base_uri": "https://localhost:8080/"
        },
        "id": "s8fiXIywlyUv",
        "outputId": "39b0ccd5-bbc8-4345-b725-15b4d1e60894"
      },
      "source": [
        "my = pd.DataFrame(src)\n",
        "\n",
        "my_max= my[2].idxmax()\n",
        "my.loc[my_max]"
      ],
      "execution_count": null,
      "outputs": [
        {
          "output_type": "execute_result",
          "data": {
            "text/plain": [
              "0    68.000000\n",
              "1    16.000000\n",
              "2     0.507178\n",
              "3     0.512953\n",
              "4     0.509327\n",
              "Name: 1400, dtype: float64"
            ]
          },
          "metadata": {},
          "execution_count": 58
        }
      ]
    },
    {
      "cell_type": "markdown",
      "metadata": {
        "id": "xLkTyIGWlkx7"
      },
      "source": [
        "### Over-samplimg"
      ]
    },
    {
      "cell_type": "code",
      "metadata": {
        "colab": {
          "base_uri": "https://localhost:8080/"
        },
        "id": "UzEf2CT_mGQ9",
        "outputId": "ff4dcdb8-201c-4364-e49a-4f3f398dd627"
      },
      "source": [
        "X, y = train_prepared, train_labels\n",
        "print('Original dataset shape %s' % Counter(y))\n",
        "\n",
        "sm = SMOTENC(random_state=42, categorical_features=[2, 1],k_neighbors=68, n_jobs=-1)\n",
        "\n",
        "train_prepared, train_labels = sm.fit_resample(X, y)\n",
        "print('Resampled dataset shape %s' % Counter(train_labels))"
      ],
      "execution_count": null,
      "outputs": [
        {
          "output_type": "stream",
          "name": "stdout",
          "text": [
            "Original dataset shape Counter({1: 780, 2: 496, 3: 93})\n",
            "Resampled dataset shape Counter({1: 780, 3: 780, 2: 780})\n"
          ]
        }
      ]
    },
    {
      "cell_type": "code",
      "metadata": {
        "colab": {
          "base_uri": "https://localhost:8080/"
        },
        "id": "YZCLl1VCmHAE",
        "outputId": "6b79a7d3-da9e-4730-d9e3-9dbb78c7a3f6"
      },
      "source": [
        "Z, q = X_test_prepared, y_test\n",
        "print('Original dataset shape %s' % Counter(q))\n",
        "\n",
        "sm = SMOTENC(random_state=42, categorical_features=[2, 1], k_neighbors=16, n_jobs=-1)\n",
        "\n",
        "X_test_prepared, y_test = sm.fit_resample(X_test_prepared, y_test)\n",
        "print('Resampled dataset shape %s' % Counter(y_test))"
      ],
      "execution_count": null,
      "outputs": [
        {
          "output_type": "stream",
          "name": "stdout",
          "text": [
            "Original dataset shape Counter({1: 193, 2: 126, 3: 24})\n",
            "Resampled dataset shape Counter({1: 193, 2: 193, 3: 193})\n"
          ]
        }
      ]
    },
    {
      "cell_type": "markdown",
      "metadata": {
        "id": "q0JoLhgrloxM"
      },
      "source": [
        "### Model"
      ]
    },
    {
      "cell_type": "code",
      "metadata": {
        "id": "_YYaAHAMjioO",
        "colab": {
          "base_uri": "https://localhost:8080/"
        },
        "outputId": "4be6d99c-6066-4a26-adad-3a15e3f1e6ed"
      },
      "source": [
        "from sklearn.ensemble import RandomForestClassifier\n",
        "\n",
        "forest_clf = RandomForestClassifier(n_estimators=300, max_leaf_nodes=150, n_jobs=-1,random_state=42,\n",
        "                                    bootstrap= True, ccp_alpha = 0.0, criterion = 'entropy', min_impurity_decrease = 0.0, \n",
        "                                    min_samples_leaf = 150, min_samples_split = 3)\n",
        "forest_clf.fit(train_prepared, train_labels)\n"
      ],
      "execution_count": null,
      "outputs": [
        {
          "output_type": "execute_result",
          "data": {
            "text/plain": [
              "RandomForestClassifier(criterion='entropy', max_leaf_nodes=150,\n",
              "                       min_samples_leaf=150, min_samples_split=3,\n",
              "                       n_estimators=300, n_jobs=-1, random_state=42)"
            ]
          },
          "metadata": {},
          "execution_count": 125
        }
      ]
    },
    {
      "cell_type": "code",
      "metadata": {
        "id": "Y-u8SneGHjsT"
      },
      "source": [
        "final_predictions = forest_clf.predict(X_test_prepared)"
      ],
      "execution_count": null,
      "outputs": []
    },
    {
      "cell_type": "code",
      "metadata": {
        "colab": {
          "base_uri": "https://localhost:8080/"
        },
        "id": "9k7GEnMwlsJB",
        "outputId": "0630c55b-e11d-4ed5-a777-f4e4b1abf257"
      },
      "source": [
        "print(forest_clf.predict([[40, 1,85,180,27]]))"
      ],
      "execution_count": null,
      "outputs": [
        {
          "output_type": "stream",
          "name": "stdout",
          "text": [
            "[2]\n"
          ]
        }
      ]
    },
    {
      "cell_type": "code",
      "metadata": {
        "colab": {
          "base_uri": "https://localhost:8080/"
        },
        "id": "wy-QVquJJMor",
        "outputId": "f31cc138-cb30-4809-c447-2c29fa014293"
      },
      "source": [
        "# accuracy score (average of recalls across all three classes)\n",
        "#sample_weights = np.array([4.9 if i == \"Bad\" else 0.92 if i == \"Middle\" else 0.59 for i in y_test])\n",
        "accuracy_score(y_test, final_predictions)"
      ],
      "execution_count": null,
      "outputs": [
        {
          "output_type": "execute_result",
          "data": {
            "text/plain": [
              "0.5129533678756477"
            ]
          },
          "metadata": {},
          "execution_count": 129
        }
      ]
    },
    {
      "cell_type": "code",
      "metadata": {
        "colab": {
          "base_uri": "https://localhost:8080/"
        },
        "id": "8TVwyUt3gf6g",
        "outputId": "89d751c0-d7af-42ff-c609-2efec44ca346"
      },
      "source": [
        "## K-fold cross-validation, with 10 folds\n",
        "import statistics\n",
        "from sklearn.model_selection import cross_val_score\n",
        "from sklearn.model_selection import StratifiedKFold\n",
        "\n",
        "strf = StratifiedKFold(n_splits=10)\n",
        "strf.get_n_splits(train_prepared, train_labels)\n",
        "\n",
        "statistics.mean(cross_val_score(forest_clf, train_prepared, train_labels, cv= strf,  scoring=\"accuracy\"))"
      ],
      "execution_count": null,
      "outputs": [
        {
          "output_type": "execute_result",
          "data": {
            "text/plain": [
              "0.5692307692307692"
            ]
          },
          "metadata": {},
          "execution_count": 130
        }
      ]
    },
    {
      "cell_type": "code",
      "metadata": {
        "colab": {
          "base_uri": "https://localhost:8080/"
        },
        "id": "4SJuOVjFXGlO",
        "outputId": "c63cbded-2f9d-4368-b749-4d8a23499fa2"
      },
      "source": [
        "# PRECISION, RECALL AND F1 SCORE\n",
        "\n",
        "from sklearn.metrics import precision_recall_fscore_support\n",
        "precision_recall_fscore_support(y_test, final_predictions, average='macro')\n",
        "#'weighted': Calculate metrics for each label, and find their average weighted by support (the number of true instances for each label). This alters ‘macro’ to account for label imbalance;"
      ],
      "execution_count": null,
      "outputs": [
        {
          "output_type": "execute_result",
          "data": {
            "text/plain": [
              "(0.50717781555477, 0.5129533678756476, 0.5093273139690314, None)"
            ]
          },
          "metadata": {},
          "execution_count": 131
        }
      ]
    },
    {
      "cell_type": "markdown",
      "metadata": {
        "id": "KiMa2bG5lwUX"
      },
      "source": [
        "### Hyperparameter optimization"
      ]
    },
    {
      "cell_type": "code",
      "metadata": {
        "id": "Qe_MNSvLf2m1"
      },
      "source": [
        "from sklearn.model_selection import GridSearchCV\n",
        "import warnings\n",
        "warnings.filterwarnings(\"ignore\")\n",
        "\n",
        "param_grid = [\n",
        "    \n",
        "    {'ccp_alpha': [0.0],\n",
        "     'min_impurity_decrease': [0.0],\n",
        "     'bootstrap': [True],\n",
        "     #'max_iter': [-1],\n",
        "     'n_estimators': [300],\n",
        "     'criterion': ['entropy'],\n",
        "     'max_leaf_nodes': [150],\n",
        "     'min_samples_leaf': [150], \n",
        "     'min_samples_split': [3]\n",
        "\n",
        "  }]\n",
        "\n",
        "model = RandomForestClassifier()\n",
        "# train across 5 folds, that's a total of (12+6)*5=90 rounds of training \n",
        "grid_search_rf = GridSearchCV(model, param_grid, cv=10,\n",
        "                           scoring='neg_mean_squared_error',\n",
        "                           return_train_score=True)\n",
        "grid_search_rf.fit(train_prepared, train_labels)"
      ],
      "execution_count": null,
      "outputs": []
    },
    {
      "cell_type": "code",
      "metadata": {
        "id": "k1j9khlwwbD_"
      },
      "source": [
        "grid_search_rf.best_params_"
      ],
      "execution_count": null,
      "outputs": []
    },
    {
      "cell_type": "code",
      "metadata": {
        "id": "aq3sbP7hEduj"
      },
      "source": [
        "grid_search_rf.best_estimator_"
      ],
      "execution_count": null,
      "outputs": []
    },
    {
      "cell_type": "markdown",
      "metadata": {
        "id": "zMMRO8J3l25J"
      },
      "source": [
        "### Confusion matrix"
      ]
    },
    {
      "cell_type": "code",
      "metadata": {
        "colab": {
          "base_uri": "https://localhost:8080/",
          "height": 315
        },
        "id": "TWZEXPnu_JGb",
        "outputId": "090e7318-5d73-4a55-b959-7dcd84d321a6"
      },
      "source": [
        "from sklearn.metrics import confusion_matrix\n",
        "import itertools\n",
        "import numpy as np\n",
        "\n",
        "\n",
        "classes = [1, 2, 3]\n",
        "cm = confusion_matrix(final_predictions, y_test, labels =classes, normalize='true') \n",
        "cm = np.around(cm, decimals=2)\n",
        "plt.imshow(cm, interpolation='nearest', cmap=plt.cm.Blues)\n",
        "plt.title('Confusion Matrix')\n",
        "plt.colorbar()\n",
        "\n",
        "classes_name = [\"Good\", \"Moderate\", \"Bad\"]\n",
        "tick_marks = np.arange(len(classes_name))\n",
        "plt.xticks(tick_marks, classes_name, rotation=45)\n",
        "plt.yticks(tick_marks, classes_name)\n",
        "\n",
        "thresh = cm.max() / 2.\n",
        "for i, j in itertools.product(range(cm.shape[0]), range(cm.shape[1])):\n",
        "    plt.text(j, i, cm[i, j],\n",
        "             horizontalalignment=\"center\",\n",
        "             color=\"white\" if cm[i, j] > thresh else \"black\")\n",
        "\n",
        "plt.tight_layout()\n",
        "plt.ylabel('True label')\n",
        "plt.xlabel('Predicted label')\n",
        "plt.show()"
      ],
      "execution_count": null,
      "outputs": [
        {
          "output_type": "display_data",
          "data": {
            "image/png": "[encoded data removed]",
            "text/plain": [
              "<Figure size 432x288 with 2 Axes>"
            ]
          },
          "metadata": {
            "needs_background": "light"
          }
        }
      ]
    },
    {
      "cell_type": "markdown",
      "metadata": {
        "id": "JJzBpQxHg7U6"
      },
      "source": [
        "### Feature importances"
      ]
    },
    {
      "cell_type": "code",
      "metadata": {
        "colab": {
          "base_uri": "https://localhost:8080/"
        },
        "id": "aUW6-I3KAYIP",
        "outputId": "0f3847a2-6403-493c-8499-4a133c6b9290"
      },
      "source": [
        "feature_importances = forest_clf.feature_importances_\n",
        "feature_importances"
      ],
      "execution_count": null,
      "outputs": [
        {
          "output_type": "execute_result",
          "data": {
            "text/plain": [
              "array([0.1091378 , 0.17008772, 0.51642713, 0.04899008, 0.15535728])"
            ]
          },
          "metadata": {},
          "execution_count": 133
        }
      ]
    },
    {
      "cell_type": "code",
      "metadata": {
        "colab": {
          "base_uri": "https://localhost:8080/",
          "height": 302
        },
        "id": "-pADiV72AKsg",
        "outputId": "0584b7b9-76ed-483d-df60-e099b9f651e0"
      },
      "source": [
        "import seaborn as sns\n",
        "\n",
        "df2 = df.drop(\"Level\", axis=1)\n",
        "feature_names = list(df2.columns)\n",
        "feature_imp = pd.Series(feature_importances,index=feature_names).sort_values(ascending=False)\n",
        "sns.barplot(x=feature_imp*100, y=feature_imp.index)\n",
        "plt.xlabel('Feature Importance Score')\n",
        "plt.ylabel('Features')\n",
        "plt.title(\"Visualizing Feature Importance\")\n",
        "for index, value in enumerate(feature_imp*100):\n",
        "    plt.text(value, index, str(\"{:.0f}\".format(value)+\" %\")) # Rounding the float\n",
        "plt.show()"
      ],
      "execution_count": null,
      "outputs": [
        {
          "output_type": "display_data",
          "data": {
            "image/png": "[encoded data removed]",
            "text/plain": [
              "<Figure size 432x288 with 1 Axes>"
            ]
          },
          "metadata": {
            "needs_background": "light"
          }
        }
      ]
    },
    {
      "cell_type": "markdown",
      "metadata": {
        "id": "xnSM341OhIB0"
      },
      "source": [
        "### ROC curve"
      ]
    },
    {
      "cell_type": "code",
      "metadata": {
        "id": "6Xtc64qjGkjP"
      },
      "source": [
        "import numpy as np\n",
        "import matplotlib.pyplot as plt\n",
        "from itertools import cycle\n",
        "\n",
        "from sklearn import svm, datasets\n",
        "from sklearn.metrics import roc_curve, auc\n",
        "from sklearn.model_selection import train_test_split\n",
        "from sklearn.preprocessing import label_binarize\n",
        "from sklearn.multiclass import OneVsRestClassifier\n",
        "from scipy import interp\n",
        "from sklearn.metrics import roc_auc_score\n",
        "\n",
        "n_classes = train_labels.shape[1]\n",
        "\n",
        "classifier = OneVsRestClassifier(svm.SVC(kernel='linear', probability=True))\n",
        "y_score = classifier.fit(X_train, y_train).decision_function(X_test)\n",
        "\n",
        "# Compute ROC curve and ROC area for each class\n",
        "fpr = dict()\n",
        "tpr = dict()\n",
        "roc_auc = dict()\n",
        "for i in range(n_classes):\n",
        "    fpr[i], tpr[i], _ = roc_curve(y_test[:, i], y_score[:, i])\n",
        "    roc_auc[i] = auc(fpr[i], tpr[i])\n",
        "\n",
        "# Compute micro-average ROC curve and ROC area\n",
        "fpr[\"micro\"], tpr[\"micro\"], _ = roc_curve(y_test.ravel(), y_score.ravel())\n",
        "roc_auc[\"micro\"] = auc(fpr[\"micro\"], tpr[\"micro\"])"
      ],
      "execution_count": null,
      "outputs": []
    },
    {
      "cell_type": "code",
      "metadata": {
        "id": "LG0D548yOFz1"
      },
      "source": [
        "plt.figure()\n",
        "lw = 2\n",
        "plt.plot(fpr[1], tpr[1], color='darkorange',\n",
        "         lw=lw, label='ROC curve (area = %0.2f)' % roc_auc[2])\n",
        "plt.plot([0, 1], [0, 1], color='navy', lw=lw, linestyle='--')\n",
        "plt.xlim([0.0, 1.0])\n",
        "plt.ylim([0.0, 1.05])\n",
        "plt.xlabel('False Positive Rate')\n",
        "plt.ylabel('True Positive Rate')\n",
        "plt.title('Receiver operating characteristic example')\n",
        "plt.legend(loc=\"lower right\")\n",
        "plt.show()"
      ],
      "execution_count": null,
      "outputs": []
    },
    {
      "cell_type": "code",
      "metadata": {
        "id": "pyRoIKV2OP-U"
      },
      "source": [
        "# First aggregate all false positive rates\n",
        "all_fpr = np.unique(np.concatenate([fpr[i] for i in range(n_classes)]))\n",
        "\n",
        "# Then interpolate all ROC curves at this points\n",
        "mean_tpr = np.zeros_like(all_fpr)\n",
        "for i in range(n_classes):\n",
        "    mean_tpr += interp(all_fpr, fpr[i], tpr[i])\n",
        "\n",
        "# Finally average it and compute AUC\n",
        "mean_tpr /= n_classes\n",
        "\n",
        "fpr[\"macro\"] = all_fpr\n",
        "tpr[\"macro\"] = mean_tpr\n",
        "roc_auc[\"macro\"] = auc(fpr[\"macro\"], tpr[\"macro\"])\n",
        "\n",
        "# Plot all ROC curves\n",
        "plt.figure()\n",
        "plt.plot(fpr[\"micro\"], tpr[\"micro\"],\n",
        "         label='micro-average ROC curve (area = {0:0.2f})'\n",
        "               ''.format(roc_auc[\"micro\"]),\n",
        "         color='deeppink', linestyle=':', linewidth=4)\n",
        "\n",
        "plt.plot(fpr[\"macro\"], tpr[\"macro\"], # weighted\n",
        "         label='macro-average ROC curve (area = {0:0.2f})'\n",
        "               ''.format(roc_auc[\"macro\"]),\n",
        "         color='navy', linestyle=':', linewidth=4)\n",
        "\n",
        "colors = cycle(['aqua', 'darkorange', 'cornflowerblue'])\n",
        "for i, color in zip(range(n_classes), colors):\n",
        "    plt.plot(fpr[i], tpr[i], color=color, lw=lw,\n",
        "             label='ROC curve of class {0} (area = {1:0.2f})'\n",
        "             ''.format(i, roc_auc[i]))\n",
        "\n",
        "plt.plot([0, 1], [0, 1], 'k--', lw=lw)\n",
        "plt.xlim([0.0, 1.0])\n",
        "plt.ylim([0.0, 1.05])\n",
        "plt.xlabel('False Positive Rate')\n",
        "plt.ylabel('True Positive Rate')\n",
        "plt.title('Some extension of Receiver operating characteristic to multi-class')\n",
        "plt.legend(loc=\"lower right\")\n",
        "plt.show()"
      ],
      "execution_count": null,
      "outputs": []
    },
    {
      "cell_type": "markdown",
      "metadata": {
        "id": "iT6QGDCpBC71"
      },
      "source": [
        "# Voting Classifiers"
      ]
    },
    {
      "cell_type": "code",
      "metadata": {
        "id": "BsGeOUL3BC71"
      },
      "source": [
        "from sklearn.ensemble import VotingClassifier"
      ],
      "execution_count": null,
      "outputs": []
    },
    {
      "cell_type": "code",
      "metadata": {
        "colab": {
          "base_uri": "https://localhost:8080/"
        },
        "id": "ELxmeGYGBC71",
        "outputId": "af55424c-596d-4db4-bf95-747f6c61944f"
      },
      "source": [
        "log_clf = log_reg\n",
        "rnd_clf = forest_clf\n",
        "svm_clf = svm_clf\n",
        "voting_clf = VotingClassifier(\n",
        "estimators=[('lr', log_clf), ('rf', rnd_clf), ('svc', svm_clf)],voting='hard')\n",
        "voting_clf.fit(train_prepared, train_labels)"
      ],
      "execution_count": null,
      "outputs": [
        {
          "output_type": "execute_result",
          "data": {
            "text/plain": [
              "VotingClassifier(estimators=[('lr',\n",
              "                              LogisticRegression(C=1, intercept_scaling=5,\n",
              "                                                 multi_class='ovr', n_jobs=1,\n",
              "                                                 random_state=42,\n",
              "                                                 solver='liblinear', tol=0.001,\n",
              "                                                 warm_start=True)),\n",
              "                             ('rf',\n",
              "                              RandomForestClassifier(criterion='entropy',\n",
              "                                                     max_leaf_nodes=150,\n",
              "                                                     min_samples_leaf=150,\n",
              "                                                     min_samples_split=3,\n",
              "                                                     n_estimators=300,\n",
              "                                                     n_jobs=-1,\n",
              "                                                     random_state=42)),\n",
              "                             ('svc',\n",
              "                              SVC(C=0.1, cache_size=5, coef0=1, degree=9,\n",
              "                                  kernel='poly', tol=0.0001))])"
            ]
          },
          "metadata": {},
          "execution_count": 151
        }
      ]
    },
    {
      "cell_type": "code",
      "metadata": {
        "colab": {
          "base_uri": "https://localhost:8080/"
        },
        "id": "CHC7xn3SBC71",
        "outputId": "77b18c67-fe35-4cee-a254-7c42fd55f822"
      },
      "source": [
        "from sklearn.metrics import accuracy_score\n",
        "for clf in (log_clf, rnd_clf, svm_clf, voting_clf):\n",
        "  clf.fit(train_prepared, train_labels)\n",
        "  y_pred = clf.predict(X_test_prepared)\n",
        "  print(clf.__class__.__name__, accuracy_score(y_test, y_pred))"
      ],
      "execution_count": null,
      "outputs": [
        {
          "output_type": "stream",
          "name": "stdout",
          "text": [
            "LogisticRegression 0.4784110535405872\n",
            "RandomForestClassifier 0.4525043177892919\n",
            "SVC 0.5595854922279793\n",
            "VotingClassifier 0.5215889464594128\n"
          ]
        }
      ]
    }
  ]
}
